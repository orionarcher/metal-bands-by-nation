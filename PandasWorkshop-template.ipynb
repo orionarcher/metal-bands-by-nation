{
 "cells": [
  {
   "cell_type": "markdown",
   "metadata": {
    "collapsed": false,
    "id": "yJZhgj0Spc91"
   },
   "source": [
    "# Intro"
   ]
  },
  {
   "cell_type": "markdown",
   "metadata": {
    "collapsed": false
   },
   "source": [
    "## Welcome to our Pandas Workshop!\n",
    "\n",
    "Pandas is a Python library that is great for working with datasets of many kinds. In this workshop, you'll learn how to set up a pandas DataFrame and some essential functions to use on your data. \n",
    "\n",
    "## What are we covering today?\n",
    "\n",
    "First we'll discuss some pandas concepts:\n",
    "\n",
    "- DataFrames\n",
    "- Series \\(and the `index` and `values` of a Series\\)\n",
    "- Arrays \\(numpy array\\)\n",
    "\n",
    "Then we'll work through a standard data workflow:\n",
    "\n",
    "- Reading in our data and cleaning it\n",
    "- Looking at our DataFrame\n",
    "- Selecting a particular column or columns\n",
    "- Summarizing data\n",
    "- Restructuring data\n",
    "- Plotting data\n",
    "- Exporting data\n",
    "\n"
   ]
  },
  {
   "cell_type": "markdown",
   "metadata": {
    "collapsed": false
   },
   "source": [
    "# Using Jupyter Notebooks\n",
    "\n",
    "General: \n",
    "\n",
    "- Run cell: Shift \\+ Enter\n",
    "- Activate command mode: ESC\n",
    "\n",
    "<span style='color:#42a5f5'>Command mode</span>: \\(Hit escape to stop editing a cell and enter this mode\\)\n",
    "\n",
    "- B: insert cell below\n",
    "\n",
    "<span style='color:#66bb69'>Edit Mode</span>:\n",
    "\n",
    "- Tab: code completion/indent  \n",
    "\n"
   ]
  },
  {
   "cell_type": "markdown",
   "metadata": {
    "collapsed": false,
    "id": "nvk8A1W4phc4"
   },
   "source": [
    "# Importing Data\n",
    "\n",
    "Let's get some data to play with!\n",
    "\n"
   ]
  },
  {
   "cell_type": "code",
   "execution_count": 1,
   "metadata": {
    "collapsed": false
   },
   "outputs": [
   ],
   "source": [
    "# type your code in the provided cells!"
   ]
  },
  {
   "cell_type": "code",
   "execution_count": 0,
   "metadata": {
    "collapsed": false
   },
   "outputs": [
   ],
   "source": [
    "# use this space to import pandas\n"
   ]
  },
  {
   "cell_type": "markdown",
   "metadata": {
    "collapsed": false
   },
   "source": [
    "## A Realistic Depiction of Getting Data into Python\n",
    "\n",
    "Exciting! We have some fresh new cyclic voltammetry data to analyze. Fortuitously, `pandas` has a function called `read_csv` design for loading tabular data. Let's do it!\n",
    "\n"
   ]
  },
  {
   "cell_type": "code",
   "execution_count": 0,
   "metadata": {
    "collapsed": false
   },
   "outputs": [
   ],
   "source": [
    "# try reading in this file:\n",
    "\"https://raw.githubusercontent.com/orioncohen/metal-bands-by-nation/main/cyclic_voltammetry_output.txt\""
   ]
  },
  {
   "cell_type": "code",
   "execution_count": 0,
   "metadata": {
    "collapsed": false
   },
   "outputs": [
   ],
   "source": [
    "# attempt 2 at reading in the file\n"
   ]
  },
  {
   "cell_type": "code",
   "execution_count": 0,
   "metadata": {
    "collapsed": false
   },
   "outputs": [
   ],
   "source": [
    "# Make a data frame, here are the files we are using\n",
    "\"https://raw.githubusercontent.com/orioncohen/metal-bands-by-nation/main/world_population_1960_2015.csv\"\n",
    "\"https://raw.githubusercontent.com/orioncohen/metal-bands-by-nation/main/new_bands.csv\""
   ]
  },
  {
   "cell_type": "code",
   "execution_count": 5,
   "metadata": {
    "collapsed": false
   },
   "outputs": [
    {
     "name": "stdout",
     "output_type": "stream",
     "text": [
      "your code here\n"
     ]
    }
   ],
   "source": [
    "print(\"your code here\")"
   ]
  },
  {
   "cell_type": "markdown",
   "metadata": {
    "collapsed": false,
    "id": "x9FouXLapZdK"
   },
   "source": [
    "# How is our data structured?\n",
    "\n"
   ]
  },
  {
   "cell_type": "code",
   "execution_count": 2,
   "metadata": {
    "collapsed": false
   },
   "outputs": [
   ],
   "source": [
    "# let's look at the first few rows of the bands data frame\n"
   ]
  },
  {
   "cell_type": "code",
   "execution_count": 0,
   "metadata": {
    "collapsed": false
   },
   "outputs": [
   ],
   "source": [
    "# let's look at the last few rows of the bands data frame\n"
   ]
  },
  {
   "cell_type": "code",
   "execution_count": 0,
   "metadata": {
    "collapsed": false
   },
   "outputs": [
   ],
   "source": [
    "# how do we see a summary of what's contained in our table?\n"
   ]
  },
  {
   "cell_type": "code",
   "execution_count": 0,
   "metadata": {
    "collapsed": false
   },
   "outputs": [
   ],
   "source": [
    "# what do the first few rows of the world population data frame look like?\n"
   ]
  },
  {
   "cell_type": "code",
   "execution_count": 0,
   "metadata": {
    "collapsed": false
   },
   "outputs": [
   ],
   "source": [
    "# How do we just look at the 'country' column of the world ppulation data frame? \n"
   ]
  },
  {
   "cell_type": "code",
   "execution_count": 0,
   "metadata": {
    "collapsed": false
   },
   "outputs": [
   ],
   "source": [
    "# What if we want to look at a few columns? Try looking at the 'genre' and 'theme' columns of the bands data frame\n"
   ]
  },
  {
   "cell_type": "code",
   "execution_count": 0,
   "metadata": {
    "collapsed": false
   },
   "outputs": [
   ],
   "source": [
    "# How many times does each country appear in the data frame?\n"
   ]
  },
  {
   "cell_type": "code",
   "execution_count": 0,
   "metadata": {
    "collapsed": false
   },
   "outputs": [
   ],
   "source": [
    "# When did most metal bands form?\n"
   ]
  },
  {
   "cell_type": "markdown",
   "metadata": {
    "collapsed": false
   },
   "source": [
    "# So what is a DataFrame?\n",
    "\n"
   ]
  },
  {
   "cell_type": "code",
   "execution_count": 1,
   "metadata": {
    "collapsed": false
   },
   "outputs": [
   ],
   "source": [
    "# what happens if we try to use Python's type function on a pandas data frame?\n"
   ]
  },
  {
   "cell_type": "code",
   "execution_count": 0,
   "metadata": {
    "collapsed": false
   },
   "outputs": [
   ],
   "source": [
    "# you can access elements/columns of a data frame just like an array, try it out!!\n"
   ]
  },
  {
   "cell_type": "code",
   "execution_count": 0,
   "metadata": {
    "collapsed": false
   },
   "outputs": [
   ],
   "source": [
    "# What's the type of an individual column of a data frame? \n"
   ]
  },
  {
   "cell_type": "code",
   "execution_count": 0,
   "metadata": {
    "collapsed": false
   },
   "outputs": [
   ],
   "source": [
    "# are the indices of an individual column and the entire data frame the same?\n"
   ]
  },
  {
   "cell_type": "markdown",
   "metadata": {
    "collapsed": false,
    "id": "xvWZmPrMpM_z"
   },
   "source": [
    "# Cleaning the data\n",
    "\n",
    "What happens if there are no values in some of our cells? This can be a nuisance when trying to do certain types of analysis. Let's start by removing any rows with missing values in our bands DataFrame. There is also a function, <span style='font-family:courier new'>fillna\\(\\)</span><span style='font-family:helvetica'>that can be used to fill null values with the information provided in the function call. </span>\n"
   ]
  },
  {
   "cell_type": "code",
   "execution_count": 2,
   "metadata": {
    "collapsed": false
   },
   "outputs": [
   ],
   "source": [
    "# Looking back at our bands data frame it looks like there's a null value in the first row, let's get rid of it.\n"
   ]
  },
  {
   "cell_type": "markdown",
   "metadata": {
    "collapsed": false
   },
   "source": [
    "### <span style='color:#020202'>What is the average age of a metal band?</span>\n",
    "\n"
   ]
  },
  {
   "cell_type": "markdown",
   "metadata": {
    "collapsed": false
   },
   "source": [
    "What values do we need? Are they already in the table? If not, how can we get them? \n"
   ]
  },
  {
   "cell_type": "markdown",
   "metadata": {
    "collapsed": false
   },
   "source": [
    "<span style='font-size:x-large'>Creating a column</span>\n",
    "\n"
   ]
  },
  {
   "cell_type": "code",
   "execution_count": 0,
   "metadata": {
    "collapsed": false
   },
   "outputs": [
   ],
   "source": [
   ]
  },
  {
   "cell_type": "markdown",
   "metadata": {
    "collapsed": false
   },
   "source": [
    "<span style='font-size:x-large'>Some statistical analysis</span>\n"
   ]
  },
  {
   "cell_type": "code",
   "execution_count": 3,
   "metadata": {
    "collapsed": false
   },
   "outputs": [
   ],
   "source": [
    "# try taking the mean, median, standard deviation, and variance of the data in the column we just created.\n"
   ]
  },
  {
   "cell_type": "markdown",
   "metadata": {
    "collapsed": false
   },
   "source": [
    "## <span style='font-size:xx-large'>How many metal bands does each country have per capita in 2015? </span>\n",
    "\n",
    "# <span style='font-size:x-large'>Combining the bands and population data</span>\n",
    "\n"
   ]
  },
  {
   "cell_type": "markdown",
   "metadata": {
    "collapsed": false
   },
   "source": [
    "Think about the data we want to have from our bands data frame and how best to obtain it.\n"
   ]
  },
  {
   "cell_type": "code",
   "execution_count": 0,
   "metadata": {
    "collapsed": false
   },
   "outputs": [
   ],
   "source": [
   ]
  },
  {
   "cell_type": "markdown",
   "metadata": {
    "collapsed": false
   },
   "source": [
    "How do we get the specific countries out of our world population data frame to add population information to our bands dataframe? We need to use the merge function!!\n",
    "\n"
   ]
  },
  {
   "cell_type": "code",
   "execution_count": 0,
   "metadata": {
    "collapsed": false
   },
   "outputs": [
   ],
   "source": [
   ]
  },
  {
   "cell_type": "code",
   "execution_count": 0,
   "metadata": {
    "collapsed": false
   },
   "outputs": [
   ],
   "source": [
   ]
  },
  {
   "cell_type": "markdown",
   "metadata": {
    "collapsed": false
   },
   "source": [
    "What about the countries with the fewest metal bands per capita? \n",
    "\n"
   ]
  },
  {
   "cell_type": "code",
   "execution_count": 0,
   "metadata": {
    "collapsed": false
   },
   "outputs": [
   ],
   "source": [
   ]
  },
  {
   "cell_type": "code",
   "execution_count": 0,
   "metadata": {
    "collapsed": false
   },
   "outputs": [
   ],
   "source": [
   ]
  },
  {
   "cell_type": "code",
   "execution_count": 0,
   "metadata": {
    "collapsed": false
   },
   "outputs": [
   ],
   "source": [
   ]
  },
  {
   "cell_type": "markdown",
   "metadata": {
    "collapsed": false
   },
   "source": [
    "## <span style='font-size:xx-large'>How many metal bands formed in each year? </span>\n",
    "\n",
    "<span style='font-size:x-large'>An extra value\\_counts exercise. Challenge: do it in one line!</span>\n",
    "\n"
   ]
  },
  {
   "cell_type": "code",
   "execution_count": 0,
   "metadata": {
    "collapsed": false
   },
   "outputs": [
   ],
   "source": [
   ]
  },
  {
   "cell_type": "markdown",
   "metadata": {
    "collapsed": false,
    "id": "DARSJ0gvpmU7"
   },
   "source": [
    "# Exporting Data\n",
    "\n"
   ]
  },
  {
   "cell_type": "code",
   "execution_count": 0,
   "metadata": {
    "collapsed": false,
    "id": "nQ6i9R6DtCoU"
   },
   "outputs": [
   ],
   "source": [
    "# export cv data and metal DataFrame\n"
   ]
  },
  {
   "cell_type": "markdown",
   "metadata": {
    "collapsed": false
   },
   "source": [
    "# Summary\n",
    "\n"
   ]
  },
  {
   "cell_type": "markdown",
   "metadata": {
    "collapsed": false
   },
   "source": [
    "- Reading in our data and cleaning it\n",
    "  - read\\_csv\\(\\)\n",
    "  - dropna\\(\\)\n",
    "  - astype\\(\\)\n",
    "- Looking at our DataFrame\n",
    "  - head\\(\\)\n",
    "  - tail\\(\\)  \n",
    "  - info\\(\\)\n",
    "- Selecting a particular column or columns\n",
    "- Summarizing data\n",
    "  - value\\_counts\\(\\)\n",
    "  - mean\\(\\)\n",
    "  - median\\(\\)\n",
    "  - mode\\(\\)\n",
    "- Restructuring data\n",
    "  - merge\\(\\)\n",
    "  - rename\\_axis\\(\\)\n",
    "  - reset\\_index\\(\\)\n",
    "- Plotting data\n",
    "  - plot\\(\\)\n",
    "- Exporting data\n",
    "\n",
    "What we didn't cover:\n",
    "\n",
    "- groupby\\(\\)\n",
    "- MultiIndex\n",
    "- slicing  \n",
    "\n"
   ]
  }
 ],
 "metadata": {
  "colab": {
   "name": "PandasWorkshop.ipynb",
   "provenance": [
   ]
  },
  "kernelspec": {
   "display_name": "Python 3 (system-wide)",
   "language": "python",
   "metadata": {
    "cocalc": {
     "description": "Python 3 programming language",
     "priority": 100,
     "url": "https://www.python.org/"
    }
   },
   "name": "python3",
   "resource_dir": "/ext/jupyter/kernels/python3"
  },
  "language_info": {
   "codemirror_mode": {
    "name": "ipython",
    "version": 3
   },
   "file_extension": ".py",
   "mimetype": "text/x-python",
   "name": "python",
   "nbconvert_exporter": "python",
   "pygments_lexer": "ipython3",
   "version": "3.8.10"
  }
 },
 "nbformat": 4,
 "nbformat_minor": 4
}