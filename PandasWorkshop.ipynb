{
 "cells": [
  {
   "cell_type": "markdown",
   "metadata": {
    "id": "yJZhgj0Spc91"
   },
   "source": [
    "# Intro"
   ]
  },
  {
   "cell_type": "markdown",
   "metadata": {
    "id": "nvk8A1W4phc4"
   },
   "source": [
    "# Importing Data\n",
    "# start with importing messy data set but then use metal stuff for the rest of the teaching example"
   ]
  },
  {
   "cell_type": "code",
   "execution_count": 3,
   "metadata": {
    "id": "TM3TlJfmkxkc"
   },
   "outputs": [],
   "source": [
    "import requests\n",
    "\n",
    "# URL locations of data\n",
    "master_death_metal_bands = \"https://raw.githubusercontent.com/orioncohen/metal-bands-by-nation/main/bands.csv\"\n",
    "master_metal_bands = \"https://raw.githubusercontent.com/orioncohen/metal-bands-by-nation/main/metal_bands_2017.csv\"\n",
    "master_world_pop = \"https://raw.githubusercontent.com/orioncohen/metal-bands-by-nation/main/world_population_1960_2015.csv\"\n",
    "\n",
    "# Grab the metal bands data\n",
    "req = requests.get(master_death_metal_bands)\n",
    "death_metal_bands_data = req.text\n",
    "\n",
    "# Grab the metal bands data\n",
    "req = requests.get(master_metal_bands)\n",
    "metal_bands_data = req.text\n",
    "\n",
    "# Grab the world population data\n",
    "req = requests.get(master_world_pop)\n",
    "world_pop_data = req.text"
   ]
  },
  {
   "cell_type": "code",
   "execution_count": 5,
   "metadata": {},
   "outputs": [],
   "source": [
    "import pandas as pd"
   ]
  },
  {
   "cell_type": "markdown",
   "metadata": {},
   "source": [
    "## A Realistic Depiction of Getting Data into Python\n",
    "\n",
    "Exciting! We have some fresh new cyclic voltammetry data to analyze. Fortuitously, `pandas` has a function called `read_csv` design for loading tabular data. Let's do it!"
   ]
  },
  {
   "cell_type": "code",
   "execution_count": 15,
   "metadata": {},
   "outputs": [
    {
     "ename": "ParserError",
     "evalue": "Error tokenizing data. C error: Expected 1 fields in line 10, saw 2\n",
     "output_type": "error",
     "traceback": [
      "\u001b[0;31m---------------------------------------------------------------------------\u001b[0m",
      "\u001b[0;31mParserError\u001b[0m                               Traceback (most recent call last)",
      "\u001b[0;32m<ipython-input-15-eecb26d64af0>\u001b[0m in \u001b[0;36m<module>\u001b[0;34m\u001b[0m\n\u001b[0;32m----> 1\u001b[0;31m \u001b[0mpd\u001b[0m\u001b[0;34m.\u001b[0m\u001b[0mread_csv\u001b[0m\u001b[0;34m(\u001b[0m\u001b[0;34m\"cyclic_voltammetry_output.txt\"\u001b[0m\u001b[0;34m)\u001b[0m\u001b[0;34m\u001b[0m\u001b[0;34m\u001b[0m\u001b[0m\n\u001b[0m",
      "\u001b[0;32m~/miniconda3/envs/mdgo_dev/lib/python3.8/site-packages/pandas/io/parsers.py\u001b[0m in \u001b[0;36mread_csv\u001b[0;34m(filepath_or_buffer, sep, delimiter, header, names, index_col, usecols, squeeze, prefix, mangle_dupe_cols, dtype, engine, converters, true_values, false_values, skipinitialspace, skiprows, skipfooter, nrows, na_values, keep_default_na, na_filter, verbose, skip_blank_lines, parse_dates, infer_datetime_format, keep_date_col, date_parser, dayfirst, cache_dates, iterator, chunksize, compression, thousands, decimal, lineterminator, quotechar, quoting, doublequote, escapechar, comment, encoding, dialect, error_bad_lines, warn_bad_lines, delim_whitespace, low_memory, memory_map, float_precision, storage_options)\u001b[0m\n\u001b[1;32m    608\u001b[0m     \u001b[0mkwds\u001b[0m\u001b[0;34m.\u001b[0m\u001b[0mupdate\u001b[0m\u001b[0;34m(\u001b[0m\u001b[0mkwds_defaults\u001b[0m\u001b[0;34m)\u001b[0m\u001b[0;34m\u001b[0m\u001b[0;34m\u001b[0m\u001b[0m\n\u001b[1;32m    609\u001b[0m \u001b[0;34m\u001b[0m\u001b[0m\n\u001b[0;32m--> 610\u001b[0;31m     \u001b[0;32mreturn\u001b[0m \u001b[0m_read\u001b[0m\u001b[0;34m(\u001b[0m\u001b[0mfilepath_or_buffer\u001b[0m\u001b[0;34m,\u001b[0m \u001b[0mkwds\u001b[0m\u001b[0;34m)\u001b[0m\u001b[0;34m\u001b[0m\u001b[0;34m\u001b[0m\u001b[0m\n\u001b[0m\u001b[1;32m    611\u001b[0m \u001b[0;34m\u001b[0m\u001b[0m\n\u001b[1;32m    612\u001b[0m \u001b[0;34m\u001b[0m\u001b[0m\n",
      "\u001b[0;32m~/miniconda3/envs/mdgo_dev/lib/python3.8/site-packages/pandas/io/parsers.py\u001b[0m in \u001b[0;36m_read\u001b[0;34m(filepath_or_buffer, kwds)\u001b[0m\n\u001b[1;32m    466\u001b[0m \u001b[0;34m\u001b[0m\u001b[0m\n\u001b[1;32m    467\u001b[0m     \u001b[0;32mwith\u001b[0m \u001b[0mparser\u001b[0m\u001b[0;34m:\u001b[0m\u001b[0;34m\u001b[0m\u001b[0;34m\u001b[0m\u001b[0m\n\u001b[0;32m--> 468\u001b[0;31m         \u001b[0;32mreturn\u001b[0m \u001b[0mparser\u001b[0m\u001b[0;34m.\u001b[0m\u001b[0mread\u001b[0m\u001b[0;34m(\u001b[0m\u001b[0mnrows\u001b[0m\u001b[0;34m)\u001b[0m\u001b[0;34m\u001b[0m\u001b[0;34m\u001b[0m\u001b[0m\n\u001b[0m\u001b[1;32m    469\u001b[0m \u001b[0;34m\u001b[0m\u001b[0m\n\u001b[1;32m    470\u001b[0m \u001b[0;34m\u001b[0m\u001b[0m\n",
      "\u001b[0;32m~/miniconda3/envs/mdgo_dev/lib/python3.8/site-packages/pandas/io/parsers.py\u001b[0m in \u001b[0;36mread\u001b[0;34m(self, nrows)\u001b[0m\n\u001b[1;32m   1055\u001b[0m     \u001b[0;32mdef\u001b[0m \u001b[0mread\u001b[0m\u001b[0;34m(\u001b[0m\u001b[0mself\u001b[0m\u001b[0;34m,\u001b[0m \u001b[0mnrows\u001b[0m\u001b[0;34m=\u001b[0m\u001b[0;32mNone\u001b[0m\u001b[0;34m)\u001b[0m\u001b[0;34m:\u001b[0m\u001b[0;34m\u001b[0m\u001b[0;34m\u001b[0m\u001b[0m\n\u001b[1;32m   1056\u001b[0m         \u001b[0mnrows\u001b[0m \u001b[0;34m=\u001b[0m \u001b[0mvalidate_integer\u001b[0m\u001b[0;34m(\u001b[0m\u001b[0;34m\"nrows\"\u001b[0m\u001b[0;34m,\u001b[0m \u001b[0mnrows\u001b[0m\u001b[0;34m)\u001b[0m\u001b[0;34m\u001b[0m\u001b[0;34m\u001b[0m\u001b[0m\n\u001b[0;32m-> 1057\u001b[0;31m         \u001b[0mindex\u001b[0m\u001b[0;34m,\u001b[0m \u001b[0mcolumns\u001b[0m\u001b[0;34m,\u001b[0m \u001b[0mcol_dict\u001b[0m \u001b[0;34m=\u001b[0m \u001b[0mself\u001b[0m\u001b[0;34m.\u001b[0m\u001b[0m_engine\u001b[0m\u001b[0;34m.\u001b[0m\u001b[0mread\u001b[0m\u001b[0;34m(\u001b[0m\u001b[0mnrows\u001b[0m\u001b[0;34m)\u001b[0m\u001b[0;34m\u001b[0m\u001b[0;34m\u001b[0m\u001b[0m\n\u001b[0m\u001b[1;32m   1058\u001b[0m \u001b[0;34m\u001b[0m\u001b[0m\n\u001b[1;32m   1059\u001b[0m         \u001b[0;32mif\u001b[0m \u001b[0mindex\u001b[0m \u001b[0;32mis\u001b[0m \u001b[0;32mNone\u001b[0m\u001b[0;34m:\u001b[0m\u001b[0;34m\u001b[0m\u001b[0;34m\u001b[0m\u001b[0m\n",
      "\u001b[0;32m~/miniconda3/envs/mdgo_dev/lib/python3.8/site-packages/pandas/io/parsers.py\u001b[0m in \u001b[0;36mread\u001b[0;34m(self, nrows)\u001b[0m\n\u001b[1;32m   2059\u001b[0m     \u001b[0;32mdef\u001b[0m \u001b[0mread\u001b[0m\u001b[0;34m(\u001b[0m\u001b[0mself\u001b[0m\u001b[0;34m,\u001b[0m \u001b[0mnrows\u001b[0m\u001b[0;34m=\u001b[0m\u001b[0;32mNone\u001b[0m\u001b[0;34m)\u001b[0m\u001b[0;34m:\u001b[0m\u001b[0;34m\u001b[0m\u001b[0;34m\u001b[0m\u001b[0m\n\u001b[1;32m   2060\u001b[0m         \u001b[0;32mtry\u001b[0m\u001b[0;34m:\u001b[0m\u001b[0;34m\u001b[0m\u001b[0;34m\u001b[0m\u001b[0m\n\u001b[0;32m-> 2061\u001b[0;31m             \u001b[0mdata\u001b[0m \u001b[0;34m=\u001b[0m \u001b[0mself\u001b[0m\u001b[0;34m.\u001b[0m\u001b[0m_reader\u001b[0m\u001b[0;34m.\u001b[0m\u001b[0mread\u001b[0m\u001b[0;34m(\u001b[0m\u001b[0mnrows\u001b[0m\u001b[0;34m)\u001b[0m\u001b[0;34m\u001b[0m\u001b[0;34m\u001b[0m\u001b[0m\n\u001b[0m\u001b[1;32m   2062\u001b[0m         \u001b[0;32mexcept\u001b[0m \u001b[0mStopIteration\u001b[0m\u001b[0;34m:\u001b[0m\u001b[0;34m\u001b[0m\u001b[0;34m\u001b[0m\u001b[0m\n\u001b[1;32m   2063\u001b[0m             \u001b[0;32mif\u001b[0m \u001b[0mself\u001b[0m\u001b[0;34m.\u001b[0m\u001b[0m_first_chunk\u001b[0m\u001b[0;34m:\u001b[0m\u001b[0;34m\u001b[0m\u001b[0;34m\u001b[0m\u001b[0m\n",
      "\u001b[0;32mpandas/_libs/parsers.pyx\u001b[0m in \u001b[0;36mpandas._libs.parsers.TextReader.read\u001b[0;34m()\u001b[0m\n",
      "\u001b[0;32mpandas/_libs/parsers.pyx\u001b[0m in \u001b[0;36mpandas._libs.parsers.TextReader._read_low_memory\u001b[0;34m()\u001b[0m\n",
      "\u001b[0;32mpandas/_libs/parsers.pyx\u001b[0m in \u001b[0;36mpandas._libs.parsers.TextReader._read_rows\u001b[0;34m()\u001b[0m\n",
      "\u001b[0;32mpandas/_libs/parsers.pyx\u001b[0m in \u001b[0;36mpandas._libs.parsers.TextReader._tokenize_rows\u001b[0;34m()\u001b[0m\n",
      "\u001b[0;32mpandas/_libs/parsers.pyx\u001b[0m in \u001b[0;36mpandas._libs.parsers.raise_parser_error\u001b[0;34m()\u001b[0m\n",
      "\u001b[0;31mParserError\u001b[0m: Error tokenizing data. C error: Expected 1 fields in line 10, saw 2\n"
     ]
    }
   ],
   "source": [
    "pd.read_csv(\"cyclic_voltammetry_output.txt\")"
   ]
  },
  {
   "cell_type": "markdown",
   "metadata": {},
   "source": [
    "Ahhh! Our loading failed terribly! Let's take a look at our file to see what might be amiss.\n",
    "\n",
    "It looks like our data doesn't actually start until line 81, as indicated by \"Nb header lines: 81\" on the second line. May have been wise to look at our file first, but eh, lesson learned.\n",
    "\n",
    "Ok, now we need to turn to the [pandas documentation](https://pandas.pydata.org/docs/reference/api/pandas.read_csv.html) for help. Like a good programmer, I'll google it to find the key word arguments that we can use to modify `read_csv`.\n",
    "\n",
    "... google \"how to skip lines in pd read csv\" ...\n",
    "\n",
    "Aha! The keyword `skiprows` appears to be what we are looking for. It's description states \"Line numbers to skip (0-indexed) or number of lines to skip (int) at the start of the file.\" There are 81 lines, but the line numbers to skip are 0-indexed, which means that we will want `skiprows` to have a value of 80. Let's give it a try!"
   ]
  },
  {
   "cell_type": "code",
   "execution_count": 22,
   "metadata": {},
   "outputs": [
    {
     "data": {
      "text/html": [
       "<div>\n",
       "<style scoped>\n",
       "    .dataframe tbody tr th:only-of-type {\n",
       "        vertical-align: middle;\n",
       "    }\n",
       "\n",
       "    .dataframe tbody tr th {\n",
       "        vertical-align: top;\n",
       "    }\n",
       "\n",
       "    .dataframe thead th {\n",
       "        text-align: right;\n",
       "    }\n",
       "</style>\n",
       "<table border=\"1\" class=\"dataframe\">\n",
       "  <thead>\n",
       "    <tr style=\"text-align: right;\">\n",
       "      <th></th>\n",
       "      <th>mode\\tox/red\\terror\\tcontrol changes\\tNs changes\\tcounter inc.\\tNs\\ttime/s\\tcontrol/V/mA\\tEwe/V\\tdq/mA.h\\tEce/V\\tP/W\\t&lt;I&gt;/mA\\tEwe-Ece/V\\tx\\t(Q-Qo)/mA.h\\tCapacity/mA.h</th>\n",
       "    </tr>\n",
       "  </thead>\n",
       "  <tbody>\n",
       "    <tr>\n",
       "      <th>0</th>\n",
       "      <td>3\\t1\\t0\\t0\\t0\\t0\\t0\\t0.0002\\t0\\t3.13411832\\t0\\...</td>\n",
       "    </tr>\n",
       "    <tr>\n",
       "      <th>1</th>\n",
       "      <td>3\\t1\\t0\\t0\\t0\\t0\\t0\\t60.0002\\t0\\t3.13436651\\t0...</td>\n",
       "    </tr>\n",
       "    <tr>\n",
       "      <th>2</th>\n",
       "      <td>3\\t1\\t0\\t0\\t0\\t0\\t0\\t120.0002\\t0\\t3.13472915\\t...</td>\n",
       "    </tr>\n",
       "    <tr>\n",
       "      <th>3</th>\n",
       "      <td>3\\t1\\t0\\t0\\t0\\t0\\t0\\t180.0002\\t0\\t3.13482451\\t...</td>\n",
       "    </tr>\n",
       "    <tr>\n",
       "      <th>4</th>\n",
       "      <td>3\\t1\\t0\\t0\\t0\\t0\\t0\\t240.0002\\t0\\t3.13497734\\t...</td>\n",
       "    </tr>\n",
       "    <tr>\n",
       "      <th>...</th>\n",
       "      <td>...</td>\n",
       "    </tr>\n",
       "    <tr>\n",
       "      <th>23215</th>\n",
       "      <td>1\\t0\\t0\\t0\\t0\\t0\\t1\\t417662.4821\\t-0.01425\\t2....</td>\n",
       "    </tr>\n",
       "    <tr>\n",
       "      <th>23216</th>\n",
       "      <td>1\\t0\\t0\\t0\\t0\\t0\\t1\\t417699.5241\\t-0.01425\\t2....</td>\n",
       "    </tr>\n",
       "    <tr>\n",
       "      <th>23217</th>\n",
       "      <td>1\\t0\\t0\\t0\\t0\\t0\\t1\\t417733.6881\\t-0.01425\\t2....</td>\n",
       "    </tr>\n",
       "    <tr>\n",
       "      <th>23218</th>\n",
       "      <td>1\\t0\\t0\\t0\\t0\\t0\\t1\\t417733.6951\\t-0.01425\\t2....</td>\n",
       "    </tr>\n",
       "    <tr>\n",
       "      <th>23219</th>\n",
       "      <td>1\\t0\\t0\\t0\\t0\\t0\\t1\\t417734.9321\\t-0.01425\\t2....</td>\n",
       "    </tr>\n",
       "  </tbody>\n",
       "</table>\n",
       "<p>23220 rows × 1 columns</p>\n",
       "</div>"
      ],
      "text/plain": [
       "      mode\\tox/red\\terror\\tcontrol changes\\tNs changes\\tcounter inc.\\tNs\\ttime/s\\tcontrol/V/mA\\tEwe/V\\tdq/mA.h\\tEce/V\\tP/W\\t<I>/mA\\tEwe-Ece/V\\tx\\t(Q-Qo)/mA.h\\tCapacity/mA.h\n",
       "0      3\\t1\\t0\\t0\\t0\\t0\\t0\\t0.0002\\t0\\t3.13411832\\t0\\...                                                                                                                    \n",
       "1      3\\t1\\t0\\t0\\t0\\t0\\t0\\t60.0002\\t0\\t3.13436651\\t0...                                                                                                                    \n",
       "2      3\\t1\\t0\\t0\\t0\\t0\\t0\\t120.0002\\t0\\t3.13472915\\t...                                                                                                                    \n",
       "3      3\\t1\\t0\\t0\\t0\\t0\\t0\\t180.0002\\t0\\t3.13482451\\t...                                                                                                                    \n",
       "4      3\\t1\\t0\\t0\\t0\\t0\\t0\\t240.0002\\t0\\t3.13497734\\t...                                                                                                                    \n",
       "...                                                  ...                                                                                                                    \n",
       "23215  1\\t0\\t0\\t0\\t0\\t0\\t1\\t417662.4821\\t-0.01425\\t2....                                                                                                                    \n",
       "23216  1\\t0\\t0\\t0\\t0\\t0\\t1\\t417699.5241\\t-0.01425\\t2....                                                                                                                    \n",
       "23217  1\\t0\\t0\\t0\\t0\\t0\\t1\\t417733.6881\\t-0.01425\\t2....                                                                                                                    \n",
       "23218  1\\t0\\t0\\t0\\t0\\t0\\t1\\t417733.6951\\t-0.01425\\t2....                                                                                                                    \n",
       "23219  1\\t0\\t0\\t0\\t0\\t0\\t1\\t417734.9321\\t-0.01425\\t2....                                                                                                                    \n",
       "\n",
       "[23220 rows x 1 columns]"
      ]
     },
     "execution_count": 22,
     "metadata": {},
     "output_type": "execute_result"
    }
   ],
   "source": [
    "pd.read_csv(\"cyclic_voltammetry_output.txt\", skiprows=80)"
   ]
  },
  {
   "cell_type": "markdown",
   "metadata": {},
   "source": []
  },
  {
   "cell_type": "markdown",
   "metadata": {},
   "source": [
    "The columns aren't separated and we have `\\t` characters all over the place, but still, progress! The `\\t` characters are the separators in our data file, meaning our file is `tab`-seperated. Even though `csv` stands for Comma Seperated Values, other seperator characters are also common.\n",
    "\n",
    "... google \"how to specify separator in pd\" ...\n",
    "\n",
    "Looks like we can specify the type of separator by including the `sep` keyword. Let's do it!"
   ]
  },
  {
   "cell_type": "code",
   "execution_count": 6,
   "metadata": {},
   "outputs": [
    {
     "data": {
      "text/html": [
       "<div>\n",
       "<style scoped>\n",
       "    .dataframe tbody tr th:only-of-type {\n",
       "        vertical-align: middle;\n",
       "    }\n",
       "\n",
       "    .dataframe tbody tr th {\n",
       "        vertical-align: top;\n",
       "    }\n",
       "\n",
       "    .dataframe thead th {\n",
       "        text-align: right;\n",
       "    }\n",
       "</style>\n",
       "<table border=\"1\" class=\"dataframe\">\n",
       "  <thead>\n",
       "    <tr style=\"text-align: right;\">\n",
       "      <th></th>\n",
       "      <th>mode</th>\n",
       "      <th>ox/red</th>\n",
       "      <th>error</th>\n",
       "      <th>control changes</th>\n",
       "      <th>Ns changes</th>\n",
       "      <th>counter inc.</th>\n",
       "      <th>Ns</th>\n",
       "      <th>time/s</th>\n",
       "      <th>control/V/mA</th>\n",
       "      <th>Ewe/V</th>\n",
       "      <th>dq/mA.h</th>\n",
       "      <th>Ece/V</th>\n",
       "      <th>P/W</th>\n",
       "      <th>&lt;I&gt;/mA</th>\n",
       "      <th>Ewe-Ece/V</th>\n",
       "      <th>x</th>\n",
       "      <th>(Q-Qo)/mA.h</th>\n",
       "      <th>Capacity/mA.h</th>\n",
       "    </tr>\n",
       "  </thead>\n",
       "  <tbody>\n",
       "    <tr>\n",
       "      <th>0</th>\n",
       "      <td>3</td>\n",
       "      <td>1</td>\n",
       "      <td>0</td>\n",
       "      <td>0</td>\n",
       "      <td>0</td>\n",
       "      <td>0</td>\n",
       "      <td>0</td>\n",
       "      <td>0.0002</td>\n",
       "      <td>0.00000</td>\n",
       "      <td>3.134118</td>\n",
       "      <td>0.000000e+00</td>\n",
       "      <td>-0.002699</td>\n",
       "      <td>0.000000</td>\n",
       "      <td>0.000000</td>\n",
       "      <td>3.136817</td>\n",
       "      <td>0.000000</td>\n",
       "      <td>0.000000</td>\n",
       "      <td>0.000000</td>\n",
       "    </tr>\n",
       "    <tr>\n",
       "      <th>1</th>\n",
       "      <td>3</td>\n",
       "      <td>1</td>\n",
       "      <td>0</td>\n",
       "      <td>0</td>\n",
       "      <td>0</td>\n",
       "      <td>0</td>\n",
       "      <td>0</td>\n",
       "      <td>60.0002</td>\n",
       "      <td>0.00000</td>\n",
       "      <td>3.134367</td>\n",
       "      <td>0.000000e+00</td>\n",
       "      <td>-0.002604</td>\n",
       "      <td>0.000000</td>\n",
       "      <td>0.000000</td>\n",
       "      <td>3.136970</td>\n",
       "      <td>0.000000</td>\n",
       "      <td>0.000000</td>\n",
       "      <td>0.000000</td>\n",
       "    </tr>\n",
       "    <tr>\n",
       "      <th>2</th>\n",
       "      <td>3</td>\n",
       "      <td>1</td>\n",
       "      <td>0</td>\n",
       "      <td>0</td>\n",
       "      <td>0</td>\n",
       "      <td>0</td>\n",
       "      <td>0</td>\n",
       "      <td>120.0002</td>\n",
       "      <td>0.00000</td>\n",
       "      <td>3.134729</td>\n",
       "      <td>0.000000e+00</td>\n",
       "      <td>-0.002527</td>\n",
       "      <td>0.000000</td>\n",
       "      <td>0.000000</td>\n",
       "      <td>3.137256</td>\n",
       "      <td>0.000000</td>\n",
       "      <td>0.000000</td>\n",
       "      <td>0.000000</td>\n",
       "    </tr>\n",
       "    <tr>\n",
       "      <th>3</th>\n",
       "      <td>3</td>\n",
       "      <td>1</td>\n",
       "      <td>0</td>\n",
       "      <td>0</td>\n",
       "      <td>0</td>\n",
       "      <td>0</td>\n",
       "      <td>0</td>\n",
       "      <td>180.0002</td>\n",
       "      <td>0.00000</td>\n",
       "      <td>3.134825</td>\n",
       "      <td>0.000000e+00</td>\n",
       "      <td>-0.002527</td>\n",
       "      <td>0.000000</td>\n",
       "      <td>0.000000</td>\n",
       "      <td>3.137352</td>\n",
       "      <td>0.000000</td>\n",
       "      <td>0.000000</td>\n",
       "      <td>0.000000</td>\n",
       "    </tr>\n",
       "    <tr>\n",
       "      <th>4</th>\n",
       "      <td>3</td>\n",
       "      <td>1</td>\n",
       "      <td>0</td>\n",
       "      <td>0</td>\n",
       "      <td>0</td>\n",
       "      <td>0</td>\n",
       "      <td>0</td>\n",
       "      <td>240.0002</td>\n",
       "      <td>0.00000</td>\n",
       "      <td>3.134977</td>\n",
       "      <td>0.000000e+00</td>\n",
       "      <td>-0.002355</td>\n",
       "      <td>0.000000</td>\n",
       "      <td>0.000000</td>\n",
       "      <td>3.137333</td>\n",
       "      <td>0.000000</td>\n",
       "      <td>0.000000</td>\n",
       "      <td>0.000000</td>\n",
       "    </tr>\n",
       "    <tr>\n",
       "      <th>...</th>\n",
       "      <td>...</td>\n",
       "      <td>...</td>\n",
       "      <td>...</td>\n",
       "      <td>...</td>\n",
       "      <td>...</td>\n",
       "      <td>...</td>\n",
       "      <td>...</td>\n",
       "      <td>...</td>\n",
       "      <td>...</td>\n",
       "      <td>...</td>\n",
       "      <td>...</td>\n",
       "      <td>...</td>\n",
       "      <td>...</td>\n",
       "      <td>...</td>\n",
       "      <td>...</td>\n",
       "      <td>...</td>\n",
       "      <td>...</td>\n",
       "      <td>...</td>\n",
       "    </tr>\n",
       "    <tr>\n",
       "      <th>23215</th>\n",
       "      <td>1</td>\n",
       "      <td>0</td>\n",
       "      <td>0</td>\n",
       "      <td>0</td>\n",
       "      <td>0</td>\n",
       "      <td>0</td>\n",
       "      <td>1</td>\n",
       "      <td>417662.4821</td>\n",
       "      <td>-0.01425</td>\n",
       "      <td>2.021435</td>\n",
       "      <td>-1.447666e-04</td>\n",
       "      <td>0.016924</td>\n",
       "      <td>0.000029</td>\n",
       "      <td>-0.014246</td>\n",
       "      <td>2.004511</td>\n",
       "      <td>1.917172</td>\n",
       "      <td>-0.328737</td>\n",
       "      <td>0.135839</td>\n",
       "    </tr>\n",
       "    <tr>\n",
       "      <th>23216</th>\n",
       "      <td>1</td>\n",
       "      <td>0</td>\n",
       "      <td>0</td>\n",
       "      <td>0</td>\n",
       "      <td>0</td>\n",
       "      <td>0</td>\n",
       "      <td>1</td>\n",
       "      <td>417699.5241</td>\n",
       "      <td>-0.01425</td>\n",
       "      <td>2.020919</td>\n",
       "      <td>-1.465844e-04</td>\n",
       "      <td>0.016771</td>\n",
       "      <td>0.000029</td>\n",
       "      <td>-0.014246</td>\n",
       "      <td>2.004148</td>\n",
       "      <td>1.918027</td>\n",
       "      <td>-0.328884</td>\n",
       "      <td>0.135986</td>\n",
       "    </tr>\n",
       "    <tr>\n",
       "      <th>23217</th>\n",
       "      <td>1</td>\n",
       "      <td>0</td>\n",
       "      <td>0</td>\n",
       "      <td>0</td>\n",
       "      <td>0</td>\n",
       "      <td>0</td>\n",
       "      <td>1</td>\n",
       "      <td>417733.6881</td>\n",
       "      <td>-0.01425</td>\n",
       "      <td>2.020404</td>\n",
       "      <td>-1.351955e-04</td>\n",
       "      <td>0.016962</td>\n",
       "      <td>0.000029</td>\n",
       "      <td>-0.014246</td>\n",
       "      <td>2.003442</td>\n",
       "      <td>1.918815</td>\n",
       "      <td>-0.329019</td>\n",
       "      <td>0.136121</td>\n",
       "    </tr>\n",
       "    <tr>\n",
       "      <th>23218</th>\n",
       "      <td>1</td>\n",
       "      <td>0</td>\n",
       "      <td>0</td>\n",
       "      <td>0</td>\n",
       "      <td>0</td>\n",
       "      <td>0</td>\n",
       "      <td>1</td>\n",
       "      <td>417733.6951</td>\n",
       "      <td>-0.01425</td>\n",
       "      <td>2.020938</td>\n",
       "      <td>-2.770032e-08</td>\n",
       "      <td>0.016790</td>\n",
       "      <td>0.000029</td>\n",
       "      <td>-0.014246</td>\n",
       "      <td>2.004148</td>\n",
       "      <td>1.918815</td>\n",
       "      <td>-0.329019</td>\n",
       "      <td>0.136121</td>\n",
       "    </tr>\n",
       "    <tr>\n",
       "      <th>23219</th>\n",
       "      <td>1</td>\n",
       "      <td>0</td>\n",
       "      <td>0</td>\n",
       "      <td>0</td>\n",
       "      <td>0</td>\n",
       "      <td>0</td>\n",
       "      <td>1</td>\n",
       "      <td>417734.9321</td>\n",
       "      <td>-0.01425</td>\n",
       "      <td>2.020423</td>\n",
       "      <td>-4.895096e-06</td>\n",
       "      <td>0.016847</td>\n",
       "      <td>0.000029</td>\n",
       "      <td>-0.014246</td>\n",
       "      <td>2.003576</td>\n",
       "      <td>1.918844</td>\n",
       "      <td>-0.329024</td>\n",
       "      <td>0.136126</td>\n",
       "    </tr>\n",
       "  </tbody>\n",
       "</table>\n",
       "<p>23220 rows × 18 columns</p>\n",
       "</div>"
      ],
      "text/plain": [
       "       mode  ox/red  error  control changes  Ns changes  counter inc.  Ns  \\\n",
       "0         3       1      0                0           0             0   0   \n",
       "1         3       1      0                0           0             0   0   \n",
       "2         3       1      0                0           0             0   0   \n",
       "3         3       1      0                0           0             0   0   \n",
       "4         3       1      0                0           0             0   0   \n",
       "...     ...     ...    ...              ...         ...           ...  ..   \n",
       "23215     1       0      0                0           0             0   1   \n",
       "23216     1       0      0                0           0             0   1   \n",
       "23217     1       0      0                0           0             0   1   \n",
       "23218     1       0      0                0           0             0   1   \n",
       "23219     1       0      0                0           0             0   1   \n",
       "\n",
       "            time/s  control/V/mA     Ewe/V       dq/mA.h     Ece/V       P/W  \\\n",
       "0           0.0002       0.00000  3.134118  0.000000e+00 -0.002699  0.000000   \n",
       "1          60.0002       0.00000  3.134367  0.000000e+00 -0.002604  0.000000   \n",
       "2         120.0002       0.00000  3.134729  0.000000e+00 -0.002527  0.000000   \n",
       "3         180.0002       0.00000  3.134825  0.000000e+00 -0.002527  0.000000   \n",
       "4         240.0002       0.00000  3.134977  0.000000e+00 -0.002355  0.000000   \n",
       "...            ...           ...       ...           ...       ...       ...   \n",
       "23215  417662.4821      -0.01425  2.021435 -1.447666e-04  0.016924  0.000029   \n",
       "23216  417699.5241      -0.01425  2.020919 -1.465844e-04  0.016771  0.000029   \n",
       "23217  417733.6881      -0.01425  2.020404 -1.351955e-04  0.016962  0.000029   \n",
       "23218  417733.6951      -0.01425  2.020938 -2.770032e-08  0.016790  0.000029   \n",
       "23219  417734.9321      -0.01425  2.020423 -4.895096e-06  0.016847  0.000029   \n",
       "\n",
       "         <I>/mA  Ewe-Ece/V         x  (Q-Qo)/mA.h  Capacity/mA.h  \n",
       "0      0.000000   3.136817  0.000000     0.000000       0.000000  \n",
       "1      0.000000   3.136970  0.000000     0.000000       0.000000  \n",
       "2      0.000000   3.137256  0.000000     0.000000       0.000000  \n",
       "3      0.000000   3.137352  0.000000     0.000000       0.000000  \n",
       "4      0.000000   3.137333  0.000000     0.000000       0.000000  \n",
       "...         ...        ...       ...          ...            ...  \n",
       "23215 -0.014246   2.004511  1.917172    -0.328737       0.135839  \n",
       "23216 -0.014246   2.004148  1.918027    -0.328884       0.135986  \n",
       "23217 -0.014246   2.003442  1.918815    -0.329019       0.136121  \n",
       "23218 -0.014246   2.004148  1.918815    -0.329019       0.136121  \n",
       "23219 -0.014246   2.003576  1.918844    -0.329024       0.136126  \n",
       "\n",
       "[23220 rows x 18 columns]"
      ]
     },
     "execution_count": 6,
     "metadata": {},
     "output_type": "execute_result"
    }
   ],
   "source": [
    "pd.read_csv(\"cyclic_voltammetry_output.txt\", skiprows=80, sep='\\t')"
   ]
  },
  {
   "cell_type": "markdown",
   "metadata": {
    "pycharm": {
     "name": "#%% md\n"
    }
   },
   "source": [
    "Yay! We've successfully imported our DataFrame. Sometimes it just takes a little tinkering. We are going to move on to a nicer dataset for the rest of the workshop but hopefully this has given you a realistic view of how to troubleshoot your imports!\n",
    "\n",
    "In the next cell, we will import our data directly from a file hosted on GitHub. This is no harder than loading a `.csv` file on our local computer. We'll use this sick death metal data going forward."
   ]
  },
  {
   "cell_type": "code",
   "execution_count": null,
   "metadata": {
    "id": "STJjQ_h2mLbQ"
   },
   "outputs": [],
   "source": [
    "# Make a data frame\n",
    "metal_bands_df = pd.read_csv(\"https://raw.githubusercontent.com/orioncohen/metal-bands-by-nation/main/metal_bands_2017.csv\")\n",
    "world_pop_df = pd.read_csv(\"https://raw.githubusercontent.com/orioncohen/metal-bands-by-nation/main/world_population_1960_2015.csv\")"
   ]
  },
  {
   "cell_type": "markdown",
   "metadata": {
    "id": "x9FouXLapZdK"
   },
   "source": [
    "# Creating Columns"
   ]
  },
  {
   "cell_type": "markdown",
   "metadata": {
    "id": "xvWZmPrMpM_z"
   },
   "source": [
    "# Column Operations\n",
    "\n",
    "\n",
    "*   Removing empty cells\n",
    "*   Accessing specific columns/cells\n",
    "*   Applying functions (non-statistical) to a column\n",
    "*   Creating a new column based on data from other columns\n",
    "*   Re-ordering data? Visualizing data? \n",
    "\n"
   ]
  },
  {
   "cell_type": "markdown",
   "metadata": {
    "id": "9WxkBxaIoqJX"
   },
   "source": [
    "# Summation Statistics"
   ]
  },
  {
   "cell_type": "markdown",
   "metadata": {
    "id": "DARSJ0gvpmU7"
   },
   "source": [
    "# Exporting Data"
   ]
  },
  {
   "cell_type": "markdown",
   "metadata": {
    "id": "Uwx7VfXTsnAl"
   },
   "source": [
    "# Nugent's Data"
   ]
  },
  {
   "cell_type": "code",
   "execution_count": null,
   "metadata": {
    "id": "zTWAkfC_spwH"
   },
   "outputs": [],
   "source": [
    "import pandas as pd"
   ]
  },
  {
   "cell_type": "code",
   "execution_count": null,
   "metadata": {
    "colab": {
     "base_uri": "https://localhost:8080/",
     "height": 282
    },
    "id": "vjrfKINssr-w",
    "outputId": "4a291bbe-d2b7-4617-81ca-b5c3da065b2f"
   },
   "outputs": [
    {
     "data": {
      "text/plain": [
       "<matplotlib.axes._subplots.AxesSubplot at 0x7fbdaae7c850>"
      ]
     },
     "execution_count": 16,
     "metadata": {},
     "output_type": "execute_result"
    },
    {
     "data": {
      "image/png": "[encoded data removed]",
      "text/plain": [
       "<Figure size 432x288 with 1 Axes>"
      ]
     },
     "metadata": {
      "needs_background": "light"
     },
     "output_type": "display_data"
    }
   ],
   "source": [
    "spots_cropped_df = pd.read_csv('/content/DATA_PC1_TL10s_cropped_488.csv')\n",
    "spots_cropped_df['Mean'].plot()"
   ]
  },
  {
   "cell_type": "code",
   "execution_count": null,
   "metadata": {
    "id": "nQ6i9R6DtCoU"
   },
   "outputs": [],
   "source": []
  },
  {
   "cell_type": "markdown",
   "metadata": {
    "id": "-ABcl-nmolJ3"
   },
   "source": [
    "# Info on Nugent's Data Set"
   ]
  },
  {
   "cell_type": "markdown",
   "metadata": {
    "id": "VznfwN8rb6rH"
   },
   "source": [
    "Nugent Lew's data:\n",
    "\n",
    "OK so the single molecule data is fluorescent images of labeled proteins on a supported lipid bilayer at low enough densities that you can resolve (what you hope are) spots corresponding to individual proteins. We use a software package called TrackMate which detects the spots, calculates their location based on some approximation of a point spread function, and then attempts to create \"tracks\" between spots in consecutive frames so that you can see how the molecules are moving in close-to-real time. The data in the file All_spots_statistics.csv is not meaningful in terms of tracking because I didn't take them with high enough time resolution, but it still contains the detections of single molecules in each of 280 frames (indexed from 0, so the count goes up to 279). I also attached a video showing the images that have had spot detection applied. Each bright dot encircled by a purple circle is a spot that was counted by the program.\n",
    "\n",
    "The .csv that comes out of this includes the x,y location of each individual spot (z position isn't relevant because the data is in a single plane), the frame (out of 0-279) in which it was detected (this is also a proxy for time, but I didn't scale it by the time interval), some stuff I don't really think about yet (quality, radius, visibility, manual_color), some image information (max, min, mean intensity, Std dev), a diameter estimate, contrast (idk what exactly this refers to) and the SNR (also not sure how this is computed).\n",
    "\n",
    "Finally, a much simpler file is DATA_PC1_TL10s_cropped_488.csv which is simply the mean fluorescent intensity in each of 280 frames (this one indexes from 1 lol)."
   ]
  },
  {
   "cell_type": "markdown",
   "metadata": {
    "id": "VeL7Rz1gnUNx"
   },
   "source": [
    "1. What is SNR?\n",
    "2. This video doesn't have any purple circles I think? Or is the slight purple tint on some dots the thing you are referring to? A lot of the background also seems to have a purple tint.\n",
    "3. What is the significance of having 280 images? Are you trying to see how much the protein blobs move around?"
   ]
  },
  {
   "cell_type": "markdown",
   "metadata": {
    "id": "CXu9XF8lnS1N"
   },
   "source": [
    "1. Signal to noise ratio\n",
    "2. The circles are unfortunately thin and idk how to change that rn. You need to blow up the video window as large as you can, and pause to really see them. Not hugely important tho. Just to illustrate what the data is supposed to represent.\n",
    "3. It's sorta arbitrary. It's the chosen experimental length such that I can record an entire enzymatic activation assay. The two datasets actually come from the same experiment, and if you plot out the mean intensity vs frames (ie time) from  DATA_PC1_TL10s_cropped_488.csv you can see that it forms a sigmoid. The experiment just has to be long enough to catch all that, and then also have the information about the number of blobs at each time point."
   ]
  },
  {
   "cell_type": "markdown",
   "metadata": {
    "id": "W0usA9GoxFmq"
   },
   "source": [
    "1. What are you hoping to learn from this dataset? Is the amount that the blobs move interesting in some way?\n",
    "2. What is your current method of using / understanding this data? Are you looking for the sigmoid with TrackMate, Excel, etc?\n",
    "3. Would we be allowed to share this data with workshop participants, or should we only use it as an example (not distributing the data)?"
   ]
  },
  {
   "cell_type": "markdown",
   "metadata": {
    "id": "kXLooPY9xGf7"
   },
   "source": [
    "For me, all I want is the number of blobs in each frame and the mean intensity in the other data file. What I should be able to get is a rate of reaction (how quickly the reaction signified by the sigmoidal data happens) normalized by the number of blobs in each matching frame between the two data sets. ie. for each time point, what is the rate of reaction divided by the number of blobs. Theoretically that should match some biochemical kinetic model and I can fit some observed constants, but I haven't worked that part out yet.\n",
    "\n",
    "Currently I am using ImageJ and TrackMate to output the raw data (the files I've sent are those), and the further analyzing and visualizing them in Python. I can actually share what I have so far if it'll help understand what I'm getting at in terms of the data analysis.\n",
    "\n",
    "Please only use the data as an example."
   ]
  },
  {
   "cell_type": "code",
   "execution_count": null,
   "metadata": {
    "id": "KEXRUqYxzRO4"
   },
   "outputs": [],
   "source": []
  }
 ],
 "metadata": {
  "colab": {
   "name": "PandasWorkshop.ipynb",
   "provenance": []
  },
  "kernelspec": {
   "display_name": "Python 3",
   "language": "python",
   "name": "python3"
  },
  "language_info": {
   "codemirror_mode": {
    "name": "ipython",
    "version": 3
   },
   "file_extension": ".py",
   "mimetype": "text/x-python",
   "name": "python",
   "nbconvert_exporter": "python",
   "pygments_lexer": "ipython3",
   "version": "3.8.8"
  }
 },
 "nbformat": 4,
 "nbformat_minor": 1
}
