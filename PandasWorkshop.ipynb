{
 "cells": [
  {
   "cell_type": "markdown",
   "metadata": {
    "id": "yJZhgj0Spc91"
   },
   "source": [
    "# Intro"
   ]
  },
  {
   "cell_type": "markdown",
   "metadata": {
    "id": "nvk8A1W4phc4"
   },
   "source": [
    "# Importing Data\n",
    "# start with importing messy data set but then use metal stuff for the rest of the teaching example"
   ]
  },
  {
   "cell_type": "code",
   "execution_count": 2,
   "metadata": {
    "id": "TM3TlJfmkxkc"
   },
   "outputs": [],
   "source": [
    "import requests\n",
    "\n",
    "# URL locations of data\n",
    "master_death_metal_bands = \"https://raw.githubusercontent.com/orioncohen/metal-bands-by-nation/main/bands.csv\"\n",
    "master_metal_bands = \"https://raw.githubusercontent.com/orioncohen/metal-bands-by-nation/main/metal_bands_2017.csv\"\n",
    "master_world_pop = \"https://raw.githubusercontent.com/orioncohen/metal-bands-by-nation/main/world_population_1960_2015.csv\"\n",
    "\n",
    "# Grab the metal bands data\n",
    "req = requests.get(master_death_metal_bands)\n",
    "death_metal_bands_data = req.text\n",
    "\n",
    "# Grab the metal bands data\n",
    "req = requests.get(master_metal_bands)\n",
    "metal_bands_data = req.text\n",
    "\n",
    "# Grab the world population data\n",
    "req = requests.get(master_world_pop)\n",
    "world_pop_data = req.text"
   ]
  },
  {
   "cell_type": "code",
   "execution_count": 3,
   "metadata": {},
   "outputs": [],
   "source": [
    "import pandas as pd"
   ]
  },
  {
   "cell_type": "markdown",
   "metadata": {},
   "source": [
    "## A Realistic Depiction of Getting Data into Python\n",
    "\n",
    "Exciting! We have some fresh new cyclic voltammetry data to analyze. Fortuitously, `pandas` has a function called `read_csv` design for loading tabular data. Let's do it!"
   ]
  },
  {
   "cell_type": "code",
   "execution_count": 4,
   "metadata": {},
   "outputs": [
    {
     "ename": "UnicodeDecodeError",
     "evalue": "'utf-8' codec can't decode byte 0xb2 in position 1135: invalid start byte",
     "output_type": "error",
     "traceback": [
      "\u001B[0;31m---------------------------------------------------------------------------\u001B[0m",
      "\u001B[0;31mUnicodeDecodeError\u001B[0m                        Traceback (most recent call last)",
      "\u001B[0;32m<ipython-input-4-2d86b0e6b839>\u001B[0m in \u001B[0;36m<module>\u001B[0;34m\u001B[0m\n\u001B[0;32m----> 1\u001B[0;31m \u001B[0mpd\u001B[0m\u001B[0;34m.\u001B[0m\u001B[0mread_csv\u001B[0m\u001B[0;34m(\u001B[0m\u001B[0;34m\"https://raw.githubusercontent.com/orioncohen/metal-bands-by-nation/main/cyclic_voltammetry_output.txt\"\u001B[0m\u001B[0;34m)\u001B[0m\u001B[0;34m\u001B[0m\u001B[0;34m\u001B[0m\u001B[0m\n\u001B[0m",
      "\u001B[0;32m~/miniconda3/envs/mdgo_dev/lib/python3.8/site-packages/pandas/io/parsers.py\u001B[0m in \u001B[0;36mread_csv\u001B[0;34m(filepath_or_buffer, sep, delimiter, header, names, index_col, usecols, squeeze, prefix, mangle_dupe_cols, dtype, engine, converters, true_values, false_values, skipinitialspace, skiprows, skipfooter, nrows, na_values, keep_default_na, na_filter, verbose, skip_blank_lines, parse_dates, infer_datetime_format, keep_date_col, date_parser, dayfirst, cache_dates, iterator, chunksize, compression, thousands, decimal, lineterminator, quotechar, quoting, doublequote, escapechar, comment, encoding, dialect, error_bad_lines, warn_bad_lines, delim_whitespace, low_memory, memory_map, float_precision, storage_options)\u001B[0m\n\u001B[1;32m    608\u001B[0m     \u001B[0mkwds\u001B[0m\u001B[0;34m.\u001B[0m\u001B[0mupdate\u001B[0m\u001B[0;34m(\u001B[0m\u001B[0mkwds_defaults\u001B[0m\u001B[0;34m)\u001B[0m\u001B[0;34m\u001B[0m\u001B[0;34m\u001B[0m\u001B[0m\n\u001B[1;32m    609\u001B[0m \u001B[0;34m\u001B[0m\u001B[0m\n\u001B[0;32m--> 610\u001B[0;31m     \u001B[0;32mreturn\u001B[0m \u001B[0m_read\u001B[0m\u001B[0;34m(\u001B[0m\u001B[0mfilepath_or_buffer\u001B[0m\u001B[0;34m,\u001B[0m \u001B[0mkwds\u001B[0m\u001B[0;34m)\u001B[0m\u001B[0;34m\u001B[0m\u001B[0;34m\u001B[0m\u001B[0m\n\u001B[0m\u001B[1;32m    611\u001B[0m \u001B[0;34m\u001B[0m\u001B[0m\n\u001B[1;32m    612\u001B[0m \u001B[0;34m\u001B[0m\u001B[0m\n",
      "\u001B[0;32m~/miniconda3/envs/mdgo_dev/lib/python3.8/site-packages/pandas/io/parsers.py\u001B[0m in \u001B[0;36m_read\u001B[0;34m(filepath_or_buffer, kwds)\u001B[0m\n\u001B[1;32m    460\u001B[0m \u001B[0;34m\u001B[0m\u001B[0m\n\u001B[1;32m    461\u001B[0m     \u001B[0;31m# Create the parser.\u001B[0m\u001B[0;34m\u001B[0m\u001B[0;34m\u001B[0m\u001B[0;34m\u001B[0m\u001B[0m\n\u001B[0;32m--> 462\u001B[0;31m     \u001B[0mparser\u001B[0m \u001B[0;34m=\u001B[0m \u001B[0mTextFileReader\u001B[0m\u001B[0;34m(\u001B[0m\u001B[0mfilepath_or_buffer\u001B[0m\u001B[0;34m,\u001B[0m \u001B[0;34m**\u001B[0m\u001B[0mkwds\u001B[0m\u001B[0;34m)\u001B[0m\u001B[0;34m\u001B[0m\u001B[0;34m\u001B[0m\u001B[0m\n\u001B[0m\u001B[1;32m    463\u001B[0m \u001B[0;34m\u001B[0m\u001B[0m\n\u001B[1;32m    464\u001B[0m     \u001B[0;32mif\u001B[0m \u001B[0mchunksize\u001B[0m \u001B[0;32mor\u001B[0m \u001B[0miterator\u001B[0m\u001B[0;34m:\u001B[0m\u001B[0;34m\u001B[0m\u001B[0;34m\u001B[0m\u001B[0m\n",
      "\u001B[0;32m~/miniconda3/envs/mdgo_dev/lib/python3.8/site-packages/pandas/io/parsers.py\u001B[0m in \u001B[0;36m__init__\u001B[0;34m(self, f, engine, **kwds)\u001B[0m\n\u001B[1;32m    817\u001B[0m             \u001B[0mself\u001B[0m\u001B[0;34m.\u001B[0m\u001B[0moptions\u001B[0m\u001B[0;34m[\u001B[0m\u001B[0;34m\"has_index_names\"\u001B[0m\u001B[0;34m]\u001B[0m \u001B[0;34m=\u001B[0m \u001B[0mkwds\u001B[0m\u001B[0;34m[\u001B[0m\u001B[0;34m\"has_index_names\"\u001B[0m\u001B[0;34m]\u001B[0m\u001B[0;34m\u001B[0m\u001B[0;34m\u001B[0m\u001B[0m\n\u001B[1;32m    818\u001B[0m \u001B[0;34m\u001B[0m\u001B[0m\n\u001B[0;32m--> 819\u001B[0;31m         \u001B[0mself\u001B[0m\u001B[0;34m.\u001B[0m\u001B[0m_engine\u001B[0m \u001B[0;34m=\u001B[0m \u001B[0mself\u001B[0m\u001B[0;34m.\u001B[0m\u001B[0m_make_engine\u001B[0m\u001B[0;34m(\u001B[0m\u001B[0mself\u001B[0m\u001B[0;34m.\u001B[0m\u001B[0mengine\u001B[0m\u001B[0;34m)\u001B[0m\u001B[0;34m\u001B[0m\u001B[0;34m\u001B[0m\u001B[0m\n\u001B[0m\u001B[1;32m    820\u001B[0m \u001B[0;34m\u001B[0m\u001B[0m\n\u001B[1;32m    821\u001B[0m     \u001B[0;32mdef\u001B[0m \u001B[0mclose\u001B[0m\u001B[0;34m(\u001B[0m\u001B[0mself\u001B[0m\u001B[0;34m)\u001B[0m\u001B[0;34m:\u001B[0m\u001B[0;34m\u001B[0m\u001B[0;34m\u001B[0m\u001B[0m\n",
      "\u001B[0;32m~/miniconda3/envs/mdgo_dev/lib/python3.8/site-packages/pandas/io/parsers.py\u001B[0m in \u001B[0;36m_make_engine\u001B[0;34m(self, engine)\u001B[0m\n\u001B[1;32m   1048\u001B[0m             )\n\u001B[1;32m   1049\u001B[0m         \u001B[0;31m# error: Too many arguments for \"ParserBase\"\u001B[0m\u001B[0;34m\u001B[0m\u001B[0;34m\u001B[0m\u001B[0;34m\u001B[0m\u001B[0m\n\u001B[0;32m-> 1050\u001B[0;31m         \u001B[0;32mreturn\u001B[0m \u001B[0mmapping\u001B[0m\u001B[0;34m[\u001B[0m\u001B[0mengine\u001B[0m\u001B[0;34m]\u001B[0m\u001B[0;34m(\u001B[0m\u001B[0mself\u001B[0m\u001B[0;34m.\u001B[0m\u001B[0mf\u001B[0m\u001B[0;34m,\u001B[0m \u001B[0;34m**\u001B[0m\u001B[0mself\u001B[0m\u001B[0;34m.\u001B[0m\u001B[0moptions\u001B[0m\u001B[0;34m)\u001B[0m  \u001B[0;31m# type: ignore[call-arg]\u001B[0m\u001B[0;34m\u001B[0m\u001B[0;34m\u001B[0m\u001B[0m\n\u001B[0m\u001B[1;32m   1051\u001B[0m \u001B[0;34m\u001B[0m\u001B[0m\n\u001B[1;32m   1052\u001B[0m     \u001B[0;32mdef\u001B[0m \u001B[0m_failover_to_python\u001B[0m\u001B[0;34m(\u001B[0m\u001B[0mself\u001B[0m\u001B[0;34m)\u001B[0m\u001B[0;34m:\u001B[0m\u001B[0;34m\u001B[0m\u001B[0;34m\u001B[0m\u001B[0m\n",
      "\u001B[0;32m~/miniconda3/envs/mdgo_dev/lib/python3.8/site-packages/pandas/io/parsers.py\u001B[0m in \u001B[0;36m__init__\u001B[0;34m(self, src, **kwds)\u001B[0m\n\u001B[1;32m   1896\u001B[0m \u001B[0;34m\u001B[0m\u001B[0m\n\u001B[1;32m   1897\u001B[0m         \u001B[0;32mtry\u001B[0m\u001B[0;34m:\u001B[0m\u001B[0;34m\u001B[0m\u001B[0;34m\u001B[0m\u001B[0m\n\u001B[0;32m-> 1898\u001B[0;31m             \u001B[0mself\u001B[0m\u001B[0;34m.\u001B[0m\u001B[0m_reader\u001B[0m \u001B[0;34m=\u001B[0m \u001B[0mparsers\u001B[0m\u001B[0;34m.\u001B[0m\u001B[0mTextReader\u001B[0m\u001B[0;34m(\u001B[0m\u001B[0mself\u001B[0m\u001B[0;34m.\u001B[0m\u001B[0mhandles\u001B[0m\u001B[0;34m.\u001B[0m\u001B[0mhandle\u001B[0m\u001B[0;34m,\u001B[0m \u001B[0;34m**\u001B[0m\u001B[0mkwds\u001B[0m\u001B[0;34m)\u001B[0m\u001B[0;34m\u001B[0m\u001B[0;34m\u001B[0m\u001B[0m\n\u001B[0m\u001B[1;32m   1899\u001B[0m         \u001B[0;32mexcept\u001B[0m \u001B[0mException\u001B[0m\u001B[0;34m:\u001B[0m\u001B[0;34m\u001B[0m\u001B[0;34m\u001B[0m\u001B[0m\n\u001B[1;32m   1900\u001B[0m             \u001B[0mself\u001B[0m\u001B[0;34m.\u001B[0m\u001B[0mhandles\u001B[0m\u001B[0;34m.\u001B[0m\u001B[0mclose\u001B[0m\u001B[0;34m(\u001B[0m\u001B[0;34m)\u001B[0m\u001B[0;34m\u001B[0m\u001B[0;34m\u001B[0m\u001B[0m\n",
      "\u001B[0;32mpandas/_libs/parsers.pyx\u001B[0m in \u001B[0;36mpandas._libs.parsers.TextReader.__cinit__\u001B[0;34m()\u001B[0m\n",
      "\u001B[0;32mpandas/_libs/parsers.pyx\u001B[0m in \u001B[0;36mpandas._libs.parsers.TextReader._get_header\u001B[0;34m()\u001B[0m\n",
      "\u001B[0;32mpandas/_libs/parsers.pyx\u001B[0m in \u001B[0;36mpandas._libs.parsers.TextReader._tokenize_rows\u001B[0;34m()\u001B[0m\n",
      "\u001B[0;32mpandas/_libs/parsers.pyx\u001B[0m in \u001B[0;36mpandas._libs.parsers.raise_parser_error\u001B[0;34m()\u001B[0m\n",
      "\u001B[0;31mUnicodeDecodeError\u001B[0m: 'utf-8' codec can't decode byte 0xb2 in position 1135: invalid start byte"
     ]
    }
   ],
   "source": [
    "pd.read_csv(\"https://raw.githubusercontent.com/orioncohen/metal-bands-by-nation/main/cyclic_voltammetry_output.txt\")"
   ]
  },
  {
   "cell_type": "markdown",
   "metadata": {},
   "source": [
    "Ahhh! Our loading failed terribly! Let's take a look at our file to see what might be amiss.\n",
    "\n",
    "It looks like our data doesn't actually start until line 81, as indicated by \"Nb header lines: 81\" on the second line. May have been wise to look at our file first, but eh, lesson learned.\n",
    "\n",
    "Ok, now we need to turn to the [pandas documentation](https://pandas.pydata.org/docs/reference/api/pandas.read_csv.html) for help. Like a good programmer, I'll google it to find the key word arguments that we can use to modify `read_csv`.\n",
    "\n",
    "... google \"how to skip lines in pd read csv\" ...\n",
    "\n",
    "Aha! The keyword `skiprows` appears to be what we are looking for. It's description states \"Line numbers to skip (0-indexed) or number of lines to skip (int) at the start of the file.\" There are 81 lines, but the line numbers to skip are 0-indexed, which means that we will want `skiprows` to have a value of 80. Let's give it a try!"
   ]
  },
  {
   "cell_type": "code",
   "execution_count": 5,
   "metadata": {},
   "outputs": [
    {
     "data": {
      "text/plain": "      mode\\tox/red\\terror\\tcontrol changes\\tNs changes\\tcounter inc.\\tNs\\ttime/s\\tcontrol/V/mA\\tEwe/V\\tdq/mA.h\\tEce/V\\tP/W\\t<I>/mA\\tEwe-Ece/V\\tx\\t(Q-Qo)/mA.h\\tCapacity/mA.h\n0      3\\t1\\t0\\t0\\t0\\t0\\t0\\t0.0002\\t0\\t3.13411832\\t0\\...                                                                                                                    \n1      3\\t1\\t0\\t0\\t0\\t0\\t0\\t60.0002\\t0\\t3.13436651\\t0...                                                                                                                    \n2      3\\t1\\t0\\t0\\t0\\t0\\t0\\t120.0002\\t0\\t3.13472915\\t...                                                                                                                    \n3      3\\t1\\t0\\t0\\t0\\t0\\t0\\t180.0002\\t0\\t3.13482451\\t...                                                                                                                    \n4      3\\t1\\t0\\t0\\t0\\t0\\t0\\t240.0002\\t0\\t3.13497734\\t...                                                                                                                    \n...                                                  ...                                                                                                                    \n23215  1\\t0\\t0\\t0\\t0\\t0\\t1\\t417662.4821\\t-0.01425\\t2....                                                                                                                    \n23216  1\\t0\\t0\\t0\\t0\\t0\\t1\\t417699.5241\\t-0.01425\\t2....                                                                                                                    \n23217  1\\t0\\t0\\t0\\t0\\t0\\t1\\t417733.6881\\t-0.01425\\t2....                                                                                                                    \n23218  1\\t0\\t0\\t0\\t0\\t0\\t1\\t417733.6951\\t-0.01425\\t2....                                                                                                                    \n23219  1\\t0\\t0\\t0\\t0\\t0\\t1\\t417734.9321\\t-0.01425\\t2....                                                                                                                    \n\n[23220 rows x 1 columns]",
      "text/html": "<div>\n<style scoped>\n    .dataframe tbody tr th:only-of-type {\n        vertical-align: middle;\n    }\n\n    .dataframe tbody tr th {\n        vertical-align: top;\n    }\n\n    .dataframe thead th {\n        text-align: right;\n    }\n</style>\n<table border=\"1\" class=\"dataframe\">\n  <thead>\n    <tr style=\"text-align: right;\">\n      <th></th>\n      <th>mode\\tox/red\\terror\\tcontrol changes\\tNs changes\\tcounter inc.\\tNs\\ttime/s\\tcontrol/V/mA\\tEwe/V\\tdq/mA.h\\tEce/V\\tP/W\\t&lt;I&gt;/mA\\tEwe-Ece/V\\tx\\t(Q-Qo)/mA.h\\tCapacity/mA.h</th>\n    </tr>\n  </thead>\n  <tbody>\n    <tr>\n      <th>0</th>\n      <td>3\\t1\\t0\\t0\\t0\\t0\\t0\\t0.0002\\t0\\t3.13411832\\t0\\...</td>\n    </tr>\n    <tr>\n      <th>1</th>\n      <td>3\\t1\\t0\\t0\\t0\\t0\\t0\\t60.0002\\t0\\t3.13436651\\t0...</td>\n    </tr>\n    <tr>\n      <th>2</th>\n      <td>3\\t1\\t0\\t0\\t0\\t0\\t0\\t120.0002\\t0\\t3.13472915\\t...</td>\n    </tr>\n    <tr>\n      <th>3</th>\n      <td>3\\t1\\t0\\t0\\t0\\t0\\t0\\t180.0002\\t0\\t3.13482451\\t...</td>\n    </tr>\n    <tr>\n      <th>4</th>\n      <td>3\\t1\\t0\\t0\\t0\\t0\\t0\\t240.0002\\t0\\t3.13497734\\t...</td>\n    </tr>\n    <tr>\n      <th>...</th>\n      <td>...</td>\n    </tr>\n    <tr>\n      <th>23215</th>\n      <td>1\\t0\\t0\\t0\\t0\\t0\\t1\\t417662.4821\\t-0.01425\\t2....</td>\n    </tr>\n    <tr>\n      <th>23216</th>\n      <td>1\\t0\\t0\\t0\\t0\\t0\\t1\\t417699.5241\\t-0.01425\\t2....</td>\n    </tr>\n    <tr>\n      <th>23217</th>\n      <td>1\\t0\\t0\\t0\\t0\\t0\\t1\\t417733.6881\\t-0.01425\\t2....</td>\n    </tr>\n    <tr>\n      <th>23218</th>\n      <td>1\\t0\\t0\\t0\\t0\\t0\\t1\\t417733.6951\\t-0.01425\\t2....</td>\n    </tr>\n    <tr>\n      <th>23219</th>\n      <td>1\\t0\\t0\\t0\\t0\\t0\\t1\\t417734.9321\\t-0.01425\\t2....</td>\n    </tr>\n  </tbody>\n</table>\n<p>23220 rows × 1 columns</p>\n</div>"
     },
     "execution_count": 5,
     "metadata": {},
     "output_type": "execute_result"
    }
   ],
   "source": [
    "pd.read_csv(\"https://raw.githubusercontent.com/orioncohen/metal-bands-by-nation/main/cyclic_voltammetry_output.txt\", skiprows=80, encoding='mac_roman')"
   ]
  },
  {
   "cell_type": "markdown",
   "metadata": {},
   "source": []
  },
  {
   "cell_type": "markdown",
   "metadata": {},
   "source": [
    "The columns aren't separated and we have `\\t` characters all over the place, but still, progress! The `\\t` characters are the separators in our data file, meaning our file is `tab`-seperated. Even though `csv` stands for Comma Seperated Values, other seperator characters are also common.\n",
    "\n",
    "... google \"how to specify separator in pd\" ...\n",
    "\n",
    "Looks like we can specify the type of separator by including the `sep` keyword. Let's do it!"
   ]
  },
  {
   "cell_type": "code",
   "execution_count": 6,
   "metadata": {},
   "outputs": [
    {
     "data": {
      "text/plain": "       mode  ox/red  error  control changes  Ns changes  counter inc.  Ns  \\\n0         3       1      0                0           0             0   0   \n1         3       1      0                0           0             0   0   \n2         3       1      0                0           0             0   0   \n3         3       1      0                0           0             0   0   \n4         3       1      0                0           0             0   0   \n...     ...     ...    ...              ...         ...           ...  ..   \n23215     1       0      0                0           0             0   1   \n23216     1       0      0                0           0             0   1   \n23217     1       0      0                0           0             0   1   \n23218     1       0      0                0           0             0   1   \n23219     1       0      0                0           0             0   1   \n\n            time/s  control/V/mA     Ewe/V       dq/mA.h     Ece/V       P/W  \\\n0           0.0002       0.00000  3.134118  0.000000e+00 -0.002699  0.000000   \n1          60.0002       0.00000  3.134367  0.000000e+00 -0.002604  0.000000   \n2         120.0002       0.00000  3.134729  0.000000e+00 -0.002527  0.000000   \n3         180.0002       0.00000  3.134825  0.000000e+00 -0.002527  0.000000   \n4         240.0002       0.00000  3.134977  0.000000e+00 -0.002355  0.000000   \n...            ...           ...       ...           ...       ...       ...   \n23215  417662.4821      -0.01425  2.021435 -1.447666e-04  0.016924  0.000029   \n23216  417699.5241      -0.01425  2.020919 -1.465844e-04  0.016771  0.000029   \n23217  417733.6881      -0.01425  2.020404 -1.351955e-04  0.016962  0.000029   \n23218  417733.6951      -0.01425  2.020938 -2.770032e-08  0.016790  0.000029   \n23219  417734.9321      -0.01425  2.020423 -4.895096e-06  0.016847  0.000029   \n\n         <I>/mA  Ewe-Ece/V         x  (Q-Qo)/mA.h  Capacity/mA.h  \n0      0.000000   3.136817  0.000000     0.000000       0.000000  \n1      0.000000   3.136970  0.000000     0.000000       0.000000  \n2      0.000000   3.137256  0.000000     0.000000       0.000000  \n3      0.000000   3.137352  0.000000     0.000000       0.000000  \n4      0.000000   3.137333  0.000000     0.000000       0.000000  \n...         ...        ...       ...          ...            ...  \n23215 -0.014246   2.004511  1.917172    -0.328737       0.135839  \n23216 -0.014246   2.004148  1.918027    -0.328884       0.135986  \n23217 -0.014246   2.003442  1.918815    -0.329019       0.136121  \n23218 -0.014246   2.004148  1.918815    -0.329019       0.136121  \n23219 -0.014246   2.003576  1.918844    -0.329024       0.136126  \n\n[23220 rows x 18 columns]",
      "text/html": "<div>\n<style scoped>\n    .dataframe tbody tr th:only-of-type {\n        vertical-align: middle;\n    }\n\n    .dataframe tbody tr th {\n        vertical-align: top;\n    }\n\n    .dataframe thead th {\n        text-align: right;\n    }\n</style>\n<table border=\"1\" class=\"dataframe\">\n  <thead>\n    <tr style=\"text-align: right;\">\n      <th></th>\n      <th>mode</th>\n      <th>ox/red</th>\n      <th>error</th>\n      <th>control changes</th>\n      <th>Ns changes</th>\n      <th>counter inc.</th>\n      <th>Ns</th>\n      <th>time/s</th>\n      <th>control/V/mA</th>\n      <th>Ewe/V</th>\n      <th>dq/mA.h</th>\n      <th>Ece/V</th>\n      <th>P/W</th>\n      <th>&lt;I&gt;/mA</th>\n      <th>Ewe-Ece/V</th>\n      <th>x</th>\n      <th>(Q-Qo)/mA.h</th>\n      <th>Capacity/mA.h</th>\n    </tr>\n  </thead>\n  <tbody>\n    <tr>\n      <th>0</th>\n      <td>3</td>\n      <td>1</td>\n      <td>0</td>\n      <td>0</td>\n      <td>0</td>\n      <td>0</td>\n      <td>0</td>\n      <td>0.0002</td>\n      <td>0.00000</td>\n      <td>3.134118</td>\n      <td>0.000000e+00</td>\n      <td>-0.002699</td>\n      <td>0.000000</td>\n      <td>0.000000</td>\n      <td>3.136817</td>\n      <td>0.000000</td>\n      <td>0.000000</td>\n      <td>0.000000</td>\n    </tr>\n    <tr>\n      <th>1</th>\n      <td>3</td>\n      <td>1</td>\n      <td>0</td>\n      <td>0</td>\n      <td>0</td>\n      <td>0</td>\n      <td>0</td>\n      <td>60.0002</td>\n      <td>0.00000</td>\n      <td>3.134367</td>\n      <td>0.000000e+00</td>\n      <td>-0.002604</td>\n      <td>0.000000</td>\n      <td>0.000000</td>\n      <td>3.136970</td>\n      <td>0.000000</td>\n      <td>0.000000</td>\n      <td>0.000000</td>\n    </tr>\n    <tr>\n      <th>2</th>\n      <td>3</td>\n      <td>1</td>\n      <td>0</td>\n      <td>0</td>\n      <td>0</td>\n      <td>0</td>\n      <td>0</td>\n      <td>120.0002</td>\n      <td>0.00000</td>\n      <td>3.134729</td>\n      <td>0.000000e+00</td>\n      <td>-0.002527</td>\n      <td>0.000000</td>\n      <td>0.000000</td>\n      <td>3.137256</td>\n      <td>0.000000</td>\n      <td>0.000000</td>\n      <td>0.000000</td>\n    </tr>\n    <tr>\n      <th>3</th>\n      <td>3</td>\n      <td>1</td>\n      <td>0</td>\n      <td>0</td>\n      <td>0</td>\n      <td>0</td>\n      <td>0</td>\n      <td>180.0002</td>\n      <td>0.00000</td>\n      <td>3.134825</td>\n      <td>0.000000e+00</td>\n      <td>-0.002527</td>\n      <td>0.000000</td>\n      <td>0.000000</td>\n      <td>3.137352</td>\n      <td>0.000000</td>\n      <td>0.000000</td>\n      <td>0.000000</td>\n    </tr>\n    <tr>\n      <th>4</th>\n      <td>3</td>\n      <td>1</td>\n      <td>0</td>\n      <td>0</td>\n      <td>0</td>\n      <td>0</td>\n      <td>0</td>\n      <td>240.0002</td>\n      <td>0.00000</td>\n      <td>3.134977</td>\n      <td>0.000000e+00</td>\n      <td>-0.002355</td>\n      <td>0.000000</td>\n      <td>0.000000</td>\n      <td>3.137333</td>\n      <td>0.000000</td>\n      <td>0.000000</td>\n      <td>0.000000</td>\n    </tr>\n    <tr>\n      <th>...</th>\n      <td>...</td>\n      <td>...</td>\n      <td>...</td>\n      <td>...</td>\n      <td>...</td>\n      <td>...</td>\n      <td>...</td>\n      <td>...</td>\n      <td>...</td>\n      <td>...</td>\n      <td>...</td>\n      <td>...</td>\n      <td>...</td>\n      <td>...</td>\n      <td>...</td>\n      <td>...</td>\n      <td>...</td>\n      <td>...</td>\n    </tr>\n    <tr>\n      <th>23215</th>\n      <td>1</td>\n      <td>0</td>\n      <td>0</td>\n      <td>0</td>\n      <td>0</td>\n      <td>0</td>\n      <td>1</td>\n      <td>417662.4821</td>\n      <td>-0.01425</td>\n      <td>2.021435</td>\n      <td>-1.447666e-04</td>\n      <td>0.016924</td>\n      <td>0.000029</td>\n      <td>-0.014246</td>\n      <td>2.004511</td>\n      <td>1.917172</td>\n      <td>-0.328737</td>\n      <td>0.135839</td>\n    </tr>\n    <tr>\n      <th>23216</th>\n      <td>1</td>\n      <td>0</td>\n      <td>0</td>\n      <td>0</td>\n      <td>0</td>\n      <td>0</td>\n      <td>1</td>\n      <td>417699.5241</td>\n      <td>-0.01425</td>\n      <td>2.020919</td>\n      <td>-1.465844e-04</td>\n      <td>0.016771</td>\n      <td>0.000029</td>\n      <td>-0.014246</td>\n      <td>2.004148</td>\n      <td>1.918027</td>\n      <td>-0.328884</td>\n      <td>0.135986</td>\n    </tr>\n    <tr>\n      <th>23217</th>\n      <td>1</td>\n      <td>0</td>\n      <td>0</td>\n      <td>0</td>\n      <td>0</td>\n      <td>0</td>\n      <td>1</td>\n      <td>417733.6881</td>\n      <td>-0.01425</td>\n      <td>2.020404</td>\n      <td>-1.351955e-04</td>\n      <td>0.016962</td>\n      <td>0.000029</td>\n      <td>-0.014246</td>\n      <td>2.003442</td>\n      <td>1.918815</td>\n      <td>-0.329019</td>\n      <td>0.136121</td>\n    </tr>\n    <tr>\n      <th>23218</th>\n      <td>1</td>\n      <td>0</td>\n      <td>0</td>\n      <td>0</td>\n      <td>0</td>\n      <td>0</td>\n      <td>1</td>\n      <td>417733.6951</td>\n      <td>-0.01425</td>\n      <td>2.020938</td>\n      <td>-2.770032e-08</td>\n      <td>0.016790</td>\n      <td>0.000029</td>\n      <td>-0.014246</td>\n      <td>2.004148</td>\n      <td>1.918815</td>\n      <td>-0.329019</td>\n      <td>0.136121</td>\n    </tr>\n    <tr>\n      <th>23219</th>\n      <td>1</td>\n      <td>0</td>\n      <td>0</td>\n      <td>0</td>\n      <td>0</td>\n      <td>0</td>\n      <td>1</td>\n      <td>417734.9321</td>\n      <td>-0.01425</td>\n      <td>2.020423</td>\n      <td>-4.895096e-06</td>\n      <td>0.016847</td>\n      <td>0.000029</td>\n      <td>-0.014246</td>\n      <td>2.003576</td>\n      <td>1.918844</td>\n      <td>-0.329024</td>\n      <td>0.136126</td>\n    </tr>\n  </tbody>\n</table>\n<p>23220 rows × 18 columns</p>\n</div>"
     },
     "execution_count": 6,
     "metadata": {},
     "output_type": "execute_result"
    }
   ],
   "source": [
    "pd.read_csv(\"https://raw.githubusercontent.com/orioncohen/metal-bands-by-nation/main/cyclic_voltammetry_output.txt\", skiprows=80, sep='\\t', encoding='mac_roman')"
   ]
  },
  {
   "cell_type": "markdown",
   "metadata": {
    "pycharm": {
     "name": "#%% md\n"
    }
   },
   "source": [
    "Yay! We've successfully imported our DataFrame. Sometimes it just takes a little tinkering. We are going to move on to a nicer dataset for the rest of the workshop but hopefully this has given you a realistic view of how to troubleshoot your imports!\n",
    "\n",
    "In the next cell, we will import our data directly from a file hosted on GitHub. This is no harder than loading a `.csv` file on our local computer. We'll use this sick death metal data going forward."
   ]
  },
  {
   "cell_type": "code",
   "execution_count": 7,
   "metadata": {
    "id": "STJjQ_h2mLbQ"
   },
   "outputs": [],
   "source": [
    "# Make a data frame\n",
    "metal_bands_df = pd.read_csv(\"https://raw.githubusercontent.com/orioncohen/metal-bands-by-nation/main/metal_bands_2017.csv\")\n",
    "world_pop_df = pd.read_csv(\"https://raw.githubusercontent.com/orioncohen/metal-bands-by-nation/main/world_population_1960_2015.csv\")\n",
    "bands_df = pd.read_csv(\"https://raw.githubusercontent.com/orioncohen/metal-bands-by-nation/main/new_bands.csv\")"
   ]
  },
  {
   "cell_type": "markdown",
   "metadata": {
    "id": "x9FouXLapZdK"
   },
   "source": [
    "# What is our data? "
   ]
  },
  {
   "cell_type": "markdown",
   "metadata": {},
   "source": [
    "Let's take a look at our data to see what we're working with! We can look at just the first set of lines with the `head()` function. "
   ]
  },
  {
   "cell_type": "code",
   "execution_count": 8,
   "metadata": {},
   "outputs": [
    {
     "data": {
      "text/plain": "   Unnamed: 0  id                name        country    status  formed_in  \\\n0           2   3           .F.O.A.D.         France    Active     2009.0   \n1           4   5  12 Days of Anarchy  United States  Split-up     1998.0   \n2           6   7                1917      Argentina    Active     1994.0   \n3           7   8          5th Column  United States    Active     2003.0   \n4           9  10                 602         Russia    Active     2012.0   \n\n         genre                      theme     active  ended_in  \n0  Death Metal             Life and Death  2009-2022      2022  \n1  Death Metal                    Anarchy  1998-2002      2002  \n2  Death Metal  Dark Philosophical Poetry  1994-2022      2022  \n3  Death Metal                        War  2003-2022      2022  \n4  Death Metal         Cruelty of regimes  2012-2022      2022  ",
      "text/html": "<div>\n<style scoped>\n    .dataframe tbody tr th:only-of-type {\n        vertical-align: middle;\n    }\n\n    .dataframe tbody tr th {\n        vertical-align: top;\n    }\n\n    .dataframe thead th {\n        text-align: right;\n    }\n</style>\n<table border=\"1\" class=\"dataframe\">\n  <thead>\n    <tr style=\"text-align: right;\">\n      <th></th>\n      <th>Unnamed: 0</th>\n      <th>id</th>\n      <th>name</th>\n      <th>country</th>\n      <th>status</th>\n      <th>formed_in</th>\n      <th>genre</th>\n      <th>theme</th>\n      <th>active</th>\n      <th>ended_in</th>\n    </tr>\n  </thead>\n  <tbody>\n    <tr>\n      <th>0</th>\n      <td>2</td>\n      <td>3</td>\n      <td>.F.O.A.D.</td>\n      <td>France</td>\n      <td>Active</td>\n      <td>2009.0</td>\n      <td>Death Metal</td>\n      <td>Life and Death</td>\n      <td>2009-2022</td>\n      <td>2022</td>\n    </tr>\n    <tr>\n      <th>1</th>\n      <td>4</td>\n      <td>5</td>\n      <td>12 Days of Anarchy</td>\n      <td>United States</td>\n      <td>Split-up</td>\n      <td>1998.0</td>\n      <td>Death Metal</td>\n      <td>Anarchy</td>\n      <td>1998-2002</td>\n      <td>2002</td>\n    </tr>\n    <tr>\n      <th>2</th>\n      <td>6</td>\n      <td>7</td>\n      <td>1917</td>\n      <td>Argentina</td>\n      <td>Active</td>\n      <td>1994.0</td>\n      <td>Death Metal</td>\n      <td>Dark Philosophical Poetry</td>\n      <td>1994-2022</td>\n      <td>2022</td>\n    </tr>\n    <tr>\n      <th>3</th>\n      <td>7</td>\n      <td>8</td>\n      <td>5th Column</td>\n      <td>United States</td>\n      <td>Active</td>\n      <td>2003.0</td>\n      <td>Death Metal</td>\n      <td>War</td>\n      <td>2003-2022</td>\n      <td>2022</td>\n    </tr>\n    <tr>\n      <th>4</th>\n      <td>9</td>\n      <td>10</td>\n      <td>602</td>\n      <td>Russia</td>\n      <td>Active</td>\n      <td>2012.0</td>\n      <td>Death Metal</td>\n      <td>Cruelty of regimes</td>\n      <td>2012-2022</td>\n      <td>2022</td>\n    </tr>\n  </tbody>\n</table>\n</div>"
     },
     "execution_count": 8,
     "metadata": {},
     "output_type": "execute_result"
    }
   ],
   "source": [
    "bands_df.head()"
   ]
  },
  {
   "cell_type": "code",
   "execution_count": 9,
   "metadata": {},
   "outputs": [
    {
     "name": "stdout",
     "output_type": "stream",
     "text": [
      "<class 'pandas.core.frame.DataFrame'>\n",
      "RangeIndex: 12024 entries, 0 to 12023\n",
      "Data columns (total 10 columns):\n",
      " #   Column      Non-Null Count  Dtype  \n",
      "---  ------      --------------  -----  \n",
      " 0   Unnamed: 0  12024 non-null  int64  \n",
      " 1   id          12024 non-null  int64  \n",
      " 2   name        12024 non-null  object \n",
      " 3   country     12024 non-null  object \n",
      " 4   status      12024 non-null  object \n",
      " 5   formed_in   12024 non-null  float64\n",
      " 6   genre       12024 non-null  object \n",
      " 7   theme       12024 non-null  object \n",
      " 8   active      12024 non-null  object \n",
      " 9   ended_in    12024 non-null  int64  \n",
      "dtypes: float64(1), int64(3), object(6)\n",
      "memory usage: 939.5+ KB\n"
     ]
    }
   ],
   "source": [
    "bands_df.info()"
   ]
  },
  {
   "cell_type": "markdown",
   "source": [],
   "metadata": {
    "collapsed": false
   }
  },
  {
   "cell_type": "markdown",
   "metadata": {},
   "source": [
    "Looks like we know a bunch of information about each metal band! We have their `'name'`, their `'country'`, their `'genre'`...even the years that they were `'active'`! These are the columns of this data frame. Note that the `'id'` is different from the row number: `'id'` is a column in the data frame, so if we sorted the data differently, those would be reordered. "
   ]
  },
  {
   "cell_type": "markdown",
   "metadata": {},
   "source": [
    "Now let's check out our other data!"
   ]
  },
  {
   "cell_type": "code",
   "execution_count": 10,
   "metadata": {},
   "outputs": [
    {
     "data": {
      "text/plain": "   Unnamed: 0 Country Name       1960       1961       1962       1963  \\\n0           0        Aruba    54208.0    55435.0    56226.0    56697.0   \n1           1      Andorra    13414.0    14376.0    15376.0    16410.0   \n2           2  Afghanistan  8994793.0  9164945.0  9343772.0  9531555.0   \n3           3       Angola  5270844.0  5367287.0  5465905.0  5565808.0   \n4           4      Albania  1608800.0  1659800.0  1711319.0  1762621.0   \n\n        1964       1965        1966        1967  ...        2006        2007  \\\n0    57029.0    57360.0     57712.0     58049.0  ...    100830.0    101218.0   \n1    17470.0    18551.0     19646.0     20755.0  ...     83373.0     84878.0   \n2  9728645.0  9935358.0  10148841.0  10368600.0  ...  25183615.0  25877544.0   \n3  5665701.0  5765025.0   5863568.0   5962831.0  ...  18541467.0  19183907.0   \n4  1814135.0  1864791.0   1914573.0   1965598.0  ...   2992547.0   2970017.0   \n\n         2008        2009        2010        2011        2012        2013  \\\n0    101342.0    101416.0    101597.0    101936.0    102393.0    102921.0   \n1     85616.0     85474.0     84419.0     82326.0     79316.0     75902.0   \n2  26528741.0  27207291.0  27962207.0  28809167.0  29726803.0  30682500.0   \n3  19842251.0  20520103.0  21219954.0  21942296.0  22685632.0  23448202.0   \n4   2947314.0   2927519.0   2913021.0   2904780.0   2900247.0   2896652.0   \n\n         2014        2015  \n0    103441.0    103889.0  \n1     72786.0     70473.0  \n2  31627506.0  32526562.0  \n3  24227524.0  25021974.0  \n4   2893654.0   2889167.0  \n\n[5 rows x 58 columns]",
      "text/html": "<div>\n<style scoped>\n    .dataframe tbody tr th:only-of-type {\n        vertical-align: middle;\n    }\n\n    .dataframe tbody tr th {\n        vertical-align: top;\n    }\n\n    .dataframe thead th {\n        text-align: right;\n    }\n</style>\n<table border=\"1\" class=\"dataframe\">\n  <thead>\n    <tr style=\"text-align: right;\">\n      <th></th>\n      <th>Unnamed: 0</th>\n      <th>Country Name</th>\n      <th>1960</th>\n      <th>1961</th>\n      <th>1962</th>\n      <th>1963</th>\n      <th>1964</th>\n      <th>1965</th>\n      <th>1966</th>\n      <th>1967</th>\n      <th>...</th>\n      <th>2006</th>\n      <th>2007</th>\n      <th>2008</th>\n      <th>2009</th>\n      <th>2010</th>\n      <th>2011</th>\n      <th>2012</th>\n      <th>2013</th>\n      <th>2014</th>\n      <th>2015</th>\n    </tr>\n  </thead>\n  <tbody>\n    <tr>\n      <th>0</th>\n      <td>0</td>\n      <td>Aruba</td>\n      <td>54208.0</td>\n      <td>55435.0</td>\n      <td>56226.0</td>\n      <td>56697.0</td>\n      <td>57029.0</td>\n      <td>57360.0</td>\n      <td>57712.0</td>\n      <td>58049.0</td>\n      <td>...</td>\n      <td>100830.0</td>\n      <td>101218.0</td>\n      <td>101342.0</td>\n      <td>101416.0</td>\n      <td>101597.0</td>\n      <td>101936.0</td>\n      <td>102393.0</td>\n      <td>102921.0</td>\n      <td>103441.0</td>\n      <td>103889.0</td>\n    </tr>\n    <tr>\n      <th>1</th>\n      <td>1</td>\n      <td>Andorra</td>\n      <td>13414.0</td>\n      <td>14376.0</td>\n      <td>15376.0</td>\n      <td>16410.0</td>\n      <td>17470.0</td>\n      <td>18551.0</td>\n      <td>19646.0</td>\n      <td>20755.0</td>\n      <td>...</td>\n      <td>83373.0</td>\n      <td>84878.0</td>\n      <td>85616.0</td>\n      <td>85474.0</td>\n      <td>84419.0</td>\n      <td>82326.0</td>\n      <td>79316.0</td>\n      <td>75902.0</td>\n      <td>72786.0</td>\n      <td>70473.0</td>\n    </tr>\n    <tr>\n      <th>2</th>\n      <td>2</td>\n      <td>Afghanistan</td>\n      <td>8994793.0</td>\n      <td>9164945.0</td>\n      <td>9343772.0</td>\n      <td>9531555.0</td>\n      <td>9728645.0</td>\n      <td>9935358.0</td>\n      <td>10148841.0</td>\n      <td>10368600.0</td>\n      <td>...</td>\n      <td>25183615.0</td>\n      <td>25877544.0</td>\n      <td>26528741.0</td>\n      <td>27207291.0</td>\n      <td>27962207.0</td>\n      <td>28809167.0</td>\n      <td>29726803.0</td>\n      <td>30682500.0</td>\n      <td>31627506.0</td>\n      <td>32526562.0</td>\n    </tr>\n    <tr>\n      <th>3</th>\n      <td>3</td>\n      <td>Angola</td>\n      <td>5270844.0</td>\n      <td>5367287.0</td>\n      <td>5465905.0</td>\n      <td>5565808.0</td>\n      <td>5665701.0</td>\n      <td>5765025.0</td>\n      <td>5863568.0</td>\n      <td>5962831.0</td>\n      <td>...</td>\n      <td>18541467.0</td>\n      <td>19183907.0</td>\n      <td>19842251.0</td>\n      <td>20520103.0</td>\n      <td>21219954.0</td>\n      <td>21942296.0</td>\n      <td>22685632.0</td>\n      <td>23448202.0</td>\n      <td>24227524.0</td>\n      <td>25021974.0</td>\n    </tr>\n    <tr>\n      <th>4</th>\n      <td>4</td>\n      <td>Albania</td>\n      <td>1608800.0</td>\n      <td>1659800.0</td>\n      <td>1711319.0</td>\n      <td>1762621.0</td>\n      <td>1814135.0</td>\n      <td>1864791.0</td>\n      <td>1914573.0</td>\n      <td>1965598.0</td>\n      <td>...</td>\n      <td>2992547.0</td>\n      <td>2970017.0</td>\n      <td>2947314.0</td>\n      <td>2927519.0</td>\n      <td>2913021.0</td>\n      <td>2904780.0</td>\n      <td>2900247.0</td>\n      <td>2896652.0</td>\n      <td>2893654.0</td>\n      <td>2889167.0</td>\n    </tr>\n  </tbody>\n</table>\n<p>5 rows × 58 columns</p>\n</div>"
     },
     "execution_count": 10,
     "metadata": {},
     "output_type": "execute_result"
    }
   ],
   "source": [
    "world_pop_df.head()"
   ]
  },
  {
   "cell_type": "markdown",
   "metadata": {},
   "source": [
    "Here, the `'Unnamed: 0'` column is 0-index instead of 1-indexed...this is why it's helpful to take a peek at the dataframe itself!\n",
    "\n",
    "Ok, looks like the world population data is something we could use along with the bands data. Let's see if we can make a column called `'country_population'` in the bands dataframe that has the population of the country for that band. \n",
    "\n",
    "There are a couple different ways to add a column. If we had the data for the column as a list, we could do it like this:\n",
    "\n",
    "`band_df[\"country_population\"] = [283464, 1283389, ...]`\n",
    "\n",
    "Or if we wanted to put this information at a particular spot in the dataframe, we could use the `insert()` function:\n",
    "\n",
    "`band_df.insert(3, \"country_population\", [452342, 15425324, ...])`\n",
    "\n",
    "However, our best option will be the `assign()` function, because this provides a place for us to specify how to fill up the column:\n",
    "\n",
    "`band_df = band_df.assign(country_population = np.random.randint(10))`\n",
    "\n",
    "Except we need to figure out how to fetch the actual population number, rather than filling in a random number, of course!\n",
    "\n",
    "So, how do we get a particular element from our `world_pop_df`?"
   ]
  },
  {
   "cell_type": "code",
   "execution_count": 11,
   "metadata": {},
   "outputs": [
    {
     "data": {
      "text/plain": "United States    2460\nGermany           780\nBrazil            728\nItaly             499\nSweden            438\n                 ... \nTurkmenistan        1\nAngola              1\nSuriname            1\nAzerbaijan          1\nKenya               1\nName: country, Length: 119, dtype: int64"
     },
     "execution_count": 11,
     "metadata": {},
     "output_type": "execute_result"
    }
   ],
   "source": [
    "bands_df['country'].value_counts()"
   ]
  },
  {
   "cell_type": "code",
   "execution_count": 12,
   "metadata": {},
   "outputs": [
    {
     "data": {
      "text/plain": "0              Aruba\n1            Andorra\n2        Afghanistan\n3             Angola\n4            Albania\n           ...      \n264           Taiwan\n265         Guernsey\n266          Reunion\n267    Åland Islands\n268           Jersey\nName: Country Name, Length: 269, dtype: object"
     },
     "execution_count": 12,
     "metadata": {},
     "output_type": "execute_result"
    }
   ],
   "source": [
    "world_pop_df['Country Name']"
   ]
  },
  {
   "cell_type": "markdown",
   "metadata": {
    "id": "xvWZmPrMpM_z"
   },
   "source": [
    "# Cleaning the data\n",
    "\n",
    "What happens if there are no values in some of our cells? This can be a nuiscance when trying to do certain types of analysis. Let's start by removing any rows with missing values in our bands dataframe."
   ]
  },
  {
   "cell_type": "code",
   "execution_count": 13,
   "metadata": {},
   "outputs": [
    {
     "data": {
      "text/plain": "   Unnamed: 0  id                name        country    status  formed_in  \\\n0           2   3           .F.O.A.D.         France    Active     2009.0   \n1           4   5  12 Days of Anarchy  United States  Split-up     1998.0   \n2           6   7                1917      Argentina    Active     1994.0   \n3           7   8          5th Column  United States    Active     2003.0   \n4           9  10                 602         Russia    Active     2012.0   \n\n         genre                      theme     active  ended_in  \n0  Death Metal             Life and Death  2009-2022      2022  \n1  Death Metal                    Anarchy  1998-2002      2002  \n2  Death Metal  Dark Philosophical Poetry  1994-2022      2022  \n3  Death Metal                        War  2003-2022      2022  \n4  Death Metal         Cruelty of regimes  2012-2022      2022  ",
      "text/html": "<div>\n<style scoped>\n    .dataframe tbody tr th:only-of-type {\n        vertical-align: middle;\n    }\n\n    .dataframe tbody tr th {\n        vertical-align: top;\n    }\n\n    .dataframe thead th {\n        text-align: right;\n    }\n</style>\n<table border=\"1\" class=\"dataframe\">\n  <thead>\n    <tr style=\"text-align: right;\">\n      <th></th>\n      <th>Unnamed: 0</th>\n      <th>id</th>\n      <th>name</th>\n      <th>country</th>\n      <th>status</th>\n      <th>formed_in</th>\n      <th>genre</th>\n      <th>theme</th>\n      <th>active</th>\n      <th>ended_in</th>\n    </tr>\n  </thead>\n  <tbody>\n    <tr>\n      <th>0</th>\n      <td>2</td>\n      <td>3</td>\n      <td>.F.O.A.D.</td>\n      <td>France</td>\n      <td>Active</td>\n      <td>2009.0</td>\n      <td>Death Metal</td>\n      <td>Life and Death</td>\n      <td>2009-2022</td>\n      <td>2022</td>\n    </tr>\n    <tr>\n      <th>1</th>\n      <td>4</td>\n      <td>5</td>\n      <td>12 Days of Anarchy</td>\n      <td>United States</td>\n      <td>Split-up</td>\n      <td>1998.0</td>\n      <td>Death Metal</td>\n      <td>Anarchy</td>\n      <td>1998-2002</td>\n      <td>2002</td>\n    </tr>\n    <tr>\n      <th>2</th>\n      <td>6</td>\n      <td>7</td>\n      <td>1917</td>\n      <td>Argentina</td>\n      <td>Active</td>\n      <td>1994.0</td>\n      <td>Death Metal</td>\n      <td>Dark Philosophical Poetry</td>\n      <td>1994-2022</td>\n      <td>2022</td>\n    </tr>\n    <tr>\n      <th>3</th>\n      <td>7</td>\n      <td>8</td>\n      <td>5th Column</td>\n      <td>United States</td>\n      <td>Active</td>\n      <td>2003.0</td>\n      <td>Death Metal</td>\n      <td>War</td>\n      <td>2003-2022</td>\n      <td>2022</td>\n    </tr>\n    <tr>\n      <th>4</th>\n      <td>9</td>\n      <td>10</td>\n      <td>602</td>\n      <td>Russia</td>\n      <td>Active</td>\n      <td>2012.0</td>\n      <td>Death Metal</td>\n      <td>Cruelty of regimes</td>\n      <td>2012-2022</td>\n      <td>2022</td>\n    </tr>\n  </tbody>\n</table>\n</div>"
     },
     "execution_count": 13,
     "metadata": {},
     "output_type": "execute_result"
    }
   ],
   "source": [
    "bands_df = bands_df.dropna()\n",
    "bands_df.head()"
   ]
  },
  {
   "cell_type": "markdown",
   "metadata": {},
   "source": [
    "# Creating a column"
   ]
  },
  {
   "cell_type": "markdown",
   "metadata": {},
   "source": [
    "The 'formed_in', 'active', and 'ended_in' columns are all amazingly useful data, but right now we don't have a column that just tells us the age of each band, let's make that column. Note that currently most of the data in the table is stored as strings, so to do subtraction we need to change the string to a float using 'astype'."
   ]
  },
  {
   "cell_type": "code",
   "execution_count": 14,
   "metadata": {},
   "outputs": [
    {
     "data": {
      "text/plain": "   Unnamed: 0  id                name        country    status  formed_in  \\\n0           2   3           .F.O.A.D.         France    Active     2009.0   \n1           4   5  12 Days of Anarchy  United States  Split-up     1998.0   \n2           6   7                1917      Argentina    Active     1994.0   \n3           7   8          5th Column  United States    Active     2003.0   \n4           9  10                 602         Russia    Active     2012.0   \n\n         genre                      theme     active  ended_in   age  \n0  Death Metal             Life and Death  2009-2022      2022  13.0  \n1  Death Metal                    Anarchy  1998-2002      2002   4.0  \n2  Death Metal  Dark Philosophical Poetry  1994-2022      2022  28.0  \n3  Death Metal                        War  2003-2022      2022  19.0  \n4  Death Metal         Cruelty of regimes  2012-2022      2022  10.0  ",
      "text/html": "<div>\n<style scoped>\n    .dataframe tbody tr th:only-of-type {\n        vertical-align: middle;\n    }\n\n    .dataframe tbody tr th {\n        vertical-align: top;\n    }\n\n    .dataframe thead th {\n        text-align: right;\n    }\n</style>\n<table border=\"1\" class=\"dataframe\">\n  <thead>\n    <tr style=\"text-align: right;\">\n      <th></th>\n      <th>Unnamed: 0</th>\n      <th>id</th>\n      <th>name</th>\n      <th>country</th>\n      <th>status</th>\n      <th>formed_in</th>\n      <th>genre</th>\n      <th>theme</th>\n      <th>active</th>\n      <th>ended_in</th>\n      <th>age</th>\n    </tr>\n  </thead>\n  <tbody>\n    <tr>\n      <th>0</th>\n      <td>2</td>\n      <td>3</td>\n      <td>.F.O.A.D.</td>\n      <td>France</td>\n      <td>Active</td>\n      <td>2009.0</td>\n      <td>Death Metal</td>\n      <td>Life and Death</td>\n      <td>2009-2022</td>\n      <td>2022</td>\n      <td>13.0</td>\n    </tr>\n    <tr>\n      <th>1</th>\n      <td>4</td>\n      <td>5</td>\n      <td>12 Days of Anarchy</td>\n      <td>United States</td>\n      <td>Split-up</td>\n      <td>1998.0</td>\n      <td>Death Metal</td>\n      <td>Anarchy</td>\n      <td>1998-2002</td>\n      <td>2002</td>\n      <td>4.0</td>\n    </tr>\n    <tr>\n      <th>2</th>\n      <td>6</td>\n      <td>7</td>\n      <td>1917</td>\n      <td>Argentina</td>\n      <td>Active</td>\n      <td>1994.0</td>\n      <td>Death Metal</td>\n      <td>Dark Philosophical Poetry</td>\n      <td>1994-2022</td>\n      <td>2022</td>\n      <td>28.0</td>\n    </tr>\n    <tr>\n      <th>3</th>\n      <td>7</td>\n      <td>8</td>\n      <td>5th Column</td>\n      <td>United States</td>\n      <td>Active</td>\n      <td>2003.0</td>\n      <td>Death Metal</td>\n      <td>War</td>\n      <td>2003-2022</td>\n      <td>2022</td>\n      <td>19.0</td>\n    </tr>\n    <tr>\n      <th>4</th>\n      <td>9</td>\n      <td>10</td>\n      <td>602</td>\n      <td>Russia</td>\n      <td>Active</td>\n      <td>2012.0</td>\n      <td>Death Metal</td>\n      <td>Cruelty of regimes</td>\n      <td>2012-2022</td>\n      <td>2022</td>\n      <td>10.0</td>\n    </tr>\n  </tbody>\n</table>\n</div>"
     },
     "execution_count": 14,
     "metadata": {},
     "output_type": "execute_result"
    }
   ],
   "source": [
    "bands_df[\"age\"] = bands_df[\"ended_in\"].astype(float) - bands_df[\"formed_in\"].astype(float)\n",
    "bands_df.head()"
   ]
  },
  {
   "cell_type": "markdown",
   "metadata": {},
   "source": [
    "# Combining the bands and population data\n",
    "## How many metal bands does each country have per capita in 2015? "
   ]
  },
  {
   "cell_type": "markdown",
   "metadata": {},
   "source": [
    "How do we get the specific countries out of our world population data frame to add population information to our bands dataframe? We need to use the merge function!!"
   ]
  },
  {
   "cell_type": "markdown",
   "metadata": {},
   "source": [
    "Let's start by creating a new table using just the data we need from the 'bands' dataframe. We only need the country names, and the counts of how many times those country names appear in the table. "
   ]
  },
  {
   "cell_type": "markdown",
   "metadata": {},
   "source": [
    "We can use the function 'value_counts()' on the 'country' column in order to get how many times each country appears in the table. In order to get the country names as part of the dataframe that we can actually access we need to use the 'rename_axis' function. We then can use the 'reset_index' function in order to give our new column of value counts a useful name.\n",
    "Note that I'm calling our column of country names the same as the column label in the world population dataframe, this will make merging the tables easier!!"
   ]
  },
  {
   "cell_type": "code",
   "execution_count": 15,
   "metadata": {},
   "outputs": [
    {
     "data": {
      "text/plain": "    Country Name  num_bands\n0  United States       2460\n1        Germany        780\n2         Brazil        728\n3          Italy        499\n4         Sweden        438",
      "text/html": "<div>\n<style scoped>\n    .dataframe tbody tr th:only-of-type {\n        vertical-align: middle;\n    }\n\n    .dataframe tbody tr th {\n        vertical-align: top;\n    }\n\n    .dataframe thead th {\n        text-align: right;\n    }\n</style>\n<table border=\"1\" class=\"dataframe\">\n  <thead>\n    <tr style=\"text-align: right;\">\n      <th></th>\n      <th>Country Name</th>\n      <th>num_bands</th>\n    </tr>\n  </thead>\n  <tbody>\n    <tr>\n      <th>0</th>\n      <td>United States</td>\n      <td>2460</td>\n    </tr>\n    <tr>\n      <th>1</th>\n      <td>Germany</td>\n      <td>780</td>\n    </tr>\n    <tr>\n      <th>2</th>\n      <td>Brazil</td>\n      <td>728</td>\n    </tr>\n    <tr>\n      <th>3</th>\n      <td>Italy</td>\n      <td>499</td>\n    </tr>\n    <tr>\n      <th>4</th>\n      <td>Sweden</td>\n      <td>438</td>\n    </tr>\n  </tbody>\n</table>\n</div>"
     },
     "execution_count": 15,
     "metadata": {},
     "output_type": "execute_result"
    }
   ],
   "source": [
    "bands_pop = bands_df[\"country\"].value_counts()\n",
    "bands_pop = bands_pop.rename_axis(\"Country Name\")\n",
    "bands_pop = bands_pop.reset_index(name=\"num_bands\")\n",
    "bands_pop.head()"
   ]
  },
  {
   "cell_type": "markdown",
   "metadata": {},
   "source": [
    "Since our bands_pop and world_pop_df have columns with the same label the merge function will automatically merge the two dataframes so that the data in those matching columns align. "
   ]
  },
  {
   "cell_type": "code",
   "execution_count": 16,
   "metadata": {},
   "outputs": [
    {
     "data": {
      "text/plain": "    Country Name  num_bands  Unnamed: 0         1960         1961  \\\n0  United States       2460         248  180671000.0  183691000.0   \n1        Germany        780          52   72814900.0   73377632.0   \n2         Brazil        728          27   72493585.0   74706888.0   \n3          Italy        499         113   50199700.0   50536350.0   \n4         Sweden        438         220    7484656.0    7519998.0   \n\n          1962         1963         1964         1965         1966  ...  \\\n0  186538000.0  189242000.0  191889000.0  194303000.0  196560000.0  ...   \n1   74025784.0   74714353.0   75318337.0   75963695.0   76600311.0  ...   \n2   77007549.0   79368453.0   81751802.0   84130061.0   86494987.0  ...   \n3   50879450.0   51252000.0   51675350.0   52112350.0   52519000.0  ...   \n4    7561588.0    7604328.0    7661354.0    7733853.0    7807797.0  ...   \n\n          2006         2007         2008         2009         2010  \\\n0  298379912.0  301231207.0  304093966.0  306771529.0  309346863.0   \n1   82376451.0   82266372.0   82110097.0   81902307.0   81776930.0   \n2  190698241.0  192784521.0  194769696.0  196701298.0  198614208.0   \n3   58143979.0   58438310.0   58826731.0   59095365.0   59277417.0   \n4    9080505.0    9148092.0    9219637.0    9298515.0    9378126.0   \n\n          2011         2012         2013         2014         2015  \n0  311718857.0  314102623.0  316427395.0  318907401.0  321418820.0  \n1   81797673.0   80425823.0   82132753.0   80982500.0   81413145.0  \n2  200517584.0  202401584.0  204259377.0  206077898.0  207847528.0  \n3   59379449.0   59539717.0   60233948.0   60789140.0   60802085.0  \n4    9449213.0    9519374.0    9600379.0    9696110.0    9798871.0  \n\n[5 rows x 59 columns]",
      "text/html": "<div>\n<style scoped>\n    .dataframe tbody tr th:only-of-type {\n        vertical-align: middle;\n    }\n\n    .dataframe tbody tr th {\n        vertical-align: top;\n    }\n\n    .dataframe thead th {\n        text-align: right;\n    }\n</style>\n<table border=\"1\" class=\"dataframe\">\n  <thead>\n    <tr style=\"text-align: right;\">\n      <th></th>\n      <th>Country Name</th>\n      <th>num_bands</th>\n      <th>Unnamed: 0</th>\n      <th>1960</th>\n      <th>1961</th>\n      <th>1962</th>\n      <th>1963</th>\n      <th>1964</th>\n      <th>1965</th>\n      <th>1966</th>\n      <th>...</th>\n      <th>2006</th>\n      <th>2007</th>\n      <th>2008</th>\n      <th>2009</th>\n      <th>2010</th>\n      <th>2011</th>\n      <th>2012</th>\n      <th>2013</th>\n      <th>2014</th>\n      <th>2015</th>\n    </tr>\n  </thead>\n  <tbody>\n    <tr>\n      <th>0</th>\n      <td>United States</td>\n      <td>2460</td>\n      <td>248</td>\n      <td>180671000.0</td>\n      <td>183691000.0</td>\n      <td>186538000.0</td>\n      <td>189242000.0</td>\n      <td>191889000.0</td>\n      <td>194303000.0</td>\n      <td>196560000.0</td>\n      <td>...</td>\n      <td>298379912.0</td>\n      <td>301231207.0</td>\n      <td>304093966.0</td>\n      <td>306771529.0</td>\n      <td>309346863.0</td>\n      <td>311718857.0</td>\n      <td>314102623.0</td>\n      <td>316427395.0</td>\n      <td>318907401.0</td>\n      <td>321418820.0</td>\n    </tr>\n    <tr>\n      <th>1</th>\n      <td>Germany</td>\n      <td>780</td>\n      <td>52</td>\n      <td>72814900.0</td>\n      <td>73377632.0</td>\n      <td>74025784.0</td>\n      <td>74714353.0</td>\n      <td>75318337.0</td>\n      <td>75963695.0</td>\n      <td>76600311.0</td>\n      <td>...</td>\n      <td>82376451.0</td>\n      <td>82266372.0</td>\n      <td>82110097.0</td>\n      <td>81902307.0</td>\n      <td>81776930.0</td>\n      <td>81797673.0</td>\n      <td>80425823.0</td>\n      <td>82132753.0</td>\n      <td>80982500.0</td>\n      <td>81413145.0</td>\n    </tr>\n    <tr>\n      <th>2</th>\n      <td>Brazil</td>\n      <td>728</td>\n      <td>27</td>\n      <td>72493585.0</td>\n      <td>74706888.0</td>\n      <td>77007549.0</td>\n      <td>79368453.0</td>\n      <td>81751802.0</td>\n      <td>84130061.0</td>\n      <td>86494987.0</td>\n      <td>...</td>\n      <td>190698241.0</td>\n      <td>192784521.0</td>\n      <td>194769696.0</td>\n      <td>196701298.0</td>\n      <td>198614208.0</td>\n      <td>200517584.0</td>\n      <td>202401584.0</td>\n      <td>204259377.0</td>\n      <td>206077898.0</td>\n      <td>207847528.0</td>\n    </tr>\n    <tr>\n      <th>3</th>\n      <td>Italy</td>\n      <td>499</td>\n      <td>113</td>\n      <td>50199700.0</td>\n      <td>50536350.0</td>\n      <td>50879450.0</td>\n      <td>51252000.0</td>\n      <td>51675350.0</td>\n      <td>52112350.0</td>\n      <td>52519000.0</td>\n      <td>...</td>\n      <td>58143979.0</td>\n      <td>58438310.0</td>\n      <td>58826731.0</td>\n      <td>59095365.0</td>\n      <td>59277417.0</td>\n      <td>59379449.0</td>\n      <td>59539717.0</td>\n      <td>60233948.0</td>\n      <td>60789140.0</td>\n      <td>60802085.0</td>\n    </tr>\n    <tr>\n      <th>4</th>\n      <td>Sweden</td>\n      <td>438</td>\n      <td>220</td>\n      <td>7484656.0</td>\n      <td>7519998.0</td>\n      <td>7561588.0</td>\n      <td>7604328.0</td>\n      <td>7661354.0</td>\n      <td>7733853.0</td>\n      <td>7807797.0</td>\n      <td>...</td>\n      <td>9080505.0</td>\n      <td>9148092.0</td>\n      <td>9219637.0</td>\n      <td>9298515.0</td>\n      <td>9378126.0</td>\n      <td>9449213.0</td>\n      <td>9519374.0</td>\n      <td>9600379.0</td>\n      <td>9696110.0</td>\n      <td>9798871.0</td>\n    </tr>\n  </tbody>\n</table>\n<p>5 rows × 59 columns</p>\n</div>"
     },
     "execution_count": 16,
     "metadata": {},
     "output_type": "execute_result"
    }
   ],
   "source": [
    "bands_pop = bands_pop.merge(world_pop_df)\n",
    "bands_pop.head()"
   ]
  },
  {
   "cell_type": "markdown",
   "metadata": {},
   "source": [
    "We now have our table set up in a useful way, let's look at how many metal bands there were per capita in 2015. "
   ]
  },
  {
   "cell_type": "code",
   "execution_count": 22,
   "metadata": {
    "scrolled": true
   },
   "outputs": [
    {
     "data": {
      "text/plain": "      Country Name  num_bands  Unnamed: 0       1960       1961       1962  \\\n8          Finland        375          72  4429634.0  4461005.0  4491443.0   \n94   Faroe Islands          3          75    34266.0    34730.0    35153.0   \n4           Sweden        438         220  7484656.0  7519998.0  7561588.0   \n70         Iceland         11         111   175574.0   179029.0   182378.0   \n104         Monaco          1         147    22454.0    22812.0    23042.0   \n\n          1963       1964       1965       1966  ...       2007       2008  \\\n8    4523309.0  4548543.0  4563732.0  4580869.0  ...  5288720.0  5313399.0   \n94     35550.0    35946.0    36363.0    36804.0  ...    48599.0    48629.0   \n4    7604328.0  7661354.0  7733853.0  7807797.0  ...  9148092.0  9219637.0   \n70    185653.0   188983.0   192286.0   195570.0  ...   311566.0   317414.0   \n104    23169.0    23237.0    23283.0    23304.0  ...    35046.0    35731.0   \n\n          2009       2010       2011       2012       2013       2014  \\\n8    5338871.0  5363352.0  5388272.0  5413971.0  5438972.0  5461512.0   \n94     48613.0    48567.0    48492.0    48393.0    48292.0    48221.0   \n4    9298515.0  9378126.0  9449213.0  9519374.0  9600379.0  9696110.0   \n70    318499.0   318041.0   319014.0   320716.0   323764.0   327386.0   \n104    36351.0    36845.0    37189.0    37404.0    37528.0    37623.0   \n\n          2015  per_capita  \n8    5482013.0    0.000068  \n94     48199.0    0.000062  \n4    9798871.0    0.000045  \n70    330823.0    0.000033  \n104    37731.0    0.000027  \n\n[5 rows x 60 columns]",
      "text/html": "<div>\n<style scoped>\n    .dataframe tbody tr th:only-of-type {\n        vertical-align: middle;\n    }\n\n    .dataframe tbody tr th {\n        vertical-align: top;\n    }\n\n    .dataframe thead th {\n        text-align: right;\n    }\n</style>\n<table border=\"1\" class=\"dataframe\">\n  <thead>\n    <tr style=\"text-align: right;\">\n      <th></th>\n      <th>Country Name</th>\n      <th>num_bands</th>\n      <th>Unnamed: 0</th>\n      <th>1960</th>\n      <th>1961</th>\n      <th>1962</th>\n      <th>1963</th>\n      <th>1964</th>\n      <th>1965</th>\n      <th>1966</th>\n      <th>...</th>\n      <th>2007</th>\n      <th>2008</th>\n      <th>2009</th>\n      <th>2010</th>\n      <th>2011</th>\n      <th>2012</th>\n      <th>2013</th>\n      <th>2014</th>\n      <th>2015</th>\n      <th>per_capita</th>\n    </tr>\n  </thead>\n  <tbody>\n    <tr>\n      <th>8</th>\n      <td>Finland</td>\n      <td>375</td>\n      <td>72</td>\n      <td>4429634.0</td>\n      <td>4461005.0</td>\n      <td>4491443.0</td>\n      <td>4523309.0</td>\n      <td>4548543.0</td>\n      <td>4563732.0</td>\n      <td>4580869.0</td>\n      <td>...</td>\n      <td>5288720.0</td>\n      <td>5313399.0</td>\n      <td>5338871.0</td>\n      <td>5363352.0</td>\n      <td>5388272.0</td>\n      <td>5413971.0</td>\n      <td>5438972.0</td>\n      <td>5461512.0</td>\n      <td>5482013.0</td>\n      <td>0.000068</td>\n    </tr>\n    <tr>\n      <th>94</th>\n      <td>Faroe Islands</td>\n      <td>3</td>\n      <td>75</td>\n      <td>34266.0</td>\n      <td>34730.0</td>\n      <td>35153.0</td>\n      <td>35550.0</td>\n      <td>35946.0</td>\n      <td>36363.0</td>\n      <td>36804.0</td>\n      <td>...</td>\n      <td>48599.0</td>\n      <td>48629.0</td>\n      <td>48613.0</td>\n      <td>48567.0</td>\n      <td>48492.0</td>\n      <td>48393.0</td>\n      <td>48292.0</td>\n      <td>48221.0</td>\n      <td>48199.0</td>\n      <td>0.000062</td>\n    </tr>\n    <tr>\n      <th>4</th>\n      <td>Sweden</td>\n      <td>438</td>\n      <td>220</td>\n      <td>7484656.0</td>\n      <td>7519998.0</td>\n      <td>7561588.0</td>\n      <td>7604328.0</td>\n      <td>7661354.0</td>\n      <td>7733853.0</td>\n      <td>7807797.0</td>\n      <td>...</td>\n      <td>9148092.0</td>\n      <td>9219637.0</td>\n      <td>9298515.0</td>\n      <td>9378126.0</td>\n      <td>9449213.0</td>\n      <td>9519374.0</td>\n      <td>9600379.0</td>\n      <td>9696110.0</td>\n      <td>9798871.0</td>\n      <td>0.000045</td>\n    </tr>\n    <tr>\n      <th>70</th>\n      <td>Iceland</td>\n      <td>11</td>\n      <td>111</td>\n      <td>175574.0</td>\n      <td>179029.0</td>\n      <td>182378.0</td>\n      <td>185653.0</td>\n      <td>188983.0</td>\n      <td>192286.0</td>\n      <td>195570.0</td>\n      <td>...</td>\n      <td>311566.0</td>\n      <td>317414.0</td>\n      <td>318499.0</td>\n      <td>318041.0</td>\n      <td>319014.0</td>\n      <td>320716.0</td>\n      <td>323764.0</td>\n      <td>327386.0</td>\n      <td>330823.0</td>\n      <td>0.000033</td>\n    </tr>\n    <tr>\n      <th>104</th>\n      <td>Monaco</td>\n      <td>1</td>\n      <td>147</td>\n      <td>22454.0</td>\n      <td>22812.0</td>\n      <td>23042.0</td>\n      <td>23169.0</td>\n      <td>23237.0</td>\n      <td>23283.0</td>\n      <td>23304.0</td>\n      <td>...</td>\n      <td>35046.0</td>\n      <td>35731.0</td>\n      <td>36351.0</td>\n      <td>36845.0</td>\n      <td>37189.0</td>\n      <td>37404.0</td>\n      <td>37528.0</td>\n      <td>37623.0</td>\n      <td>37731.0</td>\n      <td>0.000027</td>\n    </tr>\n  </tbody>\n</table>\n<p>5 rows × 60 columns</p>\n</div>"
     },
     "execution_count": 22,
     "metadata": {},
     "output_type": "execute_result"
    }
   ],
   "source": [
    "bands_pop.dropna(inplace=True)\n",
    "#print(bands_pop.to_string())\n",
    "bands_pop[\"per_capita\"] = bands_pop[\"num_bands\"].astype(float) / bands_pop[\"2015\"].astype(float)\n",
    "bands_pop = bands_pop.sort_values(by=[\"per_capita\"], ascending=False)\n",
    "bands_pop.head()"
   ]
  },
  {
   "cell_type": "markdown",
   "metadata": {},
   "source": [
    "Those numbers are annoyingly small, let's do it per million residents by multiplying our new column by a constant factor. Since our table is sorted by descending per capita counts, looking at the first few rows will tell us which countries have the most metal bands per capita!"
   ]
  },
  {
   "cell_type": "code",
   "execution_count": 36,
   "metadata": {},
   "outputs": [
    {
     "data": {
      "text/plain": "       Country Name  num_bands  Unnamed: 0        1960        1961  \\\n8           Finland        375          72   4429634.0   4461005.0   \n94    Faroe Islands          3          75     34266.0     34730.0   \n4            Sweden        438         220   7484656.0   7519998.0   \n70          Iceland         11         111    175574.0    179029.0   \n104          Monaco          1         147     22454.0     22812.0   \n9             Chile        338          37   7695692.0   7873504.0   \n95             Guam          3          90     66741.0     68073.0   \n71       Luxembourg         10         142    313970.0    316845.0   \n18           Greece        176          86   8331725.0   8398050.0   \n74            Malta          7         157    326550.0    325250.0   \n30           Norway         76         175   3581239.0   3609800.0   \n107         Andorra          1           1     13414.0     14376.0   \n17      Netherlands        230         174  11486631.0  11638712.0   \n31         Slovakia         71         218   4068095.0   4191667.0   \n15        Australia        294          11  10276477.0  10483000.0   \n57          Estonia         16          68   1211537.0   1225077.0   \n33          Denmark         68          55   4579603.0   4611687.0   \n20   Czech Republic        121          51   9602006.0   9586651.0   \n22         Portugal        118         192   8857716.0   8929316.0   \n6            Canada        406          33  17909009.0  18271000.0   \n\n           1962        1963        1964        1965        1966  ...  \\\n8     4491443.0   4523309.0   4548543.0   4563732.0   4580869.0  ...   \n94      35153.0     35550.0     35946.0     36363.0     36804.0  ...   \n4     7561588.0   7604328.0   7661354.0   7733853.0   7807797.0  ...   \n70     182378.0    185653.0    188983.0    192286.0    195570.0  ...   \n104     23042.0     23169.0     23237.0     23283.0     23304.0  ...   \n9     8054166.0   8237555.0   8423614.0   8612074.0   8802926.0  ...   \n95      69607.0     71289.0     73048.0     74827.0     76611.0  ...   \n71     320750.0    324100.0    327750.0    331500.0    333895.0  ...   \n18    8448233.0   8479625.0   8510429.0   8550333.0   8613651.0  ...   \n74     323900.0    322550.0    321250.0    318800.0    315200.0  ...   \n30    3638918.0   3666537.0   3694339.0   3723168.0   3753012.0  ...   \n107     15376.0     16410.0     17470.0     18551.0     19646.0  ...   \n17   11805689.0  11965966.0  12127120.0  12294732.0  12456251.0  ...   \n31    4238188.0   4282017.0   4327341.0   4370983.0   4411666.0  ...   \n15   10742000.0  10950000.0  11167000.0  11388000.0  11651000.0  ...   \n57    1241623.0   1258857.0   1277086.0   1294566.0   1308597.0  ...   \n33    4647727.0   4684483.0   4722072.0   4759012.0   4797381.0  ...   \n20    9624660.0   9670685.0   9727804.0   9779358.0   9821040.0  ...   \n22    8993985.0   9030355.0   9035365.0   8998595.0   8930990.0  ...   \n6    18614000.0  18964000.0  19325000.0  19678000.0  20048000.0  ...   \n\n           2007        2008        2009        2010        2011        2012  \\\n8     5288720.0   5313399.0   5338871.0   5363352.0   5388272.0   5413971.0   \n94      48599.0     48629.0     48613.0     48567.0     48492.0     48393.0   \n4     9148092.0   9219637.0   9298515.0   9378126.0   9449213.0   9519374.0   \n70     311566.0    317414.0    318499.0    318041.0    319014.0    320716.0   \n104     35046.0     35731.0     36351.0     36845.0     37189.0     37404.0   \n9    16462701.0  16645940.0  16829957.0  17015048.0  17201305.0  17388437.0   \n95     158332.0    158310.0    158621.0    159440.0    160858.0    162807.0   \n71     479993.0    488650.0    497783.0    506953.0    518347.0    530946.0   \n18   11048473.0  11077841.0  11107017.0  11121341.0  11104899.0  11045011.0   \n74     406724.0    409379.0    412477.0    414508.0    416268.0    419455.0   \n30    4709153.0   4768212.0   4828726.0   4889252.0   4953088.0   5018573.0   \n107     84878.0     85616.0     85474.0     84419.0     82326.0     79316.0   \n17   16381696.0  16445593.0  16530388.0  16615394.0  16693074.0  16754962.0   \n31    5374622.0   5379233.0   5386406.0   5391428.0   5398384.0   5407579.0   \n15   20827600.0  21249200.0  21691700.0  22031750.0  22340024.0  22728254.0   \n57    1340680.0   1337090.0   1334515.0   1331475.0   1327439.0   1322696.0   \n33    5461438.0   5493621.0   5523095.0   5547683.0   5570572.0   5591572.0   \n20   10298828.0  10384603.0  10443936.0  10474410.0  10496088.0  10510785.0   \n22   10542964.0  10558177.0  10568247.0  10573100.0  10557560.0  10514844.0   \n6    32887928.0  33245773.0  33628571.0  34005274.0  34342780.0  34751476.0   \n\n           2013        2014        2015    per_capita  \n8     5438972.0   5461512.0   5482013.0  6.840553e+07  \n94      48292.0     48221.0     48199.0  6.224196e+07  \n4     9600379.0   9696110.0   9798871.0  4.469903e+07  \n70     323764.0    327386.0    330823.0  3.325041e+07  \n104     37528.0     37623.0     37731.0  2.650341e+07  \n9    17575833.0  17762647.0  17948141.0  1.883203e+07  \n95     165121.0    167543.0    169885.0  1.765900e+07  \n71     543360.0    556319.0    569676.0  1.755384e+07  \n18   10965211.0  10892413.0  10823732.0  1.626057e+07  \n74     423374.0    427364.0    431333.0  1.622876e+07  \n30    5079623.0   5137232.0   5195921.0  1.462686e+07  \n107     75902.0     72786.0     70473.0  1.418983e+07  \n17   16804432.0  16865008.0  16936520.0  1.358012e+07  \n31    5413393.0   5418649.0   5424050.0  1.308985e+07  \n15   23117353.0  23464086.0  23781169.0  1.236272e+07  \n57    1317997.0   1314545.0   1311998.0  1.219514e+07  \n33    5614932.0   5643475.0   5676002.0  1.198026e+07  \n20   10514272.0  10525347.0  10551219.0  1.146787e+07  \n22   10457295.0  10401062.0  10348648.0  1.140246e+07  \n6    35155499.0  35543658.0  35851774.0  1.132440e+07  \n\n[20 rows x 60 columns]",
      "text/html": "<div>\n<style scoped>\n    .dataframe tbody tr th:only-of-type {\n        vertical-align: middle;\n    }\n\n    .dataframe tbody tr th {\n        vertical-align: top;\n    }\n\n    .dataframe thead th {\n        text-align: right;\n    }\n</style>\n<table border=\"1\" class=\"dataframe\">\n  <thead>\n    <tr style=\"text-align: right;\">\n      <th></th>\n      <th>Country Name</th>\n      <th>num_bands</th>\n      <th>Unnamed: 0</th>\n      <th>1960</th>\n      <th>1961</th>\n      <th>1962</th>\n      <th>1963</th>\n      <th>1964</th>\n      <th>1965</th>\n      <th>1966</th>\n      <th>...</th>\n      <th>2007</th>\n      <th>2008</th>\n      <th>2009</th>\n      <th>2010</th>\n      <th>2011</th>\n      <th>2012</th>\n      <th>2013</th>\n      <th>2014</th>\n      <th>2015</th>\n      <th>per_capita</th>\n    </tr>\n  </thead>\n  <tbody>\n    <tr>\n      <th>8</th>\n      <td>Finland</td>\n      <td>375</td>\n      <td>72</td>\n      <td>4429634.0</td>\n      <td>4461005.0</td>\n      <td>4491443.0</td>\n      <td>4523309.0</td>\n      <td>4548543.0</td>\n      <td>4563732.0</td>\n      <td>4580869.0</td>\n      <td>...</td>\n      <td>5288720.0</td>\n      <td>5313399.0</td>\n      <td>5338871.0</td>\n      <td>5363352.0</td>\n      <td>5388272.0</td>\n      <td>5413971.0</td>\n      <td>5438972.0</td>\n      <td>5461512.0</td>\n      <td>5482013.0</td>\n      <td>6.840553e+07</td>\n    </tr>\n    <tr>\n      <th>94</th>\n      <td>Faroe Islands</td>\n      <td>3</td>\n      <td>75</td>\n      <td>34266.0</td>\n      <td>34730.0</td>\n      <td>35153.0</td>\n      <td>35550.0</td>\n      <td>35946.0</td>\n      <td>36363.0</td>\n      <td>36804.0</td>\n      <td>...</td>\n      <td>48599.0</td>\n      <td>48629.0</td>\n      <td>48613.0</td>\n      <td>48567.0</td>\n      <td>48492.0</td>\n      <td>48393.0</td>\n      <td>48292.0</td>\n      <td>48221.0</td>\n      <td>48199.0</td>\n      <td>6.224196e+07</td>\n    </tr>\n    <tr>\n      <th>4</th>\n      <td>Sweden</td>\n      <td>438</td>\n      <td>220</td>\n      <td>7484656.0</td>\n      <td>7519998.0</td>\n      <td>7561588.0</td>\n      <td>7604328.0</td>\n      <td>7661354.0</td>\n      <td>7733853.0</td>\n      <td>7807797.0</td>\n      <td>...</td>\n      <td>9148092.0</td>\n      <td>9219637.0</td>\n      <td>9298515.0</td>\n      <td>9378126.0</td>\n      <td>9449213.0</td>\n      <td>9519374.0</td>\n      <td>9600379.0</td>\n      <td>9696110.0</td>\n      <td>9798871.0</td>\n      <td>4.469903e+07</td>\n    </tr>\n    <tr>\n      <th>70</th>\n      <td>Iceland</td>\n      <td>11</td>\n      <td>111</td>\n      <td>175574.0</td>\n      <td>179029.0</td>\n      <td>182378.0</td>\n      <td>185653.0</td>\n      <td>188983.0</td>\n      <td>192286.0</td>\n      <td>195570.0</td>\n      <td>...</td>\n      <td>311566.0</td>\n      <td>317414.0</td>\n      <td>318499.0</td>\n      <td>318041.0</td>\n      <td>319014.0</td>\n      <td>320716.0</td>\n      <td>323764.0</td>\n      <td>327386.0</td>\n      <td>330823.0</td>\n      <td>3.325041e+07</td>\n    </tr>\n    <tr>\n      <th>104</th>\n      <td>Monaco</td>\n      <td>1</td>\n      <td>147</td>\n      <td>22454.0</td>\n      <td>22812.0</td>\n      <td>23042.0</td>\n      <td>23169.0</td>\n      <td>23237.0</td>\n      <td>23283.0</td>\n      <td>23304.0</td>\n      <td>...</td>\n      <td>35046.0</td>\n      <td>35731.0</td>\n      <td>36351.0</td>\n      <td>36845.0</td>\n      <td>37189.0</td>\n      <td>37404.0</td>\n      <td>37528.0</td>\n      <td>37623.0</td>\n      <td>37731.0</td>\n      <td>2.650341e+07</td>\n    </tr>\n    <tr>\n      <th>9</th>\n      <td>Chile</td>\n      <td>338</td>\n      <td>37</td>\n      <td>7695692.0</td>\n      <td>7873504.0</td>\n      <td>8054166.0</td>\n      <td>8237555.0</td>\n      <td>8423614.0</td>\n      <td>8612074.0</td>\n      <td>8802926.0</td>\n      <td>...</td>\n      <td>16462701.0</td>\n      <td>16645940.0</td>\n      <td>16829957.0</td>\n      <td>17015048.0</td>\n      <td>17201305.0</td>\n      <td>17388437.0</td>\n      <td>17575833.0</td>\n      <td>17762647.0</td>\n      <td>17948141.0</td>\n      <td>1.883203e+07</td>\n    </tr>\n    <tr>\n      <th>95</th>\n      <td>Guam</td>\n      <td>3</td>\n      <td>90</td>\n      <td>66741.0</td>\n      <td>68073.0</td>\n      <td>69607.0</td>\n      <td>71289.0</td>\n      <td>73048.0</td>\n      <td>74827.0</td>\n      <td>76611.0</td>\n      <td>...</td>\n      <td>158332.0</td>\n      <td>158310.0</td>\n      <td>158621.0</td>\n      <td>159440.0</td>\n      <td>160858.0</td>\n      <td>162807.0</td>\n      <td>165121.0</td>\n      <td>167543.0</td>\n      <td>169885.0</td>\n      <td>1.765900e+07</td>\n    </tr>\n    <tr>\n      <th>71</th>\n      <td>Luxembourg</td>\n      <td>10</td>\n      <td>142</td>\n      <td>313970.0</td>\n      <td>316845.0</td>\n      <td>320750.0</td>\n      <td>324100.0</td>\n      <td>327750.0</td>\n      <td>331500.0</td>\n      <td>333895.0</td>\n      <td>...</td>\n      <td>479993.0</td>\n      <td>488650.0</td>\n      <td>497783.0</td>\n      <td>506953.0</td>\n      <td>518347.0</td>\n      <td>530946.0</td>\n      <td>543360.0</td>\n      <td>556319.0</td>\n      <td>569676.0</td>\n      <td>1.755384e+07</td>\n    </tr>\n    <tr>\n      <th>18</th>\n      <td>Greece</td>\n      <td>176</td>\n      <td>86</td>\n      <td>8331725.0</td>\n      <td>8398050.0</td>\n      <td>8448233.0</td>\n      <td>8479625.0</td>\n      <td>8510429.0</td>\n      <td>8550333.0</td>\n      <td>8613651.0</td>\n      <td>...</td>\n      <td>11048473.0</td>\n      <td>11077841.0</td>\n      <td>11107017.0</td>\n      <td>11121341.0</td>\n      <td>11104899.0</td>\n      <td>11045011.0</td>\n      <td>10965211.0</td>\n      <td>10892413.0</td>\n      <td>10823732.0</td>\n      <td>1.626057e+07</td>\n    </tr>\n    <tr>\n      <th>74</th>\n      <td>Malta</td>\n      <td>7</td>\n      <td>157</td>\n      <td>326550.0</td>\n      <td>325250.0</td>\n      <td>323900.0</td>\n      <td>322550.0</td>\n      <td>321250.0</td>\n      <td>318800.0</td>\n      <td>315200.0</td>\n      <td>...</td>\n      <td>406724.0</td>\n      <td>409379.0</td>\n      <td>412477.0</td>\n      <td>414508.0</td>\n      <td>416268.0</td>\n      <td>419455.0</td>\n      <td>423374.0</td>\n      <td>427364.0</td>\n      <td>431333.0</td>\n      <td>1.622876e+07</td>\n    </tr>\n    <tr>\n      <th>30</th>\n      <td>Norway</td>\n      <td>76</td>\n      <td>175</td>\n      <td>3581239.0</td>\n      <td>3609800.0</td>\n      <td>3638918.0</td>\n      <td>3666537.0</td>\n      <td>3694339.0</td>\n      <td>3723168.0</td>\n      <td>3753012.0</td>\n      <td>...</td>\n      <td>4709153.0</td>\n      <td>4768212.0</td>\n      <td>4828726.0</td>\n      <td>4889252.0</td>\n      <td>4953088.0</td>\n      <td>5018573.0</td>\n      <td>5079623.0</td>\n      <td>5137232.0</td>\n      <td>5195921.0</td>\n      <td>1.462686e+07</td>\n    </tr>\n    <tr>\n      <th>107</th>\n      <td>Andorra</td>\n      <td>1</td>\n      <td>1</td>\n      <td>13414.0</td>\n      <td>14376.0</td>\n      <td>15376.0</td>\n      <td>16410.0</td>\n      <td>17470.0</td>\n      <td>18551.0</td>\n      <td>19646.0</td>\n      <td>...</td>\n      <td>84878.0</td>\n      <td>85616.0</td>\n      <td>85474.0</td>\n      <td>84419.0</td>\n      <td>82326.0</td>\n      <td>79316.0</td>\n      <td>75902.0</td>\n      <td>72786.0</td>\n      <td>70473.0</td>\n      <td>1.418983e+07</td>\n    </tr>\n    <tr>\n      <th>17</th>\n      <td>Netherlands</td>\n      <td>230</td>\n      <td>174</td>\n      <td>11486631.0</td>\n      <td>11638712.0</td>\n      <td>11805689.0</td>\n      <td>11965966.0</td>\n      <td>12127120.0</td>\n      <td>12294732.0</td>\n      <td>12456251.0</td>\n      <td>...</td>\n      <td>16381696.0</td>\n      <td>16445593.0</td>\n      <td>16530388.0</td>\n      <td>16615394.0</td>\n      <td>16693074.0</td>\n      <td>16754962.0</td>\n      <td>16804432.0</td>\n      <td>16865008.0</td>\n      <td>16936520.0</td>\n      <td>1.358012e+07</td>\n    </tr>\n    <tr>\n      <th>31</th>\n      <td>Slovakia</td>\n      <td>71</td>\n      <td>218</td>\n      <td>4068095.0</td>\n      <td>4191667.0</td>\n      <td>4238188.0</td>\n      <td>4282017.0</td>\n      <td>4327341.0</td>\n      <td>4370983.0</td>\n      <td>4411666.0</td>\n      <td>...</td>\n      <td>5374622.0</td>\n      <td>5379233.0</td>\n      <td>5386406.0</td>\n      <td>5391428.0</td>\n      <td>5398384.0</td>\n      <td>5407579.0</td>\n      <td>5413393.0</td>\n      <td>5418649.0</td>\n      <td>5424050.0</td>\n      <td>1.308985e+07</td>\n    </tr>\n    <tr>\n      <th>15</th>\n      <td>Australia</td>\n      <td>294</td>\n      <td>11</td>\n      <td>10276477.0</td>\n      <td>10483000.0</td>\n      <td>10742000.0</td>\n      <td>10950000.0</td>\n      <td>11167000.0</td>\n      <td>11388000.0</td>\n      <td>11651000.0</td>\n      <td>...</td>\n      <td>20827600.0</td>\n      <td>21249200.0</td>\n      <td>21691700.0</td>\n      <td>22031750.0</td>\n      <td>22340024.0</td>\n      <td>22728254.0</td>\n      <td>23117353.0</td>\n      <td>23464086.0</td>\n      <td>23781169.0</td>\n      <td>1.236272e+07</td>\n    </tr>\n    <tr>\n      <th>57</th>\n      <td>Estonia</td>\n      <td>16</td>\n      <td>68</td>\n      <td>1211537.0</td>\n      <td>1225077.0</td>\n      <td>1241623.0</td>\n      <td>1258857.0</td>\n      <td>1277086.0</td>\n      <td>1294566.0</td>\n      <td>1308597.0</td>\n      <td>...</td>\n      <td>1340680.0</td>\n      <td>1337090.0</td>\n      <td>1334515.0</td>\n      <td>1331475.0</td>\n      <td>1327439.0</td>\n      <td>1322696.0</td>\n      <td>1317997.0</td>\n      <td>1314545.0</td>\n      <td>1311998.0</td>\n      <td>1.219514e+07</td>\n    </tr>\n    <tr>\n      <th>33</th>\n      <td>Denmark</td>\n      <td>68</td>\n      <td>55</td>\n      <td>4579603.0</td>\n      <td>4611687.0</td>\n      <td>4647727.0</td>\n      <td>4684483.0</td>\n      <td>4722072.0</td>\n      <td>4759012.0</td>\n      <td>4797381.0</td>\n      <td>...</td>\n      <td>5461438.0</td>\n      <td>5493621.0</td>\n      <td>5523095.0</td>\n      <td>5547683.0</td>\n      <td>5570572.0</td>\n      <td>5591572.0</td>\n      <td>5614932.0</td>\n      <td>5643475.0</td>\n      <td>5676002.0</td>\n      <td>1.198026e+07</td>\n    </tr>\n    <tr>\n      <th>20</th>\n      <td>Czech Republic</td>\n      <td>121</td>\n      <td>51</td>\n      <td>9602006.0</td>\n      <td>9586651.0</td>\n      <td>9624660.0</td>\n      <td>9670685.0</td>\n      <td>9727804.0</td>\n      <td>9779358.0</td>\n      <td>9821040.0</td>\n      <td>...</td>\n      <td>10298828.0</td>\n      <td>10384603.0</td>\n      <td>10443936.0</td>\n      <td>10474410.0</td>\n      <td>10496088.0</td>\n      <td>10510785.0</td>\n      <td>10514272.0</td>\n      <td>10525347.0</td>\n      <td>10551219.0</td>\n      <td>1.146787e+07</td>\n    </tr>\n    <tr>\n      <th>22</th>\n      <td>Portugal</td>\n      <td>118</td>\n      <td>192</td>\n      <td>8857716.0</td>\n      <td>8929316.0</td>\n      <td>8993985.0</td>\n      <td>9030355.0</td>\n      <td>9035365.0</td>\n      <td>8998595.0</td>\n      <td>8930990.0</td>\n      <td>...</td>\n      <td>10542964.0</td>\n      <td>10558177.0</td>\n      <td>10568247.0</td>\n      <td>10573100.0</td>\n      <td>10557560.0</td>\n      <td>10514844.0</td>\n      <td>10457295.0</td>\n      <td>10401062.0</td>\n      <td>10348648.0</td>\n      <td>1.140246e+07</td>\n    </tr>\n    <tr>\n      <th>6</th>\n      <td>Canada</td>\n      <td>406</td>\n      <td>33</td>\n      <td>17909009.0</td>\n      <td>18271000.0</td>\n      <td>18614000.0</td>\n      <td>18964000.0</td>\n      <td>19325000.0</td>\n      <td>19678000.0</td>\n      <td>20048000.0</td>\n      <td>...</td>\n      <td>32887928.0</td>\n      <td>33245773.0</td>\n      <td>33628571.0</td>\n      <td>34005274.0</td>\n      <td>34342780.0</td>\n      <td>34751476.0</td>\n      <td>35155499.0</td>\n      <td>35543658.0</td>\n      <td>35851774.0</td>\n      <td>1.132440e+07</td>\n    </tr>\n  </tbody>\n</table>\n<p>20 rows × 60 columns</p>\n</div>"
     },
     "execution_count": 36,
     "metadata": {},
     "output_type": "execute_result"
    }
   ],
   "source": [
    "bands_pop[\"per_capita\"] = bands_pop[\"per_capita\"] * 1000000\n",
    "bands_pop[:20]"
   ]
  },
  {
   "cell_type": "markdown",
   "metadata": {},
   "source": [
    "What about the countries with the fewest metal bands per capita? "
   ]
  },
  {
   "cell_type": "code",
   "execution_count": 19,
   "metadata": {},
   "outputs": [
    {
     "data": {
      "text/plain": "    Country Name  num_bands  Unnamed: 0         1960         1961  \\\n113       Angola          1           3    5270844.0    5367287.0   \n109   Mozambique          1         163    7493278.0    7643290.0   \n42         India         39         106  449661874.0  458691457.0   \n116        Kenya          1         118    8105440.0    8361442.0   \n50         China         28          38  667070000.0  660330000.0   \n\n            1962         1963         1964         1965         1966  ...  \\\n113    5465905.0    5565808.0    5665701.0    5765025.0    5863568.0  ...   \n109    7799396.0    7961458.0    8129268.0    8302736.0    8482373.0  ...   \n42   468054145.0  477729958.0  487690114.0  497920270.0  508402908.0  ...   \n116    8628973.0    8908425.0    9200158.0    9504702.0    9822505.0  ...   \n50   665770000.0  682335000.0  698355000.0  715185000.0  735400000.0  ...   \n\n             2007          2008          2009          2010          2011  \\\n113  1.918391e+07  1.984225e+07  2.052010e+07  2.121995e+07  2.194230e+07   \n109  2.235964e+07  2.299487e+07  2.364782e+07  2.432146e+07  2.501692e+07   \n42   1.179686e+09  1.197070e+09  1.214182e+09  1.230985e+09  1.247446e+09   \n116  3.725054e+07  3.824444e+07  3.926999e+07  4.032831e+07  4.141995e+07   \n50   1.317885e+09  1.324655e+09  1.331260e+09  1.337705e+09  1.344130e+09   \n\n             2012          2013          2014          2015  per_capita  \n113  2.268563e+07  2.344820e+07  2.422752e+07  2.502197e+07    0.039965  \n109  2.573293e+07  2.646718e+07  2.721628e+07  2.797786e+07    0.035743  \n42   1.263590e+09  1.279499e+09  1.295292e+09  1.311051e+09    0.029747  \n116  4.254298e+07  4.369288e+07  4.486358e+07  4.605030e+07    0.021715  \n50   1.350695e+09  1.357380e+09  1.364270e+09  1.371220e+09    0.020420  \n\n[5 rows x 60 columns]",
      "text/html": "<div>\n<style scoped>\n    .dataframe tbody tr th:only-of-type {\n        vertical-align: middle;\n    }\n\n    .dataframe tbody tr th {\n        vertical-align: top;\n    }\n\n    .dataframe thead th {\n        text-align: right;\n    }\n</style>\n<table border=\"1\" class=\"dataframe\">\n  <thead>\n    <tr style=\"text-align: right;\">\n      <th></th>\n      <th>Country Name</th>\n      <th>num_bands</th>\n      <th>Unnamed: 0</th>\n      <th>1960</th>\n      <th>1961</th>\n      <th>1962</th>\n      <th>1963</th>\n      <th>1964</th>\n      <th>1965</th>\n      <th>1966</th>\n      <th>...</th>\n      <th>2007</th>\n      <th>2008</th>\n      <th>2009</th>\n      <th>2010</th>\n      <th>2011</th>\n      <th>2012</th>\n      <th>2013</th>\n      <th>2014</th>\n      <th>2015</th>\n      <th>per_capita</th>\n    </tr>\n  </thead>\n  <tbody>\n    <tr>\n      <th>113</th>\n      <td>Angola</td>\n      <td>1</td>\n      <td>3</td>\n      <td>5270844.0</td>\n      <td>5367287.0</td>\n      <td>5465905.0</td>\n      <td>5565808.0</td>\n      <td>5665701.0</td>\n      <td>5765025.0</td>\n      <td>5863568.0</td>\n      <td>...</td>\n      <td>1.918391e+07</td>\n      <td>1.984225e+07</td>\n      <td>2.052010e+07</td>\n      <td>2.121995e+07</td>\n      <td>2.194230e+07</td>\n      <td>2.268563e+07</td>\n      <td>2.344820e+07</td>\n      <td>2.422752e+07</td>\n      <td>2.502197e+07</td>\n      <td>0.039965</td>\n    </tr>\n    <tr>\n      <th>109</th>\n      <td>Mozambique</td>\n      <td>1</td>\n      <td>163</td>\n      <td>7493278.0</td>\n      <td>7643290.0</td>\n      <td>7799396.0</td>\n      <td>7961458.0</td>\n      <td>8129268.0</td>\n      <td>8302736.0</td>\n      <td>8482373.0</td>\n      <td>...</td>\n      <td>2.235964e+07</td>\n      <td>2.299487e+07</td>\n      <td>2.364782e+07</td>\n      <td>2.432146e+07</td>\n      <td>2.501692e+07</td>\n      <td>2.573293e+07</td>\n      <td>2.646718e+07</td>\n      <td>2.721628e+07</td>\n      <td>2.797786e+07</td>\n      <td>0.035743</td>\n    </tr>\n    <tr>\n      <th>42</th>\n      <td>India</td>\n      <td>39</td>\n      <td>106</td>\n      <td>449661874.0</td>\n      <td>458691457.0</td>\n      <td>468054145.0</td>\n      <td>477729958.0</td>\n      <td>487690114.0</td>\n      <td>497920270.0</td>\n      <td>508402908.0</td>\n      <td>...</td>\n      <td>1.179686e+09</td>\n      <td>1.197070e+09</td>\n      <td>1.214182e+09</td>\n      <td>1.230985e+09</td>\n      <td>1.247446e+09</td>\n      <td>1.263590e+09</td>\n      <td>1.279499e+09</td>\n      <td>1.295292e+09</td>\n      <td>1.311051e+09</td>\n      <td>0.029747</td>\n    </tr>\n    <tr>\n      <th>116</th>\n      <td>Kenya</td>\n      <td>1</td>\n      <td>118</td>\n      <td>8105440.0</td>\n      <td>8361442.0</td>\n      <td>8628973.0</td>\n      <td>8908425.0</td>\n      <td>9200158.0</td>\n      <td>9504702.0</td>\n      <td>9822505.0</td>\n      <td>...</td>\n      <td>3.725054e+07</td>\n      <td>3.824444e+07</td>\n      <td>3.926999e+07</td>\n      <td>4.032831e+07</td>\n      <td>4.141995e+07</td>\n      <td>4.254298e+07</td>\n      <td>4.369288e+07</td>\n      <td>4.486358e+07</td>\n      <td>4.605030e+07</td>\n      <td>0.021715</td>\n    </tr>\n    <tr>\n      <th>50</th>\n      <td>China</td>\n      <td>28</td>\n      <td>38</td>\n      <td>667070000.0</td>\n      <td>660330000.0</td>\n      <td>665770000.0</td>\n      <td>682335000.0</td>\n      <td>698355000.0</td>\n      <td>715185000.0</td>\n      <td>735400000.0</td>\n      <td>...</td>\n      <td>1.317885e+09</td>\n      <td>1.324655e+09</td>\n      <td>1.331260e+09</td>\n      <td>1.337705e+09</td>\n      <td>1.344130e+09</td>\n      <td>1.350695e+09</td>\n      <td>1.357380e+09</td>\n      <td>1.364270e+09</td>\n      <td>1.371220e+09</td>\n      <td>0.020420</td>\n    </tr>\n  </tbody>\n</table>\n<p>5 rows × 60 columns</p>\n</div>"
     },
     "execution_count": 19,
     "metadata": {},
     "output_type": "execute_result"
    }
   ],
   "source": [
    "bands_pop.tail()"
   ]
  },
  {
   "cell_type": "code",
   "execution_count": 35,
   "outputs": [
    {
     "data": {
      "text/plain": "<AxesSubplot:xlabel='Country Name'>"
     },
     "execution_count": 35,
     "metadata": {},
     "output_type": "execute_result"
    },
    {
     "data": {
      "text/plain": "<Figure size 1440x720 with 1 Axes>",
      "image/png": "[encoded data removed]"
     },
     "metadata": {
      "needs_background": "light"
     },
     "output_type": "display_data"
    }
   ],
   "source": [
    "bands_pop[:20].plot('Country Name', 'per_capita', kind='bar', figsize=(20,10), fontsize=16)"
   ],
   "metadata": {
    "collapsed": false,
    "pycharm": {
     "name": "#%%\n"
    }
   }
  },
  {
   "cell_type": "markdown",
   "metadata": {
    "id": "9WxkBxaIoqJX"
   },
   "source": [
    "# Summation Statistics"
   ]
  },
  {
   "cell_type": "markdown",
   "metadata": {
    "id": "DARSJ0gvpmU7",
    "pycharm": {
     "name": "#%% md\n"
    }
   },
   "source": [
    "# Exporting Data"
   ]
  }
 ],
 "metadata": {
  "colab": {
   "name": "PandasWorkshop.ipynb",
   "provenance": []
  },
  "kernelspec": {
   "display_name": "Python 3 (ipykernel)",
   "language": "python",
   "name": "python3"
  },
  "language_info": {
   "codemirror_mode": {
    "name": "ipython",
    "version": 3
   },
   "file_extension": ".py",
   "mimetype": "text/x-python",
   "name": "python",
   "nbconvert_exporter": "python",
   "pygments_lexer": "ipython3",
   "version": "3.9.12"
  }
 },
 "nbformat": 4,
 "nbformat_minor": 1
}