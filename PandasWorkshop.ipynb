{
 "cells": [
  {
   "cell_type": "markdown",
   "metadata": {
    "id": "yJZhgj0Spc91"
   },
   "source": [
    "# Intro"
   ]
  },
  {
   "cell_type": "markdown",
   "metadata": {
    "id": "nvk8A1W4phc4"
   },
   "source": [
    "# Importing Data\n",
    "# start with importing messy data set but then use metal stuff for the rest of the teaching example"
   ]
  },
  {
   "cell_type": "code",
   "execution_count": 4,
   "metadata": {
    "id": "TM3TlJfmkxkc"
   },
   "outputs": [],
   "source": [
    "import requests\n",
    "import pandas as pd\n",
    "\n",
    "# URL locations of data\n",
    "master_metal_bands = \"https://raw.githubusercontent.com/orioncohen/metal-bands-by-nation/main/metal_bands_2017.csv\"\n",
    "master_world_pop = \"https://raw.githubusercontent.com/orioncohen/metal-bands-by-nation/main/world_population_1960_2015.csv\"\n",
    "\n",
    "# Grab the metal bands data\n",
    "req = requests.get(master_metal_bands)\n",
    "metal_bands_data = req.text\n",
    "\n",
    "# Grab the world population data\n",
    "req = requests.get(master_world_pop)\n",
    "world_pop_data = req.text"
   ]
  },
  {
   "cell_type": "code",
   "execution_count": 5,
   "metadata": {
    "id": "STJjQ_h2mLbQ"
   },
   "outputs": [],
   "source": [
    "# Make a data frame\n",
    "metal_bands_df = pd.read_csv(\"https://raw.githubusercontent.com/orioncohen/metal-bands-by-nation/main/metal_bands_2017.csv\")\n",
    "world_pop_df = pd.read_csv(\"https://raw.githubusercontent.com/orioncohen/metal-bands-by-nation/main/world_population_1960_2015.csv\")"
   ]
  },
  {
   "cell_type": "code",
   "execution_count": 6,
   "metadata": {
    "colab": {
     "base_uri": "https://localhost:8080/",
     "height": 423
    },
    "id": "ehmEcXp-qWAd",
    "outputId": "b06d31c1-661a-45ce-ab98-eff0ba50f19b"
   },
   "outputs": [
    {
     "data": {
      "text/html": [
       "<div>\n",
       "<style scoped>\n",
       "    .dataframe tbody tr th:only-of-type {\n",
       "        vertical-align: middle;\n",
       "    }\n",
       "\n",
       "    .dataframe tbody tr th {\n",
       "        vertical-align: top;\n",
       "    }\n",
       "\n",
       "    .dataframe thead th {\n",
       "        text-align: right;\n",
       "    }\n",
       "</style>\n",
       "<table border=\"1\" class=\"dataframe\">\n",
       "  <thead>\n",
       "    <tr style=\"text-align: right;\">\n",
       "      <th></th>\n",
       "      <th>Unnamed: 0</th>\n",
       "      <th>Unnamed: 0.1</th>\n",
       "      <th>band_name</th>\n",
       "      <th>fans</th>\n",
       "      <th>formed</th>\n",
       "      <th>origin</th>\n",
       "      <th>split</th>\n",
       "      <th>style</th>\n",
       "    </tr>\n",
       "  </thead>\n",
       "  <tbody>\n",
       "    <tr>\n",
       "      <th>0</th>\n",
       "      <td>0</td>\n",
       "      <td>0</td>\n",
       "      <td>Iron Maiden</td>\n",
       "      <td>4195</td>\n",
       "      <td>1975</td>\n",
       "      <td>United Kingdom</td>\n",
       "      <td>-</td>\n",
       "      <td>New wave of british heavy,Heavy</td>\n",
       "    </tr>\n",
       "    <tr>\n",
       "      <th>1</th>\n",
       "      <td>1</td>\n",
       "      <td>1</td>\n",
       "      <td>Opeth</td>\n",
       "      <td>4147</td>\n",
       "      <td>1990</td>\n",
       "      <td>Sweden</td>\n",
       "      <td>1990</td>\n",
       "      <td>Extreme progressive,Progressive rock,Progressive</td>\n",
       "    </tr>\n",
       "    <tr>\n",
       "      <th>2</th>\n",
       "      <td>2</td>\n",
       "      <td>2</td>\n",
       "      <td>Metallica</td>\n",
       "      <td>3712</td>\n",
       "      <td>1981</td>\n",
       "      <td>USA</td>\n",
       "      <td>-</td>\n",
       "      <td>Heavy,Bay area thrash</td>\n",
       "    </tr>\n",
       "    <tr>\n",
       "      <th>3</th>\n",
       "      <td>3</td>\n",
       "      <td>3</td>\n",
       "      <td>Megadeth</td>\n",
       "      <td>3105</td>\n",
       "      <td>1983</td>\n",
       "      <td>USA</td>\n",
       "      <td>1983</td>\n",
       "      <td>Thrash,Heavy,Hard rock</td>\n",
       "    </tr>\n",
       "    <tr>\n",
       "      <th>4</th>\n",
       "      <td>4</td>\n",
       "      <td>4</td>\n",
       "      <td>Amon Amarth</td>\n",
       "      <td>3054</td>\n",
       "      <td>1988</td>\n",
       "      <td>Sweden</td>\n",
       "      <td>-</td>\n",
       "      <td>Melodic death</td>\n",
       "    </tr>\n",
       "    <tr>\n",
       "      <th>...</th>\n",
       "      <td>...</td>\n",
       "      <td>...</td>\n",
       "      <td>...</td>\n",
       "      <td>...</td>\n",
       "      <td>...</td>\n",
       "      <td>...</td>\n",
       "      <td>...</td>\n",
       "      <td>...</td>\n",
       "    </tr>\n",
       "    <tr>\n",
       "      <th>4995</th>\n",
       "      <td>4995</td>\n",
       "      <td>4995</td>\n",
       "      <td>Atara</td>\n",
       "      <td>0</td>\n",
       "      <td>2006</td>\n",
       "      <td>France</td>\n",
       "      <td>2006</td>\n",
       "      <td>Black,Grindcore</td>\n",
       "    </tr>\n",
       "    <tr>\n",
       "      <th>4996</th>\n",
       "      <td>4996</td>\n",
       "      <td>4996</td>\n",
       "      <td>Avicularia</td>\n",
       "      <td>0</td>\n",
       "      <td>2003</td>\n",
       "      <td>Croatia</td>\n",
       "      <td>-</td>\n",
       "      <td>Avantgarde death</td>\n",
       "    </tr>\n",
       "    <tr>\n",
       "      <th>4997</th>\n",
       "      <td>4997</td>\n",
       "      <td>4997</td>\n",
       "      <td>Awake</td>\n",
       "      <td>0</td>\n",
       "      <td>2006</td>\n",
       "      <td>United Kingdom</td>\n",
       "      <td>2006</td>\n",
       "      <td>Heavy,Progressive</td>\n",
       "    </tr>\n",
       "    <tr>\n",
       "      <th>4998</th>\n",
       "      <td>4998</td>\n",
       "      <td>4998</td>\n",
       "      <td>Axatak</td>\n",
       "      <td>0</td>\n",
       "      <td>1983</td>\n",
       "      <td>Australia</td>\n",
       "      <td>1988</td>\n",
       "      <td>Hard rock,Heavy</td>\n",
       "    </tr>\n",
       "    <tr>\n",
       "      <th>4999</th>\n",
       "      <td>4999</td>\n",
       "      <td>4999</td>\n",
       "      <td>Axis Of Despair</td>\n",
       "      <td>0</td>\n",
       "      <td>2014</td>\n",
       "      <td>Sweden</td>\n",
       "      <td>2014</td>\n",
       "      <td>Grindcore</td>\n",
       "    </tr>\n",
       "  </tbody>\n",
       "</table>\n",
       "<p>5000 rows × 8 columns</p>\n",
       "</div>"
      ],
      "text/plain": [
       "      Unnamed: 0  Unnamed: 0.1        band_name  fans formed          origin  \\\n",
       "0              0             0      Iron Maiden  4195   1975  United Kingdom   \n",
       "1              1             1            Opeth  4147   1990          Sweden   \n",
       "2              2             2        Metallica  3712   1981             USA   \n",
       "3              3             3         Megadeth  3105   1983             USA   \n",
       "4              4             4      Amon Amarth  3054   1988          Sweden   \n",
       "...          ...           ...              ...   ...    ...             ...   \n",
       "4995        4995          4995            Atara     0   2006          France   \n",
       "4996        4996          4996       Avicularia     0   2003         Croatia   \n",
       "4997        4997          4997            Awake     0   2006  United Kingdom   \n",
       "4998        4998          4998           Axatak     0   1983       Australia   \n",
       "4999        4999          4999  Axis Of Despair     0   2014          Sweden   \n",
       "\n",
       "     split                                             style  \n",
       "0        -                   New wave of british heavy,Heavy  \n",
       "1     1990  Extreme progressive,Progressive rock,Progressive  \n",
       "2        -                             Heavy,Bay area thrash  \n",
       "3     1983                            Thrash,Heavy,Hard rock  \n",
       "4        -                                     Melodic death  \n",
       "...    ...                                               ...  \n",
       "4995  2006                                   Black,Grindcore  \n",
       "4996     -                                  Avantgarde death  \n",
       "4997  2006                                 Heavy,Progressive  \n",
       "4998  1988                                   Hard rock,Heavy  \n",
       "4999  2014                                         Grindcore  \n",
       "\n",
       "[5000 rows x 8 columns]"
      ]
     },
     "execution_count": 6,
     "metadata": {},
     "output_type": "execute_result"
    }
   ],
   "source": [
    "metal_bands_df"
   ]
  },
  {
   "cell_type": "markdown",
   "metadata": {
    "id": "x9FouXLapZdK"
   },
   "source": [
    "# Creating Columns"
   ]
  },
  {
   "cell_type": "code",
   "execution_count": 14,
   "metadata": {},
   "outputs": [
    {
     "data": {
      "text/html": [
       "<div>\n",
       "<style scoped>\n",
       "    .dataframe tbody tr th:only-of-type {\n",
       "        vertical-align: middle;\n",
       "    }\n",
       "\n",
       "    .dataframe tbody tr th {\n",
       "        vertical-align: top;\n",
       "    }\n",
       "\n",
       "    .dataframe thead th {\n",
       "        text-align: right;\n",
       "    }\n",
       "</style>\n",
       "<table border=\"1\" class=\"dataframe\">\n",
       "  <thead>\n",
       "    <tr style=\"text-align: right;\">\n",
       "      <th></th>\n",
       "      <th>Unnamed: 0</th>\n",
       "      <th>Unnamed: 0.1</th>\n",
       "      <th>band_name</th>\n",
       "      <th>fans</th>\n",
       "      <th>formed</th>\n",
       "      <th>origin</th>\n",
       "      <th>split</th>\n",
       "      <th>style</th>\n",
       "    </tr>\n",
       "  </thead>\n",
       "  <tbody>\n",
       "    <tr>\n",
       "      <th>1</th>\n",
       "      <td>1</td>\n",
       "      <td>1</td>\n",
       "      <td>Opeth</td>\n",
       "      <td>4147</td>\n",
       "      <td>1990</td>\n",
       "      <td>Sweden</td>\n",
       "      <td>1990</td>\n",
       "      <td>Extreme progressive,Progressive rock,Progressive</td>\n",
       "    </tr>\n",
       "    <tr>\n",
       "      <th>3</th>\n",
       "      <td>3</td>\n",
       "      <td>3</td>\n",
       "      <td>Megadeth</td>\n",
       "      <td>3105</td>\n",
       "      <td>1983</td>\n",
       "      <td>USA</td>\n",
       "      <td>1983</td>\n",
       "      <td>Thrash,Heavy,Hard rock</td>\n",
       "    </tr>\n",
       "    <tr>\n",
       "      <th>5</th>\n",
       "      <td>5</td>\n",
       "      <td>5</td>\n",
       "      <td>Slayer</td>\n",
       "      <td>2955</td>\n",
       "      <td>1981</td>\n",
       "      <td>USA</td>\n",
       "      <td>1981</td>\n",
       "      <td>Thrash</td>\n",
       "    </tr>\n",
       "    <tr>\n",
       "      <th>6</th>\n",
       "      <td>6</td>\n",
       "      <td>6</td>\n",
       "      <td>Death</td>\n",
       "      <td>2690</td>\n",
       "      <td>1983</td>\n",
       "      <td>USA</td>\n",
       "      <td>2001</td>\n",
       "      <td>Progressive death,Death,Progressive thrash</td>\n",
       "    </tr>\n",
       "    <tr>\n",
       "      <th>7</th>\n",
       "      <td>7</td>\n",
       "      <td>7</td>\n",
       "      <td>Dream Theater</td>\n",
       "      <td>2329</td>\n",
       "      <td>1985</td>\n",
       "      <td>USA</td>\n",
       "      <td>1985</td>\n",
       "      <td>Progressive</td>\n",
       "    </tr>\n",
       "    <tr>\n",
       "      <th>...</th>\n",
       "      <td>...</td>\n",
       "      <td>...</td>\n",
       "      <td>...</td>\n",
       "      <td>...</td>\n",
       "      <td>...</td>\n",
       "      <td>...</td>\n",
       "      <td>...</td>\n",
       "      <td>...</td>\n",
       "    </tr>\n",
       "    <tr>\n",
       "      <th>4993</th>\n",
       "      <td>4993</td>\n",
       "      <td>4993</td>\n",
       "      <td>As I Lay Dying (AUT)</td>\n",
       "      <td>0</td>\n",
       "      <td>1991</td>\n",
       "      <td>Austria</td>\n",
       "      <td>1991</td>\n",
       "      <td>Death,Melodic doom</td>\n",
       "    </tr>\n",
       "    <tr>\n",
       "      <th>4995</th>\n",
       "      <td>4995</td>\n",
       "      <td>4995</td>\n",
       "      <td>Atara</td>\n",
       "      <td>0</td>\n",
       "      <td>2006</td>\n",
       "      <td>France</td>\n",
       "      <td>2006</td>\n",
       "      <td>Black,Grindcore</td>\n",
       "    </tr>\n",
       "    <tr>\n",
       "      <th>4997</th>\n",
       "      <td>4997</td>\n",
       "      <td>4997</td>\n",
       "      <td>Awake</td>\n",
       "      <td>0</td>\n",
       "      <td>2006</td>\n",
       "      <td>United Kingdom</td>\n",
       "      <td>2006</td>\n",
       "      <td>Heavy,Progressive</td>\n",
       "    </tr>\n",
       "    <tr>\n",
       "      <th>4998</th>\n",
       "      <td>4998</td>\n",
       "      <td>4998</td>\n",
       "      <td>Axatak</td>\n",
       "      <td>0</td>\n",
       "      <td>1983</td>\n",
       "      <td>Australia</td>\n",
       "      <td>1988</td>\n",
       "      <td>Hard rock,Heavy</td>\n",
       "    </tr>\n",
       "    <tr>\n",
       "      <th>4999</th>\n",
       "      <td>4999</td>\n",
       "      <td>4999</td>\n",
       "      <td>Axis Of Despair</td>\n",
       "      <td>0</td>\n",
       "      <td>2014</td>\n",
       "      <td>Sweden</td>\n",
       "      <td>2014</td>\n",
       "      <td>Grindcore</td>\n",
       "    </tr>\n",
       "  </tbody>\n",
       "</table>\n",
       "<p>2785 rows × 8 columns</p>\n",
       "</div>"
      ],
      "text/plain": [
       "      Unnamed: 0  Unnamed: 0.1             band_name  fans formed  \\\n",
       "1              1             1                 Opeth  4147   1990   \n",
       "3              3             3              Megadeth  3105   1983   \n",
       "5              5             5                Slayer  2955   1981   \n",
       "6              6             6                 Death  2690   1983   \n",
       "7              7             7         Dream Theater  2329   1985   \n",
       "...          ...           ...                   ...   ...    ...   \n",
       "4993        4993          4993  As I Lay Dying (AUT)     0   1991   \n",
       "4995        4995          4995                 Atara     0   2006   \n",
       "4997        4997          4997                 Awake     0   2006   \n",
       "4998        4998          4998                Axatak     0   1983   \n",
       "4999        4999          4999       Axis Of Despair     0   2014   \n",
       "\n",
       "              origin split                                             style  \n",
       "1             Sweden  1990  Extreme progressive,Progressive rock,Progressive  \n",
       "3                USA  1983                            Thrash,Heavy,Hard rock  \n",
       "5                USA  1981                                            Thrash  \n",
       "6                USA  2001        Progressive death,Death,Progressive thrash  \n",
       "7                USA  1985                                       Progressive  \n",
       "...              ...   ...                                               ...  \n",
       "4993         Austria  1991                                Death,Melodic doom  \n",
       "4995          France  2006                                   Black,Grindcore  \n",
       "4997  United Kingdom  2006                                 Heavy,Progressive  \n",
       "4998       Australia  1988                                   Hard rock,Heavy  \n",
       "4999          Sweden  2014                                         Grindcore  \n",
       "\n",
       "[2785 rows x 8 columns]"
      ]
     },
     "execution_count": 14,
     "metadata": {},
     "output_type": "execute_result"
    }
   ],
   "source": [
    "only_dead_bands = metal_bands_df[metal_bands_df['split'] != '-'].copy()\n",
    "only_dead_bands # print the data table created in the previous line"
   ]
  },
  {
   "cell_type": "code",
   "execution_count": 16,
   "metadata": {},
   "outputs": [
    {
     "data": {
      "text/html": [
       "<div>\n",
       "<style scoped>\n",
       "    .dataframe tbody tr th:only-of-type {\n",
       "        vertical-align: middle;\n",
       "    }\n",
       "\n",
       "    .dataframe tbody tr th {\n",
       "        vertical-align: top;\n",
       "    }\n",
       "\n",
       "    .dataframe thead th {\n",
       "        text-align: right;\n",
       "    }\n",
       "</style>\n",
       "<table border=\"1\" class=\"dataframe\">\n",
       "  <thead>\n",
       "    <tr style=\"text-align: right;\">\n",
       "      <th></th>\n",
       "      <th>Unnamed: 0</th>\n",
       "      <th>Unnamed: 0.1</th>\n",
       "      <th>band_name</th>\n",
       "      <th>fans</th>\n",
       "      <th>formed</th>\n",
       "      <th>origin</th>\n",
       "      <th>split</th>\n",
       "      <th>style</th>\n",
       "      <th>years_lived</th>\n",
       "    </tr>\n",
       "  </thead>\n",
       "  <tbody>\n",
       "    <tr>\n",
       "      <th>1</th>\n",
       "      <td>1</td>\n",
       "      <td>1</td>\n",
       "      <td>Opeth</td>\n",
       "      <td>4147</td>\n",
       "      <td>1990</td>\n",
       "      <td>Sweden</td>\n",
       "      <td>1990</td>\n",
       "      <td>Extreme progressive,Progressive rock,Progressive</td>\n",
       "      <td>0</td>\n",
       "    </tr>\n",
       "    <tr>\n",
       "      <th>3</th>\n",
       "      <td>3</td>\n",
       "      <td>3</td>\n",
       "      <td>Megadeth</td>\n",
       "      <td>3105</td>\n",
       "      <td>1983</td>\n",
       "      <td>USA</td>\n",
       "      <td>1983</td>\n",
       "      <td>Thrash,Heavy,Hard rock</td>\n",
       "      <td>0</td>\n",
       "    </tr>\n",
       "    <tr>\n",
       "      <th>5</th>\n",
       "      <td>5</td>\n",
       "      <td>5</td>\n",
       "      <td>Slayer</td>\n",
       "      <td>2955</td>\n",
       "      <td>1981</td>\n",
       "      <td>USA</td>\n",
       "      <td>1981</td>\n",
       "      <td>Thrash</td>\n",
       "      <td>0</td>\n",
       "    </tr>\n",
       "    <tr>\n",
       "      <th>6</th>\n",
       "      <td>6</td>\n",
       "      <td>6</td>\n",
       "      <td>Death</td>\n",
       "      <td>2690</td>\n",
       "      <td>1983</td>\n",
       "      <td>USA</td>\n",
       "      <td>2001</td>\n",
       "      <td>Progressive death,Death,Progressive thrash</td>\n",
       "      <td>18</td>\n",
       "    </tr>\n",
       "    <tr>\n",
       "      <th>7</th>\n",
       "      <td>7</td>\n",
       "      <td>7</td>\n",
       "      <td>Dream Theater</td>\n",
       "      <td>2329</td>\n",
       "      <td>1985</td>\n",
       "      <td>USA</td>\n",
       "      <td>1985</td>\n",
       "      <td>Progressive</td>\n",
       "      <td>0</td>\n",
       "    </tr>\n",
       "    <tr>\n",
       "      <th>...</th>\n",
       "      <td>...</td>\n",
       "      <td>...</td>\n",
       "      <td>...</td>\n",
       "      <td>...</td>\n",
       "      <td>...</td>\n",
       "      <td>...</td>\n",
       "      <td>...</td>\n",
       "      <td>...</td>\n",
       "      <td>...</td>\n",
       "    </tr>\n",
       "    <tr>\n",
       "      <th>4993</th>\n",
       "      <td>4993</td>\n",
       "      <td>4993</td>\n",
       "      <td>As I Lay Dying (AUT)</td>\n",
       "      <td>0</td>\n",
       "      <td>1991</td>\n",
       "      <td>Austria</td>\n",
       "      <td>1991</td>\n",
       "      <td>Death,Melodic doom</td>\n",
       "      <td>0</td>\n",
       "    </tr>\n",
       "    <tr>\n",
       "      <th>4995</th>\n",
       "      <td>4995</td>\n",
       "      <td>4995</td>\n",
       "      <td>Atara</td>\n",
       "      <td>0</td>\n",
       "      <td>2006</td>\n",
       "      <td>France</td>\n",
       "      <td>2006</td>\n",
       "      <td>Black,Grindcore</td>\n",
       "      <td>0</td>\n",
       "    </tr>\n",
       "    <tr>\n",
       "      <th>4997</th>\n",
       "      <td>4997</td>\n",
       "      <td>4997</td>\n",
       "      <td>Awake</td>\n",
       "      <td>0</td>\n",
       "      <td>2006</td>\n",
       "      <td>United Kingdom</td>\n",
       "      <td>2006</td>\n",
       "      <td>Heavy,Progressive</td>\n",
       "      <td>0</td>\n",
       "    </tr>\n",
       "    <tr>\n",
       "      <th>4998</th>\n",
       "      <td>4998</td>\n",
       "      <td>4998</td>\n",
       "      <td>Axatak</td>\n",
       "      <td>0</td>\n",
       "      <td>1983</td>\n",
       "      <td>Australia</td>\n",
       "      <td>1988</td>\n",
       "      <td>Hard rock,Heavy</td>\n",
       "      <td>5</td>\n",
       "    </tr>\n",
       "    <tr>\n",
       "      <th>4999</th>\n",
       "      <td>4999</td>\n",
       "      <td>4999</td>\n",
       "      <td>Axis Of Despair</td>\n",
       "      <td>0</td>\n",
       "      <td>2014</td>\n",
       "      <td>Sweden</td>\n",
       "      <td>2014</td>\n",
       "      <td>Grindcore</td>\n",
       "      <td>0</td>\n",
       "    </tr>\n",
       "  </tbody>\n",
       "</table>\n",
       "<p>2785 rows × 9 columns</p>\n",
       "</div>"
      ],
      "text/plain": [
       "      Unnamed: 0  Unnamed: 0.1             band_name  fans formed  \\\n",
       "1              1             1                 Opeth  4147   1990   \n",
       "3              3             3              Megadeth  3105   1983   \n",
       "5              5             5                Slayer  2955   1981   \n",
       "6              6             6                 Death  2690   1983   \n",
       "7              7             7         Dream Theater  2329   1985   \n",
       "...          ...           ...                   ...   ...    ...   \n",
       "4993        4993          4993  As I Lay Dying (AUT)     0   1991   \n",
       "4995        4995          4995                 Atara     0   2006   \n",
       "4997        4997          4997                 Awake     0   2006   \n",
       "4998        4998          4998                Axatak     0   1983   \n",
       "4999        4999          4999       Axis Of Despair     0   2014   \n",
       "\n",
       "              origin split                                             style  \\\n",
       "1             Sweden  1990  Extreme progressive,Progressive rock,Progressive   \n",
       "3                USA  1983                            Thrash,Heavy,Hard rock   \n",
       "5                USA  1981                                            Thrash   \n",
       "6                USA  2001        Progressive death,Death,Progressive thrash   \n",
       "7                USA  1985                                       Progressive   \n",
       "...              ...   ...                                               ...   \n",
       "4993         Austria  1991                                Death,Melodic doom   \n",
       "4995          France  2006                                   Black,Grindcore   \n",
       "4997  United Kingdom  2006                                 Heavy,Progressive   \n",
       "4998       Australia  1988                                   Hard rock,Heavy   \n",
       "4999          Sweden  2014                                         Grindcore   \n",
       "\n",
       "      years_lived  \n",
       "1               0  \n",
       "3               0  \n",
       "5               0  \n",
       "6              18  \n",
       "7               0  \n",
       "...           ...  \n",
       "4993            0  \n",
       "4995            0  \n",
       "4997            0  \n",
       "4998            5  \n",
       "4999            0  \n",
       "\n",
       "[2785 rows x 9 columns]"
      ]
     },
     "execution_count": 16,
     "metadata": {},
     "output_type": "execute_result"
    }
   ],
   "source": [
    "only_dead_bands['years_lived'] = only_dead_bands['split'].astype(int) - only_dead_bands['formed'].astype(int)\n",
    "only_dead_bands"
   ]
  },
  {
   "cell_type": "code",
   "execution_count": 39,
   "metadata": {},
   "outputs": [
    {
     "data": {
      "text/plain": [
       "<AxesSubplot:>"
      ]
     },
     "execution_count": 39,
     "metadata": {},
     "output_type": "execute_result"
    },
    {
     "data": {
      "image/png": "[encoded data removed]",
      "text/plain": [
       "<Figure size 432x288 with 1 Axes>"
      ]
     },
     "metadata": {
      "needs_background": "light"
     },
     "output_type": "display_data"
    }
   ],
   "source": [
    "only_dead_bands['years_lived'].value_counts()[1:].sort_index().plot()"
   ]
  },
  {
   "cell_type": "markdown",
   "metadata": {
    "id": "xvWZmPrMpM_z"
   },
   "source": [
    "# Column Operations\n",
    "\n",
    "\n",
    "*   Removing empty cells\n",
    "*   Accessing specific columns/cells\n",
    "*   Applying functions (non-statistical) to a column\n",
    "*   Creating a new column based on data from other columns\n",
    "*   Re-ordering data? Visualizing data? \n",
    "\n"
   ]
  },
  {
   "cell_type": "markdown",
   "metadata": {
    "id": "9WxkBxaIoqJX"
   },
   "source": [
    "# Summation Statistics"
   ]
  },
  {
   "cell_type": "markdown",
   "metadata": {
    "id": "DARSJ0gvpmU7"
   },
   "source": [
    "# Exporting Data"
   ]
  },
  {
   "cell_type": "markdown",
   "metadata": {
    "id": "Uwx7VfXTsnAl"
   },
   "source": [
    "# Nugent's Data"
   ]
  },
  {
   "cell_type": "code",
   "execution_count": null,
   "metadata": {
    "id": "zTWAkfC_spwH"
   },
   "outputs": [],
   "source": [
    "import pandas as pd"
   ]
  },
  {
   "cell_type": "code",
   "execution_count": null,
   "metadata": {
    "colab": {
     "base_uri": "https://localhost:8080/",
     "height": 282
    },
    "id": "vjrfKINssr-w",
    "outputId": "4a291bbe-d2b7-4617-81ca-b5c3da065b2f"
   },
   "outputs": [
    {
     "data": {
      "text/plain": [
       "<matplotlib.axes._subplots.AxesSubplot at 0x7fbdaae7c850>"
      ]
     },
     "execution_count": 16,
     "metadata": {},
     "output_type": "execute_result"
    },
    {
     "data": {
      "image/png": "[encoded data removed]",
      "text/plain": [
       "<Figure size 432x288 with 1 Axes>"
      ]
     },
     "metadata": {
      "needs_background": "light"
     },
     "output_type": "display_data"
    }
   ],
   "source": [
    "spots_cropped_df = pd.read_csv('/content/DATA_PC1_TL10s_cropped_488.csv')\n",
    "spots_cropped_df['Mean'].plot()"
   ]
  },
  {
   "cell_type": "code",
   "execution_count": null,
   "metadata": {
    "id": "nQ6i9R6DtCoU"
   },
   "outputs": [],
   "source": []
  },
  {
   "cell_type": "markdown",
   "metadata": {
    "id": "-ABcl-nmolJ3"
   },
   "source": [
    "# Info on Nugent's Data Set"
   ]
  },
  {
   "cell_type": "markdown",
   "metadata": {
    "id": "VznfwN8rb6rH"
   },
   "source": [
    "Nugent Lew's data:\n",
    "\n",
    "OK so the single molecule data is fluorescent images of labeled proteins on a supported lipid bilayer at low enough densities that you can resolve (what you hope are) spots corresponding to individual proteins. We use a software package called TrackMate which detects the spots, calculates their location based on some approximation of a point spread function, and then attempts to create \"tracks\" between spots in consecutive frames so that you can see how the molecules are moving in close-to-real time. The data in the file All_spots_statistics.csv is not meaningful in terms of tracking because I didn't take them with high enough time resolution, but it still contains the detections of single molecules in each of 280 frames (indexed from 0, so the count goes up to 279). I also attached a video showing the images that have had spot detection applied. Each bright dot encircled by a purple circle is a spot that was counted by the program.\n",
    "\n",
    "The .csv that comes out of this includes the x,y location of each individual spot (z position isn't relevant because the data is in a single plane), the frame (out of 0-279) in which it was detected (this is also a proxy for time, but I didn't scale it by the time interval), some stuff I don't really think about yet (quality, radius, visibility, manual_color), some image information (max, min, mean intensity, Std dev), a diameter estimate, contrast (idk what exactly this refers to) and the SNR (also not sure how this is computed).\n",
    "\n",
    "Finally, a much simpler file is DATA_PC1_TL10s_cropped_488.csv which is simply the mean fluorescent intensity in each of 280 frames (this one indexes from 1 lol)."
   ]
  },
  {
   "cell_type": "markdown",
   "metadata": {
    "id": "VeL7Rz1gnUNx"
   },
   "source": [
    "1. What is SNR?\n",
    "2. This video doesn't have any purple circles I think? Or is the slight purple tint on some dots the thing you are referring to? A lot of the background also seems to have a purple tint.\n",
    "3. What is the significance of having 280 images? Are you trying to see how much the protein blobs move around?"
   ]
  },
  {
   "cell_type": "markdown",
   "metadata": {
    "id": "CXu9XF8lnS1N"
   },
   "source": [
    "1. Signal to noise ratio\n",
    "2. The circles are unfortunately thin and idk how to change that rn. You need to blow up the video window as large as you can, and pause to really see them. Not hugely important tho. Just to illustrate what the data is supposed to represent.\n",
    "3. It's sorta arbitrary. It's the chosen experimental length such that I can record an entire enzymatic activation assay. The two datasets actually come from the same experiment, and if you plot out the mean intensity vs frames (ie time) from  DATA_PC1_TL10s_cropped_488.csv you can see that it forms a sigmoid. The experiment just has to be long enough to catch all that, and then also have the information about the number of blobs at each time point."
   ]
  },
  {
   "cell_type": "markdown",
   "metadata": {
    "id": "W0usA9GoxFmq"
   },
   "source": [
    "1. What are you hoping to learn from this dataset? Is the amount that the blobs move interesting in some way?\n",
    "2. What is your current method of using / understanding this data? Are you looking for the sigmoid with TrackMate, Excel, etc?\n",
    "3. Would we be allowed to share this data with workshop participants, or should we only use it as an example (not distributing the data)?"
   ]
  },
  {
   "cell_type": "markdown",
   "metadata": {
    "id": "kXLooPY9xGf7"
   },
   "source": [
    "For me, all I want is the number of blobs in each frame and the mean intensity in the other data file. What I should be able to get is a rate of reaction (how quickly the reaction signified by the sigmoidal data happens) normalized by the number of blobs in each matching frame between the two data sets. ie. for each time point, what is the rate of reaction divided by the number of blobs. Theoretically that should match some biochemical kinetic model and I can fit some observed constants, but I haven't worked that part out yet.\n",
    "\n",
    "Currently I am using ImageJ and TrackMate to output the raw data (the files I've sent are those), and the further analyzing and visualizing them in Python. I can actually share what I have so far if it'll help understand what I'm getting at in terms of the data analysis.\n",
    "\n",
    "Please only use the data as an example."
   ]
  },
  {
   "cell_type": "code",
   "execution_count": null,
   "metadata": {
    "id": "KEXRUqYxzRO4"
   },
   "outputs": [],
   "source": []
  }
 ],
 "metadata": {
  "colab": {
   "name": "PandasWorkshop.ipynb",
   "provenance": []
  },
  "kernelspec": {
   "display_name": "Python 3 (ipykernel)",
   "language": "python",
   "name": "python3"
  },
  "language_info": {
   "codemirror_mode": {
    "name": "ipython",
    "version": 3
   },
   "file_extension": ".py",
   "mimetype": "text/x-python",
   "name": "python",
   "nbconvert_exporter": "python",
   "pygments_lexer": "ipython3",
   "version": "3.9.9"
  }
 },
 "nbformat": 4,
 "nbformat_minor": 1
}
