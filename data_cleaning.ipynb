{
 "cells": [
  {
   "cell_type": "code",
   "execution_count": 22,
   "outputs": [],
   "source": [
    "import re\n",
    "import pandas as pd\n",
    "import numpy as np\n",
    "\n",
    "death_metal_df = pd.read_csv(\"https://raw.githubusercontent.com/orioncohen/metal-bands-by-nation/main/bands.csv\")\n",
    "\n",
    "def operate_on_vec(func):\n",
    "    def new_func(array):\n",
    "        list = []\n",
    "        for i in array:\n",
    "            list.append(func(i))\n",
    "        return np.array(list)\n",
    "    return new_func\n",
    "\n",
    "\n",
    "def sub_delimiters(genre_or_theme):\n",
    "    genre_or_theme = re.sub('early', \"\", genre_or_theme)\n",
    "    genre_or_theme = re.sub('later', \"\", genre_or_theme)\n",
    "    genre_or_theme = re.sub('old', \"\", genre_or_theme)\n",
    "    genre_or_theme = re.sub('mid', \"\", genre_or_theme)\n",
    "    genre_or_theme = re.sub('[\\(\\)]', \"\", genre_or_theme)\n",
    "    genre_or_theme = re.sub(' - ', \" \", genre_or_theme)\n",
    "    genre_or_theme = re.sub('\\d+', \" \", genre_or_theme)\n",
    "    return genre_or_theme.lower()\n",
    "\n",
    "@operate_on_vec\n",
    "def genre_to_list(genre):\n",
    "    genre = sub_delimiters(genre)\n",
    "    genre_list = re.split('[\\|\\ \\/]', genre)\n",
    "    genre_list = [genre for genre in genre_list if genre not in ['metal', '', 'n', 'with', 'present']]\n",
    "    return np.unique(genre_list)\n",
    "\n",
    "@operate_on_vec\n",
    "def theme_to_list(theme):\n",
    "    theme = sub_delimiters(theme)\n",
    "    genre_list = re.split('[\\|\\ \\/\\']', theme)\n",
    "    genre_list = [genre for genre in genre_list if genre not in ['metal', '', 'n', 'with', '-', ' -', '- ', 'present', '-present']]\n",
    "    return np.unique(genre_list)\n",
    "\n",
    "# genre_to_list(\"Black Metal (early)| Black/Death Metal (later)\")\n",
    "# theme_to_list(\"Paganism| Indo-European Landscapes| History\")\n",
    "# theme_to_list(\"Christianity (early| later)| War| Social Issues (mid)\")"
   ],
   "metadata": {
    "collapsed": false,
    "pycharm": {
     "name": "#%%\n"
    }
   }
  },
  {
   "cell_type": "code",
   "execution_count": 23,
   "outputs": [
    {
     "name": "stderr",
     "output_type": "stream",
     "text": [
      "<ipython-input-22-666051a54df4>:12: VisibleDeprecationWarning: Creating an ndarray from ragged nested sequences (which is a list-or-tuple of lists-or-tuples-or ndarrays with different lengths or shapes) is deprecated. If you meant to do this, you must specify 'dtype=object' when creating the ndarray.\n",
      "  return np.array(list)\n"
     ]
    }
   ],
   "source": [
    "df = death_metal_df.fillna('')\n",
    "df = df.assign(genre = lambda df: theme_to_list(df.genre))\n",
    "df = df.assign(theme = lambda df: theme_to_list(df.theme))"
   ],
   "metadata": {
    "collapsed": false,
    "pycharm": {
     "name": "#%%\n"
    }
   }
  },
  {
   "cell_type": "code",
   "execution_count": 24,
   "outputs": [],
   "source": [
    "series = df.genre.apply(pd.Series)\n",
    "genres_columns = pd.DataFrame(series).iloc[:, :4]\n",
    "genres_columns.columns = ['genre_1', 'genre_2', 'genre_3', 'genre_4']\n",
    "series = df.theme.apply(pd.Series)\n",
    "theme_columns = pd.DataFrame(series).iloc[:, :6]\n",
    "theme_columns.columns = ['theme_1', 'theme_2', 'theme_3', 'theme_4', 'theme_5', 'theme_6']"
   ],
   "metadata": {
    "collapsed": false,
    "pycharm": {
     "name": "#%%\n"
    }
   }
  },
  {
   "cell_type": "code",
   "execution_count": 25,
   "outputs": [
    {
     "data": {
      "text/plain": "          id                name        country    status formed_in  \\\n0          1          ('M') Inc.  United States   Unknown    2009.0   \n1          2               (sic)  United States  Split-up    1993.0   \n2          3           .F.O.A.D.         France    Active    2009.0   \n3          4            100 Suns  United States    Active    2004.0   \n4          5  12 Days of Anarchy  United States  Split-up    1998.0   \n...      ...                 ...            ...       ...       ...   \n37718  37719           Gladiator       Slovakia    Active    1988.0   \n37719  37720          Innersight        Hungary    Active    1997.0   \n37720  37721         Lunarsapian  International    Active    2008.0   \n37721  37722        Subconscious        Germany    Active    1990.0   \n37722  37723         Frozen Mist  United States    Active    2004.0   \n\n                                   active    genre_1 genre_2      genre_3  \\\n0                                  2009-?      death     NaN          NaN   \n1                               1993-1996      death     NaN          NaN   \n2                            2009-present      death     NaN          NaN   \n3                            2004-present      death     NaN          NaN   \n4                               1998-2002      death     NaN          NaN   \n...                                   ...        ...     ...          ...   \n37718                        1988-present      death  grunge         hard   \n37719                        1997-present    ambient   death  electronica   \n37720                        2008-present    ambient   black         dark   \n37721             1990-1997| 2002-present  crossover   death  progressive   \n37722  2004-2014| 2014-2016| 2016-present      black   death       gothic   \n\n         genre_4   theme_1   theme_2 theme_3  theme_4 theme_5 theme_6  \n0            NaN       NaN       NaN     NaN      NaN     NaN     NaN  \n1            NaN       NaN       NaN     NaN      NaN     NaN     NaN  \n2            NaN       and     death    life      NaN     NaN     NaN  \n3            NaN       NaN       NaN     NaN      NaN     NaN     NaN  \n4            NaN   anarchy       NaN     NaN      NaN     NaN     NaN  \n...          ...       ...       ...     ...      ...     ...     ...  \n37718       rock      doom   nuclear  sorrow      war     NaN     NaN  \n37719  post-rock       NaN       NaN     NaN      NaN     NaN     NaN  \n37720      death       NaN       NaN     NaN      NaN     NaN     NaN  \n37721     thrash       NaN       NaN     NaN      NaN     NaN     NaN  \n37722    melodic  ancestry  darkness   death  despair  horror   pagan  \n\n[37723 rows x 16 columns]",
      "text/html": "<div>\n<style scoped>\n    .dataframe tbody tr th:only-of-type {\n        vertical-align: middle;\n    }\n\n    .dataframe tbody tr th {\n        vertical-align: top;\n    }\n\n    .dataframe thead th {\n        text-align: right;\n    }\n</style>\n<table border=\"1\" class=\"dataframe\">\n  <thead>\n    <tr style=\"text-align: right;\">\n      <th></th>\n      <th>id</th>\n      <th>name</th>\n      <th>country</th>\n      <th>status</th>\n      <th>formed_in</th>\n      <th>active</th>\n      <th>genre_1</th>\n      <th>genre_2</th>\n      <th>genre_3</th>\n      <th>genre_4</th>\n      <th>theme_1</th>\n      <th>theme_2</th>\n      <th>theme_3</th>\n      <th>theme_4</th>\n      <th>theme_5</th>\n      <th>theme_6</th>\n    </tr>\n  </thead>\n  <tbody>\n    <tr>\n      <th>0</th>\n      <td>1</td>\n      <td>('M') Inc.</td>\n      <td>United States</td>\n      <td>Unknown</td>\n      <td>2009.0</td>\n      <td>2009-?</td>\n      <td>death</td>\n      <td>NaN</td>\n      <td>NaN</td>\n      <td>NaN</td>\n      <td>NaN</td>\n      <td>NaN</td>\n      <td>NaN</td>\n      <td>NaN</td>\n      <td>NaN</td>\n      <td>NaN</td>\n    </tr>\n    <tr>\n      <th>1</th>\n      <td>2</td>\n      <td>(sic)</td>\n      <td>United States</td>\n      <td>Split-up</td>\n      <td>1993.0</td>\n      <td>1993-1996</td>\n      <td>death</td>\n      <td>NaN</td>\n      <td>NaN</td>\n      <td>NaN</td>\n      <td>NaN</td>\n      <td>NaN</td>\n      <td>NaN</td>\n      <td>NaN</td>\n      <td>NaN</td>\n      <td>NaN</td>\n    </tr>\n    <tr>\n      <th>2</th>\n      <td>3</td>\n      <td>.F.O.A.D.</td>\n      <td>France</td>\n      <td>Active</td>\n      <td>2009.0</td>\n      <td>2009-present</td>\n      <td>death</td>\n      <td>NaN</td>\n      <td>NaN</td>\n      <td>NaN</td>\n      <td>and</td>\n      <td>death</td>\n      <td>life</td>\n      <td>NaN</td>\n      <td>NaN</td>\n      <td>NaN</td>\n    </tr>\n    <tr>\n      <th>3</th>\n      <td>4</td>\n      <td>100 Suns</td>\n      <td>United States</td>\n      <td>Active</td>\n      <td>2004.0</td>\n      <td>2004-present</td>\n      <td>death</td>\n      <td>NaN</td>\n      <td>NaN</td>\n      <td>NaN</td>\n      <td>NaN</td>\n      <td>NaN</td>\n      <td>NaN</td>\n      <td>NaN</td>\n      <td>NaN</td>\n      <td>NaN</td>\n    </tr>\n    <tr>\n      <th>4</th>\n      <td>5</td>\n      <td>12 Days of Anarchy</td>\n      <td>United States</td>\n      <td>Split-up</td>\n      <td>1998.0</td>\n      <td>1998-2002</td>\n      <td>death</td>\n      <td>NaN</td>\n      <td>NaN</td>\n      <td>NaN</td>\n      <td>anarchy</td>\n      <td>NaN</td>\n      <td>NaN</td>\n      <td>NaN</td>\n      <td>NaN</td>\n      <td>NaN</td>\n    </tr>\n    <tr>\n      <th>...</th>\n      <td>...</td>\n      <td>...</td>\n      <td>...</td>\n      <td>...</td>\n      <td>...</td>\n      <td>...</td>\n      <td>...</td>\n      <td>...</td>\n      <td>...</td>\n      <td>...</td>\n      <td>...</td>\n      <td>...</td>\n      <td>...</td>\n      <td>...</td>\n      <td>...</td>\n      <td>...</td>\n    </tr>\n    <tr>\n      <th>37718</th>\n      <td>37719</td>\n      <td>Gladiator</td>\n      <td>Slovakia</td>\n      <td>Active</td>\n      <td>1988.0</td>\n      <td>1988-present</td>\n      <td>death</td>\n      <td>grunge</td>\n      <td>hard</td>\n      <td>rock</td>\n      <td>doom</td>\n      <td>nuclear</td>\n      <td>sorrow</td>\n      <td>war</td>\n      <td>NaN</td>\n      <td>NaN</td>\n    </tr>\n    <tr>\n      <th>37719</th>\n      <td>37720</td>\n      <td>Innersight</td>\n      <td>Hungary</td>\n      <td>Active</td>\n      <td>1997.0</td>\n      <td>1997-present</td>\n      <td>ambient</td>\n      <td>death</td>\n      <td>electronica</td>\n      <td>post-rock</td>\n      <td>NaN</td>\n      <td>NaN</td>\n      <td>NaN</td>\n      <td>NaN</td>\n      <td>NaN</td>\n      <td>NaN</td>\n    </tr>\n    <tr>\n      <th>37720</th>\n      <td>37721</td>\n      <td>Lunarsapian</td>\n      <td>International</td>\n      <td>Active</td>\n      <td>2008.0</td>\n      <td>2008-present</td>\n      <td>ambient</td>\n      <td>black</td>\n      <td>dark</td>\n      <td>death</td>\n      <td>NaN</td>\n      <td>NaN</td>\n      <td>NaN</td>\n      <td>NaN</td>\n      <td>NaN</td>\n      <td>NaN</td>\n    </tr>\n    <tr>\n      <th>37721</th>\n      <td>37722</td>\n      <td>Subconscious</td>\n      <td>Germany</td>\n      <td>Active</td>\n      <td>1990.0</td>\n      <td>1990-1997| 2002-present</td>\n      <td>crossover</td>\n      <td>death</td>\n      <td>progressive</td>\n      <td>thrash</td>\n      <td>NaN</td>\n      <td>NaN</td>\n      <td>NaN</td>\n      <td>NaN</td>\n      <td>NaN</td>\n      <td>NaN</td>\n    </tr>\n    <tr>\n      <th>37722</th>\n      <td>37723</td>\n      <td>Frozen Mist</td>\n      <td>United States</td>\n      <td>Active</td>\n      <td>2004.0</td>\n      <td>2004-2014| 2014-2016| 2016-present</td>\n      <td>black</td>\n      <td>death</td>\n      <td>gothic</td>\n      <td>melodic</td>\n      <td>ancestry</td>\n      <td>darkness</td>\n      <td>death</td>\n      <td>despair</td>\n      <td>horror</td>\n      <td>pagan</td>\n    </tr>\n  </tbody>\n</table>\n<p>37723 rows × 16 columns</p>\n</div>"
     },
     "execution_count": 25,
     "metadata": {},
     "output_type": "execute_result"
    }
   ],
   "source": [
    "big_df = pd.concat([df, genres_columns], axis=1)\n",
    "big_df = pd.concat([big_df, theme_columns], axis=1)\n",
    "big_df = big_df.drop(columns=['genre', 'theme'])\n",
    "big_df"
   ],
   "metadata": {
    "collapsed": false,
    "pycharm": {
     "name": "#%%\n"
    }
   }
  },
  {
   "cell_type": "code",
   "execution_count": 26,
   "outputs": [],
   "source": [
    "big_df.to_csv('death_metal_bands.csv')"
   ],
   "metadata": {
    "collapsed": false,
    "pycharm": {
     "name": "#%%\n"
    }
   }
  }
 ],
 "metadata": {
  "kernelspec": {
   "display_name": "Python 3",
   "language": "python",
   "name": "python3"
  },
  "language_info": {
   "codemirror_mode": {
    "name": "ipython",
    "version": 2
   },
   "file_extension": ".py",
   "mimetype": "text/x-python",
   "name": "python",
   "nbconvert_exporter": "python",
   "pygments_lexer": "ipython2",
   "version": "2.7.6"
  }
 },
 "nbformat": 4,
 "nbformat_minor": 0
}